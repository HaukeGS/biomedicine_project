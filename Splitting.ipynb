{
 "cells": [
  {
   "cell_type": "code",
   "execution_count": null,
   "metadata": {},
   "outputs": [
    {
     "name": "stdout",
     "output_type": "stream",
     "text": [
      "Defaulting to user installation because normal site-packages is not writeable\n",
      "Requirement already satisfied: anndata in c:\\users\\maipi\\appdata\\local\\packages\\pythonsoftwarefoundation.python.3.12_qbz5n2kfra8p0\\localcache\\local-packages\\python312\\site-packages (0.11.3)\n",
      "Requirement already satisfied: array-api-compat!=1.5,>1.4 in c:\\users\\maipi\\appdata\\local\\packages\\pythonsoftwarefoundation.python.3.12_qbz5n2kfra8p0\\localcache\\local-packages\\python312\\site-packages (from anndata) (1.10.0)\n",
      "Requirement already satisfied: h5py>=3.7 in c:\\users\\maipi\\appdata\\local\\packages\\pythonsoftwarefoundation.python.3.12_qbz5n2kfra8p0\\localcache\\local-packages\\python312\\site-packages (from anndata) (3.13.0)\n",
      "Requirement already satisfied: natsort in c:\\users\\maipi\\appdata\\local\\packages\\pythonsoftwarefoundation.python.3.12_qbz5n2kfra8p0\\localcache\\local-packages\\python312\\site-packages (from anndata) (8.4.0)\n",
      "Requirement already satisfied: numpy>=1.23 in c:\\users\\maipi\\appdata\\local\\packages\\pythonsoftwarefoundation.python.3.12_qbz5n2kfra8p0\\localcache\\local-packages\\python312\\site-packages (from anndata) (2.1.2)\n",
      "Requirement already satisfied: packaging>=20.0 in c:\\users\\maipi\\appdata\\local\\packages\\pythonsoftwarefoundation.python.3.12_qbz5n2kfra8p0\\localcache\\local-packages\\python312\\site-packages (from anndata) (24.1)\n",
      "Requirement already satisfied: pandas!=2.1.0rc0,!=2.1.2,>=1.4 in c:\\users\\maipi\\appdata\\local\\packages\\pythonsoftwarefoundation.python.3.12_qbz5n2kfra8p0\\localcache\\local-packages\\python312\\site-packages (from anndata) (2.2.3)\n",
      "Requirement already satisfied: scipy>1.8 in c:\\users\\maipi\\appdata\\local\\packages\\pythonsoftwarefoundation.python.3.12_qbz5n2kfra8p0\\localcache\\local-packages\\python312\\site-packages (from anndata) (1.14.1)\n",
      "Requirement already satisfied: python-dateutil>=2.8.2 in c:\\users\\maipi\\appdata\\local\\packages\\pythonsoftwarefoundation.python.3.12_qbz5n2kfra8p0\\localcache\\local-packages\\python312\\site-packages (from pandas!=2.1.0rc0,!=2.1.2,>=1.4->anndata) (2.9.0.post0)\n",
      "Requirement already satisfied: pytz>=2020.1 in c:\\users\\maipi\\appdata\\local\\packages\\pythonsoftwarefoundation.python.3.12_qbz5n2kfra8p0\\localcache\\local-packages\\python312\\site-packages (from pandas!=2.1.0rc0,!=2.1.2,>=1.4->anndata) (2025.1)\n",
      "Requirement already satisfied: tzdata>=2022.7 in c:\\users\\maipi\\appdata\\local\\packages\\pythonsoftwarefoundation.python.3.12_qbz5n2kfra8p0\\localcache\\local-packages\\python312\\site-packages (from pandas!=2.1.0rc0,!=2.1.2,>=1.4->anndata) (2025.1)\n",
      "Requirement already satisfied: six>=1.5 in c:\\users\\maipi\\appdata\\local\\packages\\pythonsoftwarefoundation.python.3.12_qbz5n2kfra8p0\\localcache\\local-packages\\python312\\site-packages (from python-dateutil>=2.8.2->pandas!=2.1.0rc0,!=2.1.2,>=1.4->anndata) (1.16.0)\n",
      "Note: you may need to restart the kernel to use updated packages.\n"
     ]
    },
    {
     "name": "stderr",
     "output_type": "stream",
     "text": [
      "\n",
      "[notice] A new release of pip is available: 24.3.1 -> 25.0.1\n",
      "[notice] To update, run: C:\\Users\\maipi\\AppData\\Local\\Microsoft\\WindowsApps\\PythonSoftwareFoundation.Python.3.12_qbz5n2kfra8p0\\python.exe -m pip install --upgrade pip\n"
     ]
    }
   ],
   "source": [
    "import anndata\n",
    "import tarfile\n",
    "import os\n",
    "from tqdm import tqdm"
   ]
  },
  {
   "cell_type": "code",
   "execution_count": null,
   "metadata": {},
   "outputs": [
    {
     "name": "stderr",
     "output_type": "stream",
     "text": [
      "C:\\Users\\maipi\\AppData\\Local\\Temp\\ipykernel_25368\\2697750480.py:12: DeprecationWarning: Python 3.14 will, by default, filter extracted tar archives and reject files or modify their metadata. Use the filter argument to control this behavior.\n",
      "  tar.extractall(path=extract_path)\n"
     ]
    },
    {
     "name": "stdout",
     "output_type": "stream",
     "text": [
      "Entpacken abgeschlossen!\n",
      "Entpackte .h5ad-Datei: C:\\Users\\maipi\\OneDrive\\Uni\\3. Mastersemester\\Ai Foundation\\dataset_split\\COVID19_ALL.h5ad\n"
     ]
    }
   ],
   "source": [
    "# Datei-Pfad\n",
    "tar_path = r\"data\\COVID19_ALL.h5ad.tar.gz\"\n",
    "extract_path = r\"data\\dataset_split\"\n",
    "\n",
    "# Entpacken\n",
    "os.makedirs(extract_path, exist_ok=True)  # Sicherstellen, dass der Zielordner existiert\n",
    "\n",
    "with tarfile.open(tar_path, \"r:gz\") as tar:\n",
    "    tar.extractall(path=extract_path)\n",
    "\n",
    "print(\"Entpacken abgeschlossen!\")\n",
    "\n",
    "# Finde die entpackte .h5ad-Datei\n",
    "h5ad_file = [f for f in os.listdir(extract_path) if f.endswith(\".h5ad\")][0]\n",
    "h5ad_path = os.path.join(extract_path, h5ad_file)\n",
    "\n",
    "print(f\"Entpackte .h5ad-Datei: {h5ad_path}\")\n"
   ]
  },
  {
   "cell_type": "code",
   "execution_count": null,
   "metadata": {},
   "outputs": [
    {
     "name": "stderr",
     "output_type": "stream",
     "text": [
      "Splitting: 100%|██████████| 10/10 [11:50<00:00, 71.03s/file]"
     ]
    },
    {
     "name": "stdout",
     "output_type": "stream",
     "text": [
      "✅ Splitting abgeschlossen!\n"
     ]
    },
    {
     "name": "stderr",
     "output_type": "stream",
     "text": [
      "\n"
     ]
    }
   ],
   "source": [
    "# Große Datei laden (Backed-Modus für Speicheroptimierung)\n",
    "adata = anndata.read_h5ad(h5ad_path, backed=\"r\")\n",
    "\n",
    "# Split-Einstellungen\n",
    "num_splits = 10  # Anzahl der gewünschten Teil-Dateien\n",
    "split_size = len(adata) // num_splits  # Anzahl der Zellen pro Datei\n",
    "\n",
    "split_folder = extract_path\n",
    "os.makedirs(split_folder, exist_ok=True)\n",
    "\n",
    "# tqdm für Fortschrittsanzeige\n",
    "for i in tqdm(range(num_splits), desc=\"Splitting\", unit=\"file\"):\n",
    "    start = i * split_size\n",
    "    end = (i + 1) * split_size if i < num_splits - 1 else len(adata)\n",
    "\n",
    "    adata_sub = adata[start:end].to_memory()  # In den RAM laden\n",
    "    split_path = os.path.join(split_folder, f\"split_{i}.h5ad\")\n",
    "    adata_sub.write_h5ad(split_path)\n",
    "\n",
    "print(\"✅ Splitting abgeschlossen!\")\n"
   ]
  }
 ],
 "metadata": {
  "kernelspec": {
   "display_name": "Python 3",
   "language": "python",
   "name": "python3"
  },
  "language_info": {
   "codemirror_mode": {
    "name": "ipython",
    "version": 3
   },
   "file_extension": ".py",
   "mimetype": "text/x-python",
   "name": "python",
   "nbconvert_exporter": "python",
   "pygments_lexer": "ipython3",
   "version": "3.12.9"
  }
 },
 "nbformat": 4,
 "nbformat_minor": 2
}
