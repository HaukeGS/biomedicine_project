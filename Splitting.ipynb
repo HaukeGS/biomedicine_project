{
 "cells": [
  {
   "cell_type": "code",
   "execution_count": 1,
   "metadata": {},
   "outputs": [],
   "source": [
    "\n",
    "import anndata\n",
    "import tarfile\n",
    "import os\n",
    "from tqdm import tqdm\n"
   ]
  },
  {
   "cell_type": "code",
   "execution_count": 4,
   "metadata": {},
   "outputs": [
    {
     "name": "stdout",
     "output_type": "stream",
     "text": [
      "Entpackte .h5ad-Datei: data\\dataset_split\\COVID19_ALL.h5ad\n"
     ]
    }
   ],
   "source": [
    "\n",
    "\n",
    "# Datei-Pfad\n",
    "tar_path = r\"data\\COVID19_ALL.h5ad.tar.gz\"\n",
    "extract_path = r\"data\\dataset_split\"\n",
    "\n",
    "# Entpacken\n",
    "# os.makedirs(extract_path, exist_ok=True)  # Sicherstellen, dass der Zielordner existiert\n",
    "\n",
    "# with tarfile.open(tar_path, \"r:gz\") as tar:\n",
    "#     tar.extractall(path=extract_path)\n",
    "\n",
    "# print(\"Entpacken abgeschlossen!\")\n",
    "\n",
    "# Finde die entpackte .h5ad-Datei\n",
    "h5ad_file = [f for f in os.listdir(extract_path) if f.endswith(\".h5ad\")][0]\n",
    "h5ad_path = os.path.join(extract_path, h5ad_file)\n",
    "\n",
    "print(f\"Entpackte .h5ad-Datei: {h5ad_path}\")\n"
   ]
  },
  {
   "cell_type": "code",
   "execution_count": 5,
   "metadata": {},
   "outputs": [
    {
     "name": "stderr",
     "output_type": "stream",
     "text": [
      "Splitting: 100%|██████████| 25/25 [27:11<00:00, 65.28s/file]"
     ]
    },
    {
     "name": "stdout",
     "output_type": "stream",
     "text": [
      "✅ Splitting abgeschlossen!\n"
     ]
    },
    {
     "name": "stderr",
     "output_type": "stream",
     "text": [
      "\n"
     ]
    }
   ],
   "source": [
    "\n",
    "\n",
    "# Große Datei laden (Backed-Modus für Speicheroptimierung)\n",
    "adata = anndata.read_h5ad(h5ad_path, backed=\"r\")\n",
    "\n",
    "# Split-Einstellungen\n",
    "num_splits = 25  # Anzahl der gewünschten Teil-Dateien\n",
    "split_size = len(adata) // num_splits  # Anzahl der Zellen pro Datei\n",
    "\n",
    "split_folder = r\"data\\dataset_split_small\"\n",
    "os.makedirs(split_folder, exist_ok=True)\n",
    "\n",
    "# tqdm für Fortschrittsanzeige\n",
    "for i in tqdm(range(num_splits), desc=\"Splitting\", unit=\"file\"):\n",
    "    start = i * split_size\n",
    "    end = (i + 1) * split_size if i < num_splits - 1 else len(adata)\n",
    "\n",
    "    adata_sub = adata[start:end].to_memory()  # In den RAM laden\n",
    "    split_path = os.path.join(split_folder, f\"split_{i}.h5ad\")\n",
    "    adata_sub.write_h5ad(split_path)\n",
    "\n",
    "print(\"✅ Splitting abgeschlossen!\")\n"
   ]
  },
  {
   "cell_type": "code",
   "execution_count": null,
   "metadata": {},
   "outputs": [],
   "source": []
  }
 ],
 "metadata": {
  "kernelspec": {
   "display_name": "Python 3",
   "language": "python",
   "name": "python3"
  },
  "language_info": {
   "codemirror_mode": {
    "name": "ipython",
    "version": 3
   },
   "file_extension": ".py",
   "mimetype": "text/x-python",
   "name": "python",
   "nbconvert_exporter": "python",
   "pygments_lexer": "ipython3",
   "version": "3.13.2"
  }
 },
 "nbformat": 4,
 "nbformat_minor": 2
}
