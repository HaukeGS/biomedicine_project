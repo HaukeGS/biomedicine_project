{
  "cells": [
    {
      "cell_type": "markdown",
      "source": [
        "# Initialization & Setup"
      ],
      "metadata": {
        "id": "xtcgHa5COAs_"
      }
    },
    {
      "cell_type": "code",
      "execution_count": 336,
      "metadata": {
        "id": "J-nJiaMqar7p"
      },
      "outputs": [],
      "source": [
        "import os\n",
        "import pandas as pd\n",
        "import torch\n",
        "import torchvision.transforms as transforms\n",
        "from torch.utils.data import Dataset, DataLoader, random_split\n",
        "from torch import nn, optim\n",
        "from google.colab import drive\n",
        "from tqdm import tqdm"
      ]
    },
    {
      "cell_type": "code",
      "execution_count": 337,
      "metadata": {
        "colab": {
          "base_uri": "https://localhost:8080/"
        },
        "id": "t2YIikC3b3rb",
        "outputId": "f3e3ca96-87a7-4a5d-aaca-76bf2102592a"
      },
      "outputs": [
        {
          "output_type": "stream",
          "name": "stdout",
          "text": [
            "Drive already mounted at /content/drive; to attempt to forcibly remount, call drive.mount(\"/content/drive\", force_remount=True).\n"
          ]
        }
      ],
      "source": [
        "drive.mount('/content/drive')"
      ]
    },
    {
      "cell_type": "code",
      "execution_count": 338,
      "metadata": {
        "colab": {
          "base_uri": "https://localhost:8080/"
        },
        "id": "5IGJ2xusxekd",
        "outputId": "908f70a5-89ae-470b-8214-fcb0922d3a8f"
      },
      "outputs": [
        {
          "output_type": "stream",
          "name": "stdout",
          "text": [
            "Device is: cuda\n",
            "\n"
          ]
        }
      ],
      "source": [
        "device = torch.device(\"cuda\" if torch.cuda.is_available() else \"cpu\")\n",
        "print(f\"Device is: {device}\\n\")"
      ]
    },
    {
      "cell_type": "code",
      "execution_count": 339,
      "metadata": {
        "id": "du_NFI00cDnx"
      },
      "outputs": [],
      "source": [
        "data_path = '/content/drive/MyDrive/biomedicine/embedded_data/'"
      ]
    },
    {
      "cell_type": "markdown",
      "metadata": {
        "id": "Kn6-uMo-vNY1"
      },
      "source": [
        "# Hyper- and Controlparameter"
      ]
    },
    {
      "cell_type": "code",
      "execution_count": 340,
      "metadata": {
        "id": "k0yW-SUWzh1m"
      },
      "outputs": [],
      "source": [
        "# Controlparameter\n",
        "\n",
        "LOAD_FROM_DRIVE = False\n",
        "SAVE_TO_DRIVE = True"
      ]
    },
    {
      "cell_type": "code",
      "execution_count": 341,
      "metadata": {
        "id": "ZpPHuDWPvGIP"
      },
      "outputs": [],
      "source": [
        "# HYPERPARAMETER\n",
        "\n",
        "BATCH_SIZE = 128\n",
        "LEARNING_RATE = 0.0001\n",
        "NUM_EPOCHS = 10"
      ]
    },
    {
      "cell_type": "markdown",
      "metadata": {
        "id": "Lu8pwzyWvQAt"
      },
      "source": [
        "# Custom Dataset & Data Preparation"
      ]
    },
    {
      "cell_type": "code",
      "execution_count": 342,
      "metadata": {
        "id": "erJSlcIOrgTz"
      },
      "outputs": [],
      "source": [
        "label_map = {\n",
        "    'control': 0,\n",
        "    'mild/moderate': 1,\n",
        "    'severe/critical': 2,\n",
        "    'progression': 1,\n",
        "    'convalescence': 2,\n",
        "}"
      ]
    },
    {
      "cell_type": "code",
      "execution_count": 343,
      "metadata": {
        "id": "uFjfMgZacWol"
      },
      "outputs": [],
      "source": [
        "class EmbeddedDataset(Dataset):\n",
        "    def __init__(self, pkl_file, minimum=0, n_samples=0):\n",
        "        self.data = pd.read_pickle(pkl_file)\n",
        "        self.minimum = minimum\n",
        "        self.downsample_labels()\n",
        "\n",
        "\n",
        "        unique_labels = pd.unique(self.data['severity'])\n",
        "        celltypes = pd.unique(self.data['celltype'])\n",
        "        # print(f\"unique cell types: {cell_types}\")\n",
        "        label_counts = {}\n",
        "        for label in self.data['severity']:\n",
        "            label_counts[label] = label_counts.get(label, 0) + 1\n",
        "        print(f\"unique labels: {unique_labels}\")\n",
        "        print(f\"label counts: {label_counts}\")\n",
        "        print(self.data.head())\n",
        "        if minimum != 0:\n",
        "            self.enforce_minimum()\n",
        "            if n_samples > 0:\n",
        "                self.enforce_number_of_samples(n_samples, self.minimum)\n",
        "                self.find_equal_distribution_with_number_of_samples(len(self.cell_types_list()), n_samples)\n",
        "            else:\n",
        "                print(\"Implement minimum again\")\n",
        "        elif n_samples > 0:\n",
        "            raise Exception(\"Illegal to specify number of samples without a minimum. How are we supposed to know what kind of distribution you want?\")\n",
        "\n",
        "    def cell_types_list(self):\n",
        "        return list(pd.unique(self.data['celltype']))\n",
        "    def distribution_cell_types(self):\n",
        "        return self.data['celltype'].value_counts()\n",
        "\n",
        "    def find_equal_distribution_with_number_of_samples(self, n_celltypes, n_samples):\n",
        "        \"\"\"Recursively finds a fitting distribution for the specified number of samples and minimum number of samples per celltype\"\"\"\n",
        "        if n_celltypes == 0:\n",
        "            raise Exception(f\"Could not find a valid data distribution for your combination of n_samples ({n_samples}) and minimum ({self.minimum}). \\n Consider decreasing one or both of them to get a valid distribution.\")\n",
        "        nth_celltype_count = self.distribution_cell_types().iloc[n_celltypes-1]\n",
        "        if(nth_celltype_count * n_celltypes > n_samples):\n",
        "            self.downsample_celltypes(n_celltypes, n_samples)\n",
        "        else:\n",
        "            self.find_equal_distribution_with_number_of_samples(n_celltypes-1, n_samples)\n",
        "\n",
        "    def enforce_minimum(self):\n",
        "        \"\"\"Cut all celltypes that does not have at least minimum samples\"\"\"\n",
        "        minimum_fulfilling_celltypes = self.distribution_cell_types()[self.distribution_cell_types() >= self.minimum].index\n",
        "        self.data = self.data[self.data['celltype'].isin(minimum_fulfilling_celltypes)]\n",
        "\n",
        "    def enforce_number_of_samples(self, n_samples, minimum):\n",
        "        \"\"\"Truncate the celltypes to a number of celltypes that suffice to reach the number of samples, while providing the minimum number of samples per celltype.\n",
        "        Always prefer celltypes with more counts over celltypes with less counts.\"\"\"\n",
        "        n_celltypes = min((n_samples // minimum), len(self.cell_types_list()))\n",
        "        self.data = self.data[self.data['celltype'].isin(self.distribution_cell_types().iloc[:n_celltypes].index)]\n",
        "\n",
        "    def downsample_labels(self):\n",
        "        \"\"\"Downsamples the data to achieve equal label distribution for severity within each cell type\"\"\"\n",
        "        cell_types = self.cell_types_list()\n",
        "        downsampled_data = pd.DataFrame()\n",
        "        for cell_type in cell_types:\n",
        "            cell_type_data = self.data[self.data['celltype'] == cell_type]\n",
        "            label_counts = cell_type_data['severity'].value_counts()\n",
        "            min_count = label_counts.min()\n",
        "            sampled_data = pd.DataFrame()\n",
        "            for label in label_counts.index:\n",
        "                label_data = cell_type_data[cell_type_data['severity'] == label]\n",
        "                sampled_label_data = label_data.sample(n=min_count, random_state=42)\n",
        "                sampled_data = pd.concat([sampled_data, sampled_label_data])\n",
        "            downsampled_data = pd.concat([downsampled_data, sampled_data])\n",
        "        self.data = downsampled_data\n",
        "\n",
        "    def downsample_celltypes(self, n_celltypes, n_samples):\n",
        "        \"\"\"Downsamples the data to achieve equal celltype distribution while providing the specified number of total samples\"\"\"\n",
        "        n = n_samples // n_celltypes\n",
        "        difference = n_samples - (n * n_celltypes)\n",
        "        valid_celltypes = self.distribution_cell_types().iloc[:n_celltypes].index\n",
        "        downsampled_data = pd.DataFrame()\n",
        "        for i, cell_type in enumerate(valid_celltypes):\n",
        "            cell_type_data = self.data[self.data['celltype'] == cell_type]\n",
        "            if i < difference:\n",
        "                sampled_data = cell_type_data.sample(n=n+1, random_state=42)\n",
        "            else:\n",
        "                sampled_data = cell_type_data.sample(n=n, random_state=42)\n",
        "            downsampled_data = pd.concat([downsampled_data, sampled_data])\n",
        "        self.data = downsampled_data\n",
        "        sample_sum = sum([x for x in self.data['celltype'].value_counts().values])\n",
        "        print(f\"\\nSum of samples: {sample_sum}\")\n",
        "        print(f\"Number of celltypes: {len(self.data['celltype'].value_counts())}\")\n",
        "\n",
        "    def __len__(self):\n",
        "        return len(self.data)\n",
        "\n",
        "    def __getitem__(self, idx):\n",
        "        embeddings = torch.tensor(self.data.iloc[idx, 0], dtype=torch.float32)\n",
        "        label_state = torch.tensor(label_map.get(self.data.iloc[idx, 1]), dtype=torch.long)\n",
        "        label_severity = torch.tensor(label_map.get(self.data.iloc[idx, 3]), dtype=torch.long)\n",
        "        cell_type = self.data.iloc[idx, 2]\n",
        "\n",
        "        return embeddings, label_severity, label_state, cell_type"
      ]
    },
    {
      "cell_type": "markdown",
      "source": [
        "## Data Distribution"
      ],
      "metadata": {
        "id": "bEc-V2xFOH5y"
      }
    },
    {
      "cell_type": "code",
      "source": [
        "TOTAL_NUMBER_OF_SAMPLES = 60 * 1000\n",
        "MINIMUM_NUMBER_OF_SAMPLES_PER_CELLTYPE = 15 * 1000"
      ],
      "metadata": {
        "id": "uNb410WFJBHk"
      },
      "execution_count": 344,
      "outputs": []
    },
    {
      "cell_type": "code",
      "execution_count": 345,
      "metadata": {
        "colab": {
          "base_uri": "https://localhost:8080/"
        },
        "id": "_Pac04bTdTov",
        "outputId": "084e0475-942e-4b65-98fc-92c9cb64a887"
      },
      "outputs": [
        {
          "output_type": "stream",
          "name": "stdout",
          "text": [
            "unique labels: ['severe/critical' 'mild/moderate' 'control']\n",
            "label counts: {'severe/critical': 166047, 'mild/moderate': 166005, 'control': 164256}\n",
            "                                                embeddings         severity  \\\n",
            "1426289  [0.045433894, -0.0043206816, -0.008506793, -0....  severe/critical   \n",
            "234867   [0.036496725, -0.009099111, -0.019840367, -0.0...  severe/critical   \n",
            "822203   [0.040514573, -0.0162694, -0.008460669, 0.0049...  severe/critical   \n",
            "234348   [0.04210682, -0.023745155, -0.01684023, -0.013...  severe/critical   \n",
            "1291850  [0.03699777, -0.0076743234, -0.0266033, -0.014...  severe/critical   \n",
            "\n",
            "                      celltype    Sample time  \n",
            "1426289  Mono_c2-CD14-HLA-DPB1  convalescence  \n",
            "234867   Mono_c2-CD14-HLA-DPB1  convalescence  \n",
            "822203   Mono_c2-CD14-HLA-DPB1  convalescence  \n",
            "234348   Mono_c2-CD14-HLA-DPB1  convalescence  \n",
            "1291850  Mono_c2-CD14-HLA-DPB1    progression  \n",
            "\n",
            "Sum of samples: 60000\n",
            "Number of celltypes: 4\n"
          ]
        }
      ],
      "source": [
        "dataset = EmbeddedDataset(os.path.join(data_path, 'embedded_data_split_severity_celltype_progression_all.pkl'),MINIMUM_NUMBER_OF_SAMPLES_PER_CELLTYPE,TOTAL_NUMBER_OF_SAMPLES)\n"
      ]
    },
    {
      "cell_type": "code",
      "execution_count": 346,
      "metadata": {
        "colab": {
          "base_uri": "https://localhost:8080/",
          "height": 241
        },
        "id": "GFm_iWbOnmYI",
        "outputId": "c94d652d-530b-4be5-f2fd-b527a6d5ecdf"
      },
      "outputs": [
        {
          "output_type": "execute_result",
          "data": {
            "text/plain": [
              "celltype\n",
              "T_CD4_c01-LEF1       15000\n",
              "T_CD8_c01-LEF1       15000\n",
              "Mono_c3-CD14-VCAN    15000\n",
              "T_CD8_c05-ZNF683     15000\n",
              "Name: count, dtype: int64"
            ],
            "text/html": [
              "<div>\n",
              "<style scoped>\n",
              "    .dataframe tbody tr th:only-of-type {\n",
              "        vertical-align: middle;\n",
              "    }\n",
              "\n",
              "    .dataframe tbody tr th {\n",
              "        vertical-align: top;\n",
              "    }\n",
              "\n",
              "    .dataframe thead th {\n",
              "        text-align: right;\n",
              "    }\n",
              "</style>\n",
              "<table border=\"1\" class=\"dataframe\">\n",
              "  <thead>\n",
              "    <tr style=\"text-align: right;\">\n",
              "      <th></th>\n",
              "      <th>count</th>\n",
              "    </tr>\n",
              "    <tr>\n",
              "      <th>celltype</th>\n",
              "      <th></th>\n",
              "    </tr>\n",
              "  </thead>\n",
              "  <tbody>\n",
              "    <tr>\n",
              "      <th>T_CD4_c01-LEF1</th>\n",
              "      <td>15000</td>\n",
              "    </tr>\n",
              "    <tr>\n",
              "      <th>T_CD8_c01-LEF1</th>\n",
              "      <td>15000</td>\n",
              "    </tr>\n",
              "    <tr>\n",
              "      <th>Mono_c3-CD14-VCAN</th>\n",
              "      <td>15000</td>\n",
              "    </tr>\n",
              "    <tr>\n",
              "      <th>T_CD8_c05-ZNF683</th>\n",
              "      <td>15000</td>\n",
              "    </tr>\n",
              "  </tbody>\n",
              "</table>\n",
              "</div><br><label><b>dtype:</b> int64</label>"
            ]
          },
          "metadata": {},
          "execution_count": 346
        }
      ],
      "source": [
        "dataset.distribution_cell_types()"
      ]
    },
    {
      "cell_type": "code",
      "source": [
        "print(f\"Number of different celltypes: {len(dataset.cell_types_list())}\")"
      ],
      "metadata": {
        "colab": {
          "base_uri": "https://localhost:8080/"
        },
        "id": "LWoOOFwDM_0A",
        "outputId": "edc08f46-1e35-4c38-d431-b12975e1934b"
      },
      "execution_count": 347,
      "outputs": [
        {
          "output_type": "stream",
          "name": "stdout",
          "text": [
            "Number of different celltypes: 4\n"
          ]
        }
      ]
    },
    {
      "cell_type": "code",
      "source": [
        "# total_count = 0\n",
        "# for i, (celltype, count) in enumerate(dataset.distribution_cell_types().items()):\n",
        "#   total_count += count\n",
        "#   print(f\"{i:3} {celltype:28} {count} {total_count:7}\")"
      ],
      "metadata": {
        "id": "J_qcW-hWKWjo"
      },
      "execution_count": 348,
      "outputs": []
    },
    {
      "cell_type": "code",
      "execution_count": 349,
      "metadata": {
        "colab": {
          "base_uri": "https://localhost:8080/"
        },
        "id": "_qILuHRdhu8j",
        "outputId": "127d0e8c-b672-4ea4-b5af-2c03a8b3697a"
      },
      "outputs": [
        {
          "output_type": "stream",
          "name": "stdout",
          "text": [
            "Drive already mounted at /content/drive; to attempt to forcibly remount, call drive.mount(\"/content/drive\", force_remount=True).\n"
          ]
        }
      ],
      "source": [
        "from google.colab import drive\n",
        "drive.mount('/content/drive')"
      ]
    },
    {
      "cell_type": "code",
      "execution_count": 350,
      "metadata": {
        "id": "FduZTm4jhIH6"
      },
      "outputs": [],
      "source": [
        "train_size = int(0.8 * len(dataset))\n",
        "test_size = len(dataset) - train_size\n",
        "\n",
        "train_dataset, test_dataset = random_split(dataset, [train_size, test_size])"
      ]
    },
    {
      "cell_type": "code",
      "execution_count": 351,
      "metadata": {
        "id": "LFLzlS0kvAdY"
      },
      "outputs": [],
      "source": [
        "train_loader = DataLoader(train_dataset, batch_size=BATCH_SIZE, shuffle=True)\n",
        "test_loader = DataLoader(test_dataset, batch_size=BATCH_SIZE, shuffle=False)"
      ]
    },
    {
      "cell_type": "code",
      "execution_count": 352,
      "metadata": {
        "colab": {
          "base_uri": "https://localhost:8080/"
        },
        "id": "Bp8Ct-gYvhVZ",
        "outputId": "0f847057-b6bb-4116-bee1-c4d023c9529f"
      },
      "outputs": [
        {
          "output_type": "stream",
          "name": "stdout",
          "text": [
            "<class 'torch.Tensor'>\n",
            "<class 'torch.Tensor'>\n",
            "<class 'torch.Tensor'>\n",
            "<class 'int'>\n",
            "<class 'int'>\n",
            "tensor([0, 1, 1, 1, 1, 0, 2, 1, 2, 2, 0, 1, 2, 0, 0, 0, 0, 2, 0, 0, 2, 2, 0, 2,\n",
            "        0, 2, 2, 2, 0, 1, 2, 1, 1, 0, 2, 0, 0, 0, 2, 0, 0, 1, 0, 2, 0, 2, 1, 0,\n",
            "        2, 1, 2, 2, 2, 0, 2, 1, 0, 0, 1, 0, 2, 2, 2, 0, 0, 1, 0, 1, 0, 0, 0, 2,\n",
            "        0, 0, 1, 2, 1, 0, 1, 2, 0, 2, 0, 2, 0, 2, 1, 2, 2, 1, 2, 2, 0, 2, 1, 2,\n",
            "        1, 2, 2, 2, 1, 2, 2, 1, 2, 2, 0, 1, 2, 2, 0, 2, 1, 0, 0, 2, 1, 1, 0, 0,\n",
            "        2, 2, 2, 1, 0, 2, 2, 0])\n",
            "tensor([0, 1, 2, 2, 1, 0, 1, 2, 2, 1, 0, 1, 1, 0, 0, 0, 0, 1, 0, 0, 2, 1, 0, 2,\n",
            "        0, 2, 1, 1, 0, 2, 1, 2, 1, 0, 1, 0, 0, 0, 1, 0, 0, 2, 0, 2, 0, 1, 1, 0,\n",
            "        1, 2, 2, 1, 2, 0, 2, 2, 0, 0, 2, 0, 2, 1, 1, 0, 0, 1, 0, 1, 0, 0, 0, 1,\n",
            "        0, 0, 2, 2, 1, 0, 2, 2, 0, 1, 0, 1, 0, 1, 2, 1, 1, 2, 1, 1, 0, 1, 2, 1,\n",
            "        2, 1, 1, 1, 2, 2, 2, 1, 2, 1, 0, 1, 2, 2, 0, 2, 2, 0, 0, 2, 2, 2, 0, 0,\n",
            "        2, 2, 1, 2, 0, 1, 2, 0])\n"
          ]
        }
      ],
      "source": [
        "for (embeddings, labels_severity,labels_state,_) in train_loader:\n",
        "    print(type(embeddings[0]))\n",
        "    print(type(labels_severity[0]))\n",
        "    print(type(embeddings[0][0]))\n",
        "    print(type(labels_severity[0].item()))\n",
        "    print(type(labels_state[0].item()))\n",
        "    print(labels_severity)\n",
        "    print(labels_state)\n",
        "    break"
      ]
    },
    {
      "cell_type": "markdown",
      "metadata": {
        "id": "i3sNfm7dvb2o"
      },
      "source": [
        "# Model Architecture\n"
      ]
    },
    {
      "cell_type": "code",
      "execution_count": 353,
      "metadata": {
        "id": "q26P_D3UvdWu"
      },
      "outputs": [],
      "source": [
        "class Classifier(torch.nn.Module):\n",
        "    def __init__(self):\n",
        "        super(Classifier, self).__init__()\n",
        "        self.layers = nn.Sequential(\n",
        "            nn.Linear(in_features=512, out_features=1024),\n",
        "            nn.LeakyReLU(0.2),\n",
        "            nn.Linear(in_features=1024, out_features=2048),\n",
        "            nn.LeakyReLU(0.2),\n",
        "            nn.Linear(in_features=2048, out_features=2048),\n",
        "            nn.LeakyReLU(0.2),\n",
        "            nn.Linear(in_features=2048, out_features=1024),\n",
        "            nn.LeakyReLU(0.2),\n",
        "            nn.Linear(in_features=1024, out_features=1024),\n",
        "            nn.LeakyReLU(0.2),\n",
        "            nn.Linear(in_features=1024, out_features=3),\n",
        "        )\n",
        "\n",
        "    def forward(self, x):\n",
        "        return self.layers(x)"
      ]
    },
    {
      "cell_type": "code",
      "execution_count": 354,
      "metadata": {
        "id": "Ll9Gc-pfmo5G"
      },
      "outputs": [],
      "source": [
        "# Training Loop\n",
        "def train(model, train_loader, num_epochs, optimizer, criterion):\n",
        "    model.to(device)  # Move model to device ONCE\n",
        "    model.train()  # Set model to training mode\n",
        "\n",
        "    for epoch in range(num_epochs):\n",
        "        running_loss = 0.0\n",
        "        dataloader = tqdm(train_loader, desc=f\"Epoch {epoch+1}/{num_epochs}\")\n",
        "\n",
        "        for i, (embeddings, severity_labels, state_labels, celltype) in enumerate(dataloader):\n",
        "            embeddings = embeddings.to(device)\n",
        "            severity_labels = severity_labels.to(device).long()  # Labels: 0=Control, 1=Mild, 2=Severe\n",
        "            state_labels = state_labels.to(device).long()  # Labels: 0=Control, 1=Progression, 2=Convalescence\n",
        "\n",
        "            optimizer.zero_grad()\n",
        "            output = model(embeddings)  # Get raw logits\n",
        "\n",
        "            loss = criterion(output, severity_labels)  # Compute loss\n",
        "            loss.backward()  # Backpropagation\n",
        "            optimizer.step()  # Update weights\n",
        "\n",
        "            running_loss += loss.item()\n",
        "            dataloader.set_postfix({\"Loss\": running_loss / (i + 1)})  # Show average loss per batch\n"
      ]
    },
    {
      "cell_type": "code",
      "execution_count": 355,
      "metadata": {
        "id": "f5gZvfHiyz3e",
        "colab": {
          "base_uri": "https://localhost:8080/"
        },
        "outputId": "2b3d9ccf-fc0b-49bf-da45-29e61920d905"
      },
      "outputs": [
        {
          "output_type": "stream",
          "name": "stdout",
          "text": [
            "content/MyDrive/biomedicine/models/classifier/classifier_model_60000_60000.pth\n"
          ]
        }
      ],
      "source": [
        "# directory paths to google drive for model saving and retrieving\n",
        "\n",
        "directory_path = 'content/MyDrive/biomedicine/models/classifier'\n",
        "\n",
        "model_path = os.path.join(directory_path, f\"classifier_model_{TOTAL_NUMBER_OF_SAMPLES}_{TOTAL_NUMBER_OF_SAMPLES}.pth\")\n",
        "\n",
        "print(model_path)"
      ]
    },
    {
      "cell_type": "code",
      "execution_count": 356,
      "metadata": {
        "id": "-Rz_PSGpsbgR"
      },
      "outputs": [],
      "source": [
        "# custom weights initialization\n",
        "def weights_init(m):\n",
        "    classname = m.__class__.__name__\n",
        "    if classname.find('Linear') != -1:\n",
        "        nn.init.normal_(m.weight.data, 0.0, 1/m.weight.shape[1])"
      ]
    },
    {
      "cell_type": "code",
      "execution_count": 357,
      "metadata": {
        "id": "zLqBjs4rzb72"
      },
      "outputs": [],
      "source": [
        "# Initialize the model\n",
        "\n",
        "model = Classifier().to(device)\n",
        "\n",
        "if LOAD_FROM_DRIVE:\n",
        "    try:\n",
        "        model.load_state_dict(torch.load(model_path, weights_only=True))\n",
        "        print(\"Model loaded from drive\")\n",
        "    except Exception as e:\n",
        "        print(f\"Error loading model from drive: {e}\")\n",
        "# else:\n",
        "#     model.apply(weights_init)\n",
        "\n",
        "# set up loss function and optimizer\n",
        "\n",
        "criterion = nn.CrossEntropyLoss()\n",
        "optimizer = optim.Adam(model.parameters(), lr=LEARNING_RATE)"
      ]
    },
    {
      "cell_type": "markdown",
      "metadata": {
        "id": "7rHnNd7840T_"
      },
      "source": [
        "# Training"
      ]
    },
    {
      "cell_type": "code",
      "execution_count": 358,
      "metadata": {
        "colab": {
          "base_uri": "https://localhost:8080/"
        },
        "id": "CIrvs72E0Lus",
        "outputId": "a928e033-fd45-4b7a-ff12-e1e08bdd04da"
      },
      "outputs": [
        {
          "output_type": "stream",
          "name": "stderr",
          "text": [
            "Epoch 1/10: 100%|██████████| 375/375 [00:09<00:00, 40.62it/s, Loss=0.724]\n",
            "Epoch 2/10: 100%|██████████| 375/375 [00:09<00:00, 37.80it/s, Loss=0.53]\n",
            "Epoch 3/10: 100%|██████████| 375/375 [00:10<00:00, 37.42it/s, Loss=0.44]\n",
            "Epoch 4/10: 100%|██████████| 375/375 [00:09<00:00, 38.06it/s, Loss=0.39]\n",
            "Epoch 5/10: 100%|██████████| 375/375 [00:10<00:00, 37.29it/s, Loss=0.351]\n",
            "Epoch 6/10: 100%|██████████| 375/375 [00:10<00:00, 37.45it/s, Loss=0.321]\n",
            "Epoch 7/10: 100%|██████████| 375/375 [00:09<00:00, 37.51it/s, Loss=0.297]\n",
            "Epoch 8/10: 100%|██████████| 375/375 [00:09<00:00, 38.47it/s, Loss=0.282]\n",
            "Epoch 9/10: 100%|██████████| 375/375 [00:09<00:00, 39.84it/s, Loss=0.27]\n",
            "Epoch 10/10: 100%|██████████| 375/375 [00:10<00:00, 37.20it/s, Loss=0.253]\n"
          ]
        }
      ],
      "source": [
        "# start training loop\n",
        "if not LOAD_FROM_DRIVE:\n",
        "    train(\n",
        "        model=model,\n",
        "        train_loader=train_loader,\n",
        "        num_epochs=NUM_EPOCHS,\n",
        "        optimizer=optimizer,\n",
        "        criterion=criterion\n",
        "    )"
      ]
    },
    {
      "cell_type": "code",
      "execution_count": 359,
      "metadata": {
        "colab": {
          "base_uri": "https://localhost:8080/"
        },
        "id": "cSoHsDzv0QyT",
        "outputId": "982b1e1e-16c9-4f9b-9ad6-1c565b9c0b74"
      },
      "outputs": [
        {
          "output_type": "stream",
          "name": "stdout",
          "text": [
            "Model saved to drive\n"
          ]
        }
      ],
      "source": [
        "# save to drive\n",
        "\n",
        "if SAVE_TO_DRIVE:\n",
        "    try:\n",
        "        os.makedirs(directory_path)\n",
        "    except FileExistsError:\n",
        "        pass\n",
        "\n",
        "    torch.save(model.state_dict(), model_path)\n",
        "    print(\"Model saved to drive\")"
      ]
    },
    {
      "cell_type": "markdown",
      "metadata": {
        "id": "Ct0Lp8HK44gR"
      },
      "source": [
        "# Evaluation"
      ]
    },
    {
      "cell_type": "code",
      "execution_count": 360,
      "metadata": {
        "id": "Nlqh9bfguQuM"
      },
      "outputs": [],
      "source": [
        "import torch\n",
        "import pandas as pd\n",
        "import seaborn as sns\n",
        "import matplotlib.pyplot as plt\n",
        "from sklearn.metrics import accuracy_score, precision_score, recall_score, f1_score, confusion_matrix\n",
        "from collections import defaultdict\n",
        "import numpy as np\n",
        "\n",
        "def evaluate(model, test_loader):\n",
        "    model.eval()\n",
        "    all_preds = []\n",
        "    all_labels = []\n",
        "    cell_type_results = defaultdict(lambda: {\"y_true\": [], \"y_pred\": []})  # Store results per cell type\n",
        "\n",
        "    with torch.no_grad():\n",
        "        for embeddings, severity_labels, state_labels, cell_types in test_loader:\n",
        "            embeddings = embeddings.to(device)\n",
        "            severity_labels = severity_labels.to(device).long()  # Labels: 0=Control, 1=Mild, 2=Severe\n",
        "            state_labels = state_labels.to(device).long()  # Labels: 0=Control, 1=Progression, 2=Convalescence\n",
        "            labels = severity_labels # change depending on which output you want to evaluate\n",
        "\n",
        "            outputs = model(embeddings).squeeze()\n",
        "            preds = torch.argmax(outputs, dim=1)  # Convert probabilities to predicted labels\n",
        "\n",
        "            all_preds.extend(preds.cpu().numpy())\n",
        "            all_labels.extend(labels.cpu().numpy())\n",
        "\n",
        "            # Store results for each cell type\n",
        "            for i, cell in enumerate(cell_types):\n",
        "                cell_type_results[cell][\"y_true\"].append(labels[i].item())\n",
        "                cell_type_results[cell][\"y_pred\"].append(preds[i].item())\n",
        "\n",
        "    # Compute overall metrics\n",
        "    accuracy = accuracy_score(all_labels, all_preds)\n",
        "    precision = precision_score(all_labels, all_preds, average=\"macro\")\n",
        "    recall = recall_score(all_labels, all_preds, average=\"macro\")\n",
        "    f1 = f1_score(all_labels, all_preds, average=\"macro\")\n",
        "\n",
        "    # Compute confusion matrix\n",
        "    conf_matrix = confusion_matrix(all_labels, all_preds)\n",
        "    conf_matrix_normalized = conf_matrix.astype('float') / conf_matrix.sum(axis=1)[:, np.newaxis]\n",
        "\n",
        "    # Plot confusion matrix\n",
        "    plt.figure(figsize=(6,5))\n",
        "    sns.heatmap(conf_matrix_normalized, annot=True, fmt=\".2f\", cmap=\"Blues\", xticklabels=[\"control\", \"mild/moderate\", \"severe/critical\"], yticklabels=[\"control\", \"mild/moderate\", \"severe/critical\"])\n",
        "    plt.xlabel(\"Predicted Labels\")\n",
        "    plt.ylabel(\"True Labels\")\n",
        "    plt.title(\"Confusion Matrix\")\n",
        "    plt.show()\n",
        "\n",
        "    # Compute metrics per cell type\n",
        "    cell_type_list, acc_list, f1_list, prec_list, rec_list = [], [], [], [], []\n",
        "    for cell, values in cell_type_results.items():\n",
        "        acc = accuracy_score(values[\"y_true\"], values[\"y_pred\"])\n",
        "        prec = precision_score(values[\"y_true\"], values[\"y_pred\"], average=\"macro\")\n",
        "        rec = recall_score(values[\"y_true\"], values[\"y_pred\"], average=\"macro\")\n",
        "        f1 = f1_score(values[\"y_true\"], values[\"y_pred\"], average=\"macro\")\n",
        "\n",
        "        cell_type_list.append(cell)\n",
        "        acc_list.append(acc)\n",
        "        f1_list.append(f1)\n",
        "        prec_list.append(prec)\n",
        "        rec_list.append(rec)\n",
        "\n",
        "    cell_type_results_df = pd.DataFrame({\n",
        "        \"Cell Type\": cell_type_list,\n",
        "        \"Accuracy\": acc_list,\n",
        "        \"F1-score\": f1_list,\n",
        "        \"Precision\": prec_list,\n",
        "        \"Recall\": rec_list\n",
        "    })\n",
        "\n",
        "    return accuracy, precision, recall, f1, cell_type_results_df\n"
      ]
    },
    {
      "cell_type": "code",
      "execution_count": 361,
      "metadata": {
        "id": "sMpb5bMTolFE"
      },
      "outputs": [],
      "source": [
        "import pandas as pd\n",
        "from collections import Counter\n",
        "\n",
        "def compare_cell_type_distribution(dataset, train_loader, test_loader):\n",
        "    # Get total distribution from dataset (assuming it's a DataFrame)\n",
        "    total_distribution = dataset.distribution_cell_types()\n",
        "\n",
        "    # Ensure it's a DataFrame\n",
        "    if isinstance(total_distribution, pd.Series):\n",
        "        total_distribution = total_distribution.reset_index()\n",
        "        total_distribution.columns = [\"Cell Type\", \"Total Count\"]\n",
        "\n",
        "    # Initialize counters for train and test sets\n",
        "    train_counter = Counter()\n",
        "    test_counter = Counter()\n",
        "\n",
        "    # Count occurrences of each cell type in training set\n",
        "    for _, _, _, cell_types in train_loader:\n",
        "        train_counter.update(cell_types)\n",
        "\n",
        "    # Count occurrences of each cell type in test set\n",
        "    for _, _, _, cell_types in test_loader:\n",
        "        test_counter.update(cell_types)\n",
        "\n",
        "    # Convert counters to Pandas Series\n",
        "    train_series = pd.Series(train_counter, name=\"Train Count\")\n",
        "    test_series = pd.Series(test_counter, name=\"Test Count\")\n",
        "\n",
        "    # Create a DataFrame with all distributions\n",
        "    df = total_distribution.set_index(\"Cell Type\").join([train_series, test_series]).fillna(0)\n",
        "\n",
        "    # Convert counts to integers\n",
        "    df = df.astype(int)\n",
        "\n",
        "    # Print the table\n",
        "   # print(df)\n",
        "\n",
        "    return df\n"
      ]
    },
    {
      "cell_type": "code",
      "execution_count": 362,
      "metadata": {
        "id": "1FRwNSRzpfz6"
      },
      "outputs": [],
      "source": [
        "import pandas as pd\n",
        "import seaborn as sns\n",
        "import matplotlib.pyplot as plt\n",
        "from scipy.stats import pearsonr\n",
        "\n",
        "def analyze_correlation(dataset, train_loader, test_loader, model):\n",
        "    # Step 1: Get dataset distribution\n",
        "    total_distribution = dataset.distribution_cell_types()\n",
        "\n",
        "    # Ensure it's a DataFrame\n",
        "    if isinstance(total_distribution, pd.Series):\n",
        "        total_distribution = total_distribution.reset_index()\n",
        "        total_distribution.columns = [\"Cell Type\", \"Train Count\"]\n",
        "\n",
        "    # Step 2: Evaluate model performance per cell type\n",
        "    _, _, _, _, cell_results = evaluate(model, test_loader)\n",
        "    \"\"\"\n",
        "    # Step 3: Ensure cell_results is properly structured\n",
        "    if isinstance(cell_results, dict):\n",
        "        performance_data = []\n",
        "        for cell_type, metrics in cell_results.items():\n",
        "            if isinstance(metrics, dict):  # Ensure it's not a string or number\n",
        "                row = {\"Cell Type\": cell_type}\n",
        "                row.update(metrics)  # Add accuracy, F1-score, etc.\n",
        "                performance_data.append(row)\n",
        "        performance_df = pd.DataFrame(performance_data)\n",
        "    else:\n",
        "        raise ValueError(\"cell_results is not a valid dictionary.\")\n",
        "    \"\"\"\n",
        "    # Step 4: Merge both DataFrames\n",
        "    merged_df = total_distribution.merge(cell_results, on=\"Cell Type\", how=\"inner\")\n",
        "\n",
        "    # Step 5: Compute correlation\n",
        "    correlation_results = {\n",
        "        \"Accuracy\": pearsonr(merged_df[\"Train Count\"], merged_df[\"Accuracy\"])[0],\n",
        "        \"F1-score\": pearsonr(merged_df[\"Train Count\"], merged_df[\"F1-score\"])[0]\n",
        "    }\n",
        "\n",
        "    # Step 6: Visualization\n",
        "    plt.figure(figsize=(12, 5))\n",
        "\n",
        "    # Scatter Plot: Frequency vs Accuracy\n",
        "    plt.subplot(1, 2, 1)\n",
        "    sns.scatterplot(x=merged_df[\"Train Count\"], y=merged_df[\"Accuracy\"])\n",
        "    plt.xlabel(\"Train Count of Cell Type\")\n",
        "    plt.ylabel(\"Accuracy\")\n",
        "    plt.title(f\"Correlation: {correlation_results['Accuracy']:.4f}\")\n",
        "\n",
        "    # Scatter Plot: Frequency vs F1-score\n",
        "    plt.subplot(1, 2, 2)\n",
        "    sns.scatterplot(x=merged_df[\"Train Count\"], y=merged_df[\"F1-score\"])\n",
        "    plt.xlabel(\"Train Count of Cell Type\")\n",
        "    plt.ylabel(\"F1-score\")\n",
        "    plt.title(f\"Correlation: {correlation_results['F1-score']:.4f}\")\n",
        "\n",
        "    plt.tight_layout()\n",
        "    plt.show()\n",
        "\n",
        "    # Print correlation results\n",
        "    print(\"Correlation between Cell Type Frequency and Performance:\")\n",
        "    print(f\"  Accuracy Correlation: {correlation_results['Accuracy']:.4f}\")\n",
        "    print(f\"  F1-score Correlation: {correlation_results['F1-score']:.4f}\")\n",
        "\n",
        "    return merged_df, correlation_results\n"
      ]
    },
    {
      "cell_type": "code",
      "execution_count": 363,
      "metadata": {
        "id": "mM1EI22Pph6e"
      },
      "outputs": [],
      "source": [
        "# df_analysis, correlation = analyze_correlation(dataset, train_loader, test_loader, model)"
      ]
    },
    {
      "cell_type": "markdown",
      "source": [
        "## Results"
      ],
      "metadata": {
        "id": "leO23WriOVRt"
      }
    },
    {
      "cell_type": "code",
      "execution_count": 364,
      "metadata": {
        "colab": {
          "base_uri": "https://localhost:8080/",
          "height": 643
        },
        "id": "DeTbZlLv5QRC",
        "outputId": "bca5bc0e-445e-4cce-9876-504c614b68d9"
      },
      "outputs": [
        {
          "output_type": "display_data",
          "data": {
            "text/plain": [
              "<Figure size 600x500 with 2 Axes>"
            ],
            "image/png": "[encoded data removed]"
          },
          "metadata": {}
        },
        {
          "output_type": "execute_result",
          "data": {
            "text/plain": [
              "(0.8915,\n",
              " 0.8934529945761791,\n",
              " 0.8981914562714021,\n",
              " 0.9245407056647249,\n",
              "            Cell Type  Accuracy  F1-score  Precision    Recall\n",
              " 0     T_CD4_c01-LEF1  0.895175  0.899581   0.896396  0.905041\n",
              " 1     T_CD8_c01-LEF1  0.883470  0.888049   0.887192  0.890835\n",
              " 2   T_CD8_c05-ZNF683  0.864856  0.866781   0.867165  0.868140\n",
              " 3  Mono_c3-CD14-VCAN  0.922921  0.924541   0.923278  0.927019)"
            ]
          },
          "metadata": {},
          "execution_count": 364
        }
      ],
      "source": [
        "evaluate(model, test_loader)"
      ]
    },
    {
      "cell_type": "code",
      "execution_count": 365,
      "metadata": {
        "colab": {
          "base_uri": "https://localhost:8080/",
          "height": 206
        },
        "id": "EFYmCwHtomDz",
        "outputId": "093433e0-b767-42f8-a4fc-e47831221219"
      },
      "outputs": [
        {
          "output_type": "execute_result",
          "data": {
            "text/plain": [
              "                   Total Count  Train Count  Test Count\n",
              "Cell Type                                              \n",
              "T_CD4_c01-LEF1           15000        11995        3005\n",
              "T_CD8_c01-LEF1           15000        11945        3055\n",
              "Mono_c3-CD14-VCAN        15000        12042        2958\n",
              "T_CD8_c05-ZNF683         15000        12018        2982"
            ],
            "text/html": [
              "\n",
              "  <div id=\"df-0bc714cd-d645-4998-803c-7b4867e3bafa\" class=\"colab-df-container\">\n",
              "    <div>\n",
              "<style scoped>\n",
              "    .dataframe tbody tr th:only-of-type {\n",
              "        vertical-align: middle;\n",
              "    }\n",
              "\n",
              "    .dataframe tbody tr th {\n",
              "        vertical-align: top;\n",
              "    }\n",
              "\n",
              "    .dataframe thead th {\n",
              "        text-align: right;\n",
              "    }\n",
              "</style>\n",
              "<table border=\"1\" class=\"dataframe\">\n",
              "  <thead>\n",
              "    <tr style=\"text-align: right;\">\n",
              "      <th></th>\n",
              "      <th>Total Count</th>\n",
              "      <th>Train Count</th>\n",
              "      <th>Test Count</th>\n",
              "    </tr>\n",
              "    <tr>\n",
              "      <th>Cell Type</th>\n",
              "      <th></th>\n",
              "      <th></th>\n",
              "      <th></th>\n",
              "    </tr>\n",
              "  </thead>\n",
              "  <tbody>\n",
              "    <tr>\n",
              "      <th>T_CD4_c01-LEF1</th>\n",
              "      <td>15000</td>\n",
              "      <td>11995</td>\n",
              "      <td>3005</td>\n",
              "    </tr>\n",
              "    <tr>\n",
              "      <th>T_CD8_c01-LEF1</th>\n",
              "      <td>15000</td>\n",
              "      <td>11945</td>\n",
              "      <td>3055</td>\n",
              "    </tr>\n",
              "    <tr>\n",
              "      <th>Mono_c3-CD14-VCAN</th>\n",
              "      <td>15000</td>\n",
              "      <td>12042</td>\n",
              "      <td>2958</td>\n",
              "    </tr>\n",
              "    <tr>\n",
              "      <th>T_CD8_c05-ZNF683</th>\n",
              "      <td>15000</td>\n",
              "      <td>12018</td>\n",
              "      <td>2982</td>\n",
              "    </tr>\n",
              "  </tbody>\n",
              "</table>\n",
              "</div>\n",
              "    <div class=\"colab-df-buttons\">\n",
              "\n",
              "  <div class=\"colab-df-container\">\n",
              "    <button class=\"colab-df-convert\" onclick=\"convertToInteractive('df-0bc714cd-d645-4998-803c-7b4867e3bafa')\"\n",
              "            title=\"Convert this dataframe to an interactive table.\"\n",
              "            style=\"display:none;\">\n",
              "\n",
              "  <svg xmlns=\"http://www.w3.org/2000/svg\" height=\"24px\" viewBox=\"0 -960 960 960\">\n",
              "    <path d=\"M120-120v-720h720v720H120Zm60-500h600v-160H180v160Zm220 220h160v-160H400v160Zm0 220h160v-160H400v160ZM180-400h160v-160H180v160Zm440 0h160v-160H620v160ZM180-180h160v-160H180v160Zm440 0h160v-160H620v160Z\"/>\n",
              "  </svg>\n",
              "    </button>\n",
              "\n",
              "  <style>\n",
              "    .colab-df-container {\n",
              "      display:flex;\n",
              "      gap: 12px;\n",
              "    }\n",
              "\n",
              "    .colab-df-convert {\n",
              "      background-color: #E8F0FE;\n",
              "      border: none;\n",
              "      border-radius: 50%;\n",
              "      cursor: pointer;\n",
              "      display: none;\n",
              "      fill: #1967D2;\n",
              "      height: 32px;\n",
              "      padding: 0 0 0 0;\n",
              "      width: 32px;\n",
              "    }\n",
              "\n",
              "    .colab-df-convert:hover {\n",
              "      background-color: #E2EBFA;\n",
              "      box-shadow: 0px 1px 2px rgba(60, 64, 67, 0.3), 0px 1px 3px 1px rgba(60, 64, 67, 0.15);\n",
              "      fill: #174EA6;\n",
              "    }\n",
              "\n",
              "    .colab-df-buttons div {\n",
              "      margin-bottom: 4px;\n",
              "    }\n",
              "\n",
              "    [theme=dark] .colab-df-convert {\n",
              "      background-color: #3B4455;\n",
              "      fill: #D2E3FC;\n",
              "    }\n",
              "\n",
              "    [theme=dark] .colab-df-convert:hover {\n",
              "      background-color: #434B5C;\n",
              "      box-shadow: 0px 1px 3px 1px rgba(0, 0, 0, 0.15);\n",
              "      filter: drop-shadow(0px 1px 2px rgba(0, 0, 0, 0.3));\n",
              "      fill: #FFFFFF;\n",
              "    }\n",
              "  </style>\n",
              "\n",
              "    <script>\n",
              "      const buttonEl =\n",
              "        document.querySelector('#df-0bc714cd-d645-4998-803c-7b4867e3bafa button.colab-df-convert');\n",
              "      buttonEl.style.display =\n",
              "        google.colab.kernel.accessAllowed ? 'block' : 'none';\n",
              "\n",
              "      async function convertToInteractive(key) {\n",
              "        const element = document.querySelector('#df-0bc714cd-d645-4998-803c-7b4867e3bafa');\n",
              "        const dataTable =\n",
              "          await google.colab.kernel.invokeFunction('convertToInteractive',\n",
              "                                                    [key], {});\n",
              "        if (!dataTable) return;\n",
              "\n",
              "        const docLinkHtml = 'Like what you see? Visit the ' +\n",
              "          '<a target=\"_blank\" href=https://colab.research.google.com/notebooks/data_table.ipynb>data table notebook</a>'\n",
              "          + ' to learn more about interactive tables.';\n",
              "        element.innerHTML = '';\n",
              "        dataTable['output_type'] = 'display_data';\n",
              "        await google.colab.output.renderOutput(dataTable, element);\n",
              "        const docLink = document.createElement('div');\n",
              "        docLink.innerHTML = docLinkHtml;\n",
              "        element.appendChild(docLink);\n",
              "      }\n",
              "    </script>\n",
              "  </div>\n",
              "\n",
              "\n",
              "<div id=\"df-c5287593-0332-4c76-9632-beafc0383845\">\n",
              "  <button class=\"colab-df-quickchart\" onclick=\"quickchart('df-c5287593-0332-4c76-9632-beafc0383845')\"\n",
              "            title=\"Suggest charts\"\n",
              "            style=\"display:none;\">\n",
              "\n",
              "<svg xmlns=\"http://www.w3.org/2000/svg\" height=\"24px\"viewBox=\"0 0 24 24\"\n",
              "     width=\"24px\">\n",
              "    <g>\n",
              "        <path d=\"M19 3H5c-1.1 0-2 .9-2 2v14c0 1.1.9 2 2 2h14c1.1 0 2-.9 2-2V5c0-1.1-.9-2-2-2zM9 17H7v-7h2v7zm4 0h-2V7h2v10zm4 0h-2v-4h2v4z\"/>\n",
              "    </g>\n",
              "</svg>\n",
              "  </button>\n",
              "\n",
              "<style>\n",
              "  .colab-df-quickchart {\n",
              "      --bg-color: #E8F0FE;\n",
              "      --fill-color: #1967D2;\n",
              "      --hover-bg-color: #E2EBFA;\n",
              "      --hover-fill-color: #174EA6;\n",
              "      --disabled-fill-color: #AAA;\n",
              "      --disabled-bg-color: #DDD;\n",
              "  }\n",
              "\n",
              "  [theme=dark] .colab-df-quickchart {\n",
              "      --bg-color: #3B4455;\n",
              "      --fill-color: #D2E3FC;\n",
              "      --hover-bg-color: #434B5C;\n",
              "      --hover-fill-color: #FFFFFF;\n",
              "      --disabled-bg-color: #3B4455;\n",
              "      --disabled-fill-color: #666;\n",
              "  }\n",
              "\n",
              "  .colab-df-quickchart {\n",
              "    background-color: var(--bg-color);\n",
              "    border: none;\n",
              "    border-radius: 50%;\n",
              "    cursor: pointer;\n",
              "    display: none;\n",
              "    fill: var(--fill-color);\n",
              "    height: 32px;\n",
              "    padding: 0;\n",
              "    width: 32px;\n",
              "  }\n",
              "\n",
              "  .colab-df-quickchart:hover {\n",
              "    background-color: var(--hover-bg-color);\n",
              "    box-shadow: 0 1px 2px rgba(60, 64, 67, 0.3), 0 1px 3px 1px rgba(60, 64, 67, 0.15);\n",
              "    fill: var(--button-hover-fill-color);\n",
              "  }\n",
              "\n",
              "  .colab-df-quickchart-complete:disabled,\n",
              "  .colab-df-quickchart-complete:disabled:hover {\n",
              "    background-color: var(--disabled-bg-color);\n",
              "    fill: var(--disabled-fill-color);\n",
              "    box-shadow: none;\n",
              "  }\n",
              "\n",
              "  .colab-df-spinner {\n",
              "    border: 2px solid var(--fill-color);\n",
              "    border-color: transparent;\n",
              "    border-bottom-color: var(--fill-color);\n",
              "    animation:\n",
              "      spin 1s steps(1) infinite;\n",
              "  }\n",
              "\n",
              "  @keyframes spin {\n",
              "    0% {\n",
              "      border-color: transparent;\n",
              "      border-bottom-color: var(--fill-color);\n",
              "      border-left-color: var(--fill-color);\n",
              "    }\n",
              "    20% {\n",
              "      border-color: transparent;\n",
              "      border-left-color: var(--fill-color);\n",
              "      border-top-color: var(--fill-color);\n",
              "    }\n",
              "    30% {\n",
              "      border-color: transparent;\n",
              "      border-left-color: var(--fill-color);\n",
              "      border-top-color: var(--fill-color);\n",
              "      border-right-color: var(--fill-color);\n",
              "    }\n",
              "    40% {\n",
              "      border-color: transparent;\n",
              "      border-right-color: var(--fill-color);\n",
              "      border-top-color: var(--fill-color);\n",
              "    }\n",
              "    60% {\n",
              "      border-color: transparent;\n",
              "      border-right-color: var(--fill-color);\n",
              "    }\n",
              "    80% {\n",
              "      border-color: transparent;\n",
              "      border-right-color: var(--fill-color);\n",
              "      border-bottom-color: var(--fill-color);\n",
              "    }\n",
              "    90% {\n",
              "      border-color: transparent;\n",
              "      border-bottom-color: var(--fill-color);\n",
              "    }\n",
              "  }\n",
              "</style>\n",
              "\n",
              "  <script>\n",
              "    async function quickchart(key) {\n",
              "      const quickchartButtonEl =\n",
              "        document.querySelector('#' + key + ' button');\n",
              "      quickchartButtonEl.disabled = true;  // To prevent multiple clicks.\n",
              "      quickchartButtonEl.classList.add('colab-df-spinner');\n",
              "      try {\n",
              "        const charts = await google.colab.kernel.invokeFunction(\n",
              "            'suggestCharts', [key], {});\n",
              "      } catch (error) {\n",
              "        console.error('Error during call to suggestCharts:', error);\n",
              "      }\n",
              "      quickchartButtonEl.classList.remove('colab-df-spinner');\n",
              "      quickchartButtonEl.classList.add('colab-df-quickchart-complete');\n",
              "    }\n",
              "    (() => {\n",
              "      let quickchartButtonEl =\n",
              "        document.querySelector('#df-c5287593-0332-4c76-9632-beafc0383845 button');\n",
              "      quickchartButtonEl.style.display =\n",
              "        google.colab.kernel.accessAllowed ? 'block' : 'none';\n",
              "    })();\n",
              "  </script>\n",
              "</div>\n",
              "\n",
              "    </div>\n",
              "  </div>\n"
            ],
            "application/vnd.google.colaboratory.intrinsic+json": {
              "type": "dataframe",
              "summary": "{\n  \"name\": \"compare_cell_type_distribution(dataset, train_loader, test_loader)\",\n  \"rows\": 4,\n  \"fields\": [\n    {\n      \"column\": \"Cell Type\",\n      \"properties\": {\n        \"dtype\": \"string\",\n        \"num_unique_values\": 4,\n        \"samples\": [\n          \"T_CD8_c01-LEF1\",\n          \"T_CD8_c05-ZNF683\",\n          \"T_CD4_c01-LEF1\"\n        ],\n        \"semantic_type\": \"\",\n        \"description\": \"\"\n      }\n    },\n    {\n      \"column\": \"Total Count\",\n      \"properties\": {\n        \"dtype\": \"number\",\n        \"std\": 0,\n        \"min\": 15000,\n        \"max\": 15000,\n        \"num_unique_values\": 1,\n        \"samples\": [\n          15000\n        ],\n        \"semantic_type\": \"\",\n        \"description\": \"\"\n      }\n    },\n    {\n      \"column\": \"Train Count\",\n      \"properties\": {\n        \"dtype\": \"number\",\n        \"std\": 41,\n        \"min\": 11945,\n        \"max\": 12042,\n        \"num_unique_values\": 4,\n        \"samples\": [\n          11945\n        ],\n        \"semantic_type\": \"\",\n        \"description\": \"\"\n      }\n    },\n    {\n      \"column\": \"Test Count\",\n      \"properties\": {\n        \"dtype\": \"number\",\n        \"std\": 41,\n        \"min\": 2958,\n        \"max\": 3055,\n        \"num_unique_values\": 4,\n        \"samples\": [\n          3055\n        ],\n        \"semantic_type\": \"\",\n        \"description\": \"\"\n      }\n    }\n  ]\n}"
            }
          },
          "metadata": {},
          "execution_count": 365
        }
      ],
      "source": [
        "compare_cell_type_distribution(dataset, train_loader, test_loader)\n"
      ]
    },
    {
      "cell_type": "code",
      "execution_count": 365,
      "metadata": {
        "id": "wOqw2mYe5SAQ"
      },
      "outputs": [],
      "source": []
    }
  ],
  "metadata": {
    "accelerator": "GPU",
    "colab": {
      "gpuType": "T4",
      "provenance": [],
      "toc_visible": true
    },
    "kernelspec": {
      "display_name": "Python 3",
      "name": "python3"
    },
    "language_info": {
      "name": "python"
    }
  },
  "nbformat": 4,
  "nbformat_minor": 0
}