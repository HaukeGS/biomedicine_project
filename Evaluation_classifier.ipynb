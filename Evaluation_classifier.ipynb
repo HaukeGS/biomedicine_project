{
  "nbformat": 4,
  "nbformat_minor": 0,
  "metadata": {
    "colab": {
      "provenance": []
    },
    "kernelspec": {
      "name": "python3",
      "display_name": "Python 3"
    },
    "language_info": {
      "name": "python"
    }
  },
  "cells": [
    {
      "cell_type": "code",
      "execution_count": 22,
      "metadata": {
        "id": "J-nJiaMqar7p"
      },
      "outputs": [],
      "source": [
        "import os\n",
        "import pandas as pd\n",
        "import torch\n",
        "import torchvision.transforms as transforms\n",
        "from torch.utils.data import Dataset, DataLoader, random_split\n",
        "from torch import nn, optim\n",
        "from google.colab import drive\n",
        "from tqdm import tqdm"
      ]
    },
    {
      "cell_type": "code",
      "source": [
        "drive.mount('/content/drive')"
      ],
      "metadata": {
        "colab": {
          "base_uri": "https://localhost:8080/"
        },
        "id": "t2YIikC3b3rb",
        "outputId": "69f72e32-eeae-4b31-943c-adfe281be1f4"
      },
      "execution_count": 23,
      "outputs": [
        {
          "output_type": "stream",
          "name": "stdout",
          "text": [
            "Drive already mounted at /content/drive; to attempt to forcibly remount, call drive.mount(\"/content/drive\", force_remount=True).\n"
          ]
        }
      ]
    },
    {
      "cell_type": "code",
      "source": [
        "device = torch.device(\"cuda\" if torch.cuda.is_available() else \"cpu\")\n",
        "print(f\"Device is: {device}\\n\")"
      ],
      "metadata": {
        "colab": {
          "base_uri": "https://localhost:8080/"
        },
        "id": "5IGJ2xusxekd",
        "outputId": "3f6a647c-578c-4635-e65c-7c0db347be63"
      },
      "execution_count": 24,
      "outputs": [
        {
          "output_type": "stream",
          "name": "stdout",
          "text": [
            "Device is: cpu\n",
            "\n"
          ]
        }
      ]
    },
    {
      "cell_type": "code",
      "source": [
        "data_path = '/content/drive/MyDrive/biomedicine/embedded_data/'"
      ],
      "metadata": {
        "id": "du_NFI00cDnx"
      },
      "execution_count": 25,
      "outputs": []
    },
    {
      "cell_type": "markdown",
      "source": [
        "# Hyper- and Controlparameter"
      ],
      "metadata": {
        "id": "Kn6-uMo-vNY1"
      }
    },
    {
      "cell_type": "code",
      "source": [
        "# Controlparameter\n",
        "\n",
        "LOAD_FROM_DRIVE = False\n",
        "SAVE_TO_DRIVE = False"
      ],
      "metadata": {
        "id": "k0yW-SUWzh1m"
      },
      "execution_count": 26,
      "outputs": []
    },
    {
      "cell_type": "code",
      "source": [
        "# HYPERPARAMETER\n",
        "\n",
        "BATCH_SIZE = 128\n",
        "LEARNING_RATE = 0.0001\n",
        "NUM_EPOCHS = 10"
      ],
      "metadata": {
        "id": "ZpPHuDWPvGIP"
      },
      "execution_count": 27,
      "outputs": []
    },
    {
      "cell_type": "markdown",
      "source": [
        "# Custom Dataset & Data Preparation"
      ],
      "metadata": {
        "id": "Lu8pwzyWvQAt"
      }
    },
    {
      "cell_type": "code",
      "source": [
        "# label_map = {\n",
        "#     'mild/moderate': 0,\n",
        "#     'severe/critical': 1,\n",
        "# }"
      ],
      "metadata": {
        "id": "8fclFGWJ23U1"
      },
      "execution_count": 28,
      "outputs": []
    },
    {
      "cell_type": "code",
      "source": [
        "label_map = {\n",
        "    'control': 0,\n",
        "    'mild/moderate': 1,\n",
        "    'severe/critical': 2,\n",
        "}"
      ],
      "metadata": {
        "id": "erJSlcIOrgTz"
      },
      "execution_count": 29,
      "outputs": []
    },
    {
      "cell_type": "code",
      "source": [
        "class EmbeddedDataset(Dataset):\n",
        "    def __init__(self, pkl_file, limit=0):\n",
        "        self.data = pd.read_pickle(pkl_file)\n",
        "\n",
        "\n",
        "\n",
        "        unique_labels = pd.unique(self.data['severity'])\n",
        "        cell_types = pd.unique(self.data['celltype'])\n",
        "        print(f\"unique cell types: {cell_types}\")\n",
        "        label_counts = {}\n",
        "        for label in self.data['severity']:\n",
        "            label_counts[label] = label_counts.get(label, 0) + 1\n",
        "        print(f\"unique labels: {unique_labels}\")\n",
        "        print(f\"label counts: {label_counts}\")\n",
        "        print(self.data.head())\n",
        "        if limit != 0:\n",
        "            self.downsampling_celltypes(limit)\n",
        "            print(f\"downsampled data: {self.data.head()}\")\n",
        "\n",
        "    def cell_types_list(self):\n",
        "        return list(pd.unique(self.data['celltype']))\n",
        "    def distribution_cell_types(self):\n",
        "        return self.data['celltype'].value_counts()\n",
        "\n",
        "    def downsampling_celltypes(self, limit):\n",
        "        cell_types = self.cell_types_list()\n",
        "        downsampled_data = pd.DataFrame()\n",
        "        for cell_type in cell_types:\n",
        "            cell_type_data = self.data[self.data['celltype'] == cell_type]\n",
        "\n",
        "            if len(cell_type_data) >= limit:\n",
        "                label_counts = cell_type_data['severity'].value_counts()\n",
        "                min_count = label_counts.min()\n",
        "                sampled_data = pd.DataFrame()\n",
        "                for label in label_counts.index:\n",
        "                    label_data = cell_type_data[cell_type_data['severity'] == label]\n",
        "                    sampled_label_data = label_data.sample(n=min( int(limit/3), min_count), random_state=42)\n",
        "                    sampled_data = pd.concat([sampled_data, sampled_label_data])\n",
        "                    downsampled_data = pd.concat([downsampled_data, sampled_label_data])\n",
        "\n",
        "                #downsampled_data = pd.concat([downsampled_data, cell_type_data])\n",
        "        self.data = downsampled_data\n",
        "    def __len__(self):\n",
        "        return len(self.data)\n",
        "\n",
        "    def __getitem__(self, idx):\n",
        "        embeddings = torch.tensor(self.data.iloc[idx, 0], dtype=torch.float32)\n",
        "        label = torch.tensor(label_map.get(self.data.iloc[idx, 1]), dtype=torch.float32)\n",
        "        cell_type = self.data.iloc[idx, 2]\n",
        "        return embeddings, label, cell_type"
      ],
      "metadata": {
        "id": "uFjfMgZacWol"
      },
      "execution_count": 56,
      "outputs": []
    },
    {
      "cell_type": "code",
      "source": [
        "dataset = EmbeddedDataset(os.path.join(data_path, 'embedded_data_split_severity_celltype_0_5.pkl'),3000)\n"
      ],
      "metadata": {
        "colab": {
          "base_uri": "https://localhost:8080/"
        },
        "id": "_Pac04bTdTov",
        "outputId": "f8f7db11-ddb9-40d9-f97e-66704afcd090"
      },
      "execution_count": 57,
      "outputs": [
        {
          "output_type": "stream",
          "name": "stdout",
          "text": [
            "unique cell types: ['T_CD8_c06-TNF' 'T_CD4_c04-ANXA2' 'T_CD8_c05-ZNF683' 'T_CD4_c01-LEF1'\n",
            " 'B_c01-TCL1A' 'T_CD4_c05-FOS' 'T_CD4_c06-NR4A2' 'NK_c01-FCGR3A'\n",
            " 'T_CD8_c07-TYROBP' 'T_CD4_c11-GNLY' 'Mono_c3-CD14-VCAN' 'T_CD8_c04-COTL1'\n",
            " 'B_c03-CD27-AIM2' 'T_CD4_c08-GZMK-FOS_h' 'Mono_c1-CD14-CCL3'\n",
            " 'T_CD4_c09-GZMK-FOS_l' 'T_CD8_c08-IL2RB' 'Mono_c2-CD14-HLA-DPB1'\n",
            " 'T_CD8_c09-SLC4A10' 'DC_c4-LILRA4' 'T_CD4_c02-AQP3' 'T_CD8_c03-GZMK'\n",
            " 'T_CD4_c07-AHNAK' 'T_CD8_c02-GPR183' 'B_c02-MS4A1-CD27' 'T_CD8_c01-LEF1'\n",
            " 'T_CD4_c03-ITGA4' 'Mono_c4-CD14-CD16' 'T_CD8_c12-MKI67-TYROBP'\n",
            " 'T_CD4_c12-FOXP3' 'Macro_c2-CCL3L1' 'B_c06-MKI67' 'DC_c2-CD1C'\n",
            " 'T_CD8_c10-MKI67-GZMK' 'Mono_c5-CD16' 'Mega' 'NK_c03-MKI67'\n",
            " 'B_c04-SOX5-TNFRSF1B' 'T_gdT_c14-TRDV2' 'B_c05-MZB1-XBP1'\n",
            " 'T_CD4_c14-MKI67-CCL5_h' 'NK_c02-NCAM1' 'T_CD8_c13-HAVCR2'\n",
            " 'T_CD4_c13-MKI67-CCL5_l' 'Macro_c5-WDR74' 'Neu_c2-CXCR4(low)'\n",
            " 'Neu_c1-IL1B' 'T_CD4_c10-IFNG' 'T_CD8_c11-MKI67-FOS' 'DC_c1-CLEC9A'\n",
            " 'Macro_c1-C1QC' 'Macro_c4-DNAJB1' 'Neu_c5-GSTP1(high)OASL(low)'\n",
            " 'Neu_c3-CST7' 'Macro_c3-EREG' 'Neu_c4-RSAD2']\n",
            "unique labels: ['mild/moderate' 'severe/critical' 'control']\n",
            "label counts: {'mild/moderate': 128980, 'severe/critical': 83187, 'control': 80373}\n",
            "                                          embeddings       severity  \\\n",
            "0  [0.025452174, -0.018965458, 0.0018634722, -0.0...  mild/moderate   \n",
            "1  [0.029886063, -0.014142646, 0.009479576, -0.00...  mild/moderate   \n",
            "2  [0.022456728, -0.02156871, 0.00094380125, -0.0...  mild/moderate   \n",
            "3  [0.03062719, -0.017493775, 0.0064425226, 0.002...  mild/moderate   \n",
            "4  [0.029602764, -0.014255318, -0.015016448, -0.0...  mild/moderate   \n",
            "\n",
            "           celltype  \n",
            "0     T_CD8_c06-TNF  \n",
            "1   T_CD4_c04-ANXA2  \n",
            "2  T_CD8_c05-ZNF683  \n",
            "3    T_CD4_c01-LEF1  \n",
            "4       B_c01-TCL1A  \n",
            "downsampled data:                                                embeddings       severity  \\\n",
            "42168   [0.022224177, -0.01630361, 0.00013342188, 0.00...  mild/moderate   \n",
            "211795  [0.03402976, -0.01960753, 0.0035509148, -0.005...  mild/moderate   \n",
            "249181  [0.032373067, 0.0009973666, -0.0005038229, -0....  mild/moderate   \n",
            "17398   [0.024884712, -0.020826692, -0.002290877, -0.0...  mild/moderate   \n",
            "286554  [0.028427918, -0.0110510895, -0.002387582, -0....  mild/moderate   \n",
            "\n",
            "             celltype  \n",
            "42168   T_CD8_c06-TNF  \n",
            "211795  T_CD8_c06-TNF  \n",
            "249181  T_CD8_c06-TNF  \n",
            "17398   T_CD8_c06-TNF  \n",
            "286554  T_CD8_c06-TNF  \n"
          ]
        }
      ]
    },
    {
      "cell_type": "code",
      "source": [
        "dataset.distribution_cell_types()"
      ],
      "metadata": {
        "colab": {
          "base_uri": "https://localhost:8080/",
          "height": 962
        },
        "id": "GFm_iWbOnmYI",
        "outputId": "7230fdff-d07c-40f6-be56-2fa498d041fe"
      },
      "execution_count": 58,
      "outputs": [
        {
          "output_type": "execute_result",
          "data": {
            "text/plain": [
              "celltype\n",
              "Mono_c1-CD14-CCL3        3000\n",
              "Mono_c5-CD16             3000\n",
              "B_c02-MS4A1-CD27         3000\n",
              "T_CD8_c02-GPR183         3000\n",
              "T_CD8_c03-GZMK           3000\n",
              "Mono_c2-CD14-HLA-DPB1    3000\n",
              "T_CD8_c08-IL2RB          3000\n",
              "B_c03-CD27-AIM2          3000\n",
              "Mono_c3-CD14-VCAN        3000\n",
              "T_CD8_c04-COTL1          3000\n",
              "T_CD8_c07-TYROBP         3000\n",
              "NK_c01-FCGR3A            3000\n",
              "T_CD4_c06-NR4A2          3000\n",
              "B_c01-TCL1A              3000\n",
              "T_CD4_c01-LEF1           3000\n",
              "T_CD8_c05-ZNF683         3000\n",
              "T_CD8_c01-LEF1           3000\n",
              "T_CD4_c07-AHNAK          2973\n",
              "T_CD4_c05-FOS            2643\n",
              "T_CD4_c04-ANXA2          2487\n",
              "DC_c2-CD1C               2427\n",
              "T_CD4_c02-AQP3           2067\n",
              "T_CD8_c09-SLC4A10        2064\n",
              "T_CD8_c06-TNF            1932\n",
              "T_gdT_c14-TRDV2          1779\n",
              "T_CD4_c12-FOXP3          1701\n",
              "T_CD4_c11-GNLY           1605\n",
              "Name: count, dtype: int64"
            ],
            "text/html": [
              "<div>\n",
              "<style scoped>\n",
              "    .dataframe tbody tr th:only-of-type {\n",
              "        vertical-align: middle;\n",
              "    }\n",
              "\n",
              "    .dataframe tbody tr th {\n",
              "        vertical-align: top;\n",
              "    }\n",
              "\n",
              "    .dataframe thead th {\n",
              "        text-align: right;\n",
              "    }\n",
              "</style>\n",
              "<table border=\"1\" class=\"dataframe\">\n",
              "  <thead>\n",
              "    <tr style=\"text-align: right;\">\n",
              "      <th></th>\n",
              "      <th>count</th>\n",
              "    </tr>\n",
              "    <tr>\n",
              "      <th>celltype</th>\n",
              "      <th></th>\n",
              "    </tr>\n",
              "  </thead>\n",
              "  <tbody>\n",
              "    <tr>\n",
              "      <th>Mono_c1-CD14-CCL3</th>\n",
              "      <td>3000</td>\n",
              "    </tr>\n",
              "    <tr>\n",
              "      <th>Mono_c5-CD16</th>\n",
              "      <td>3000</td>\n",
              "    </tr>\n",
              "    <tr>\n",
              "      <th>B_c02-MS4A1-CD27</th>\n",
              "      <td>3000</td>\n",
              "    </tr>\n",
              "    <tr>\n",
              "      <th>T_CD8_c02-GPR183</th>\n",
              "      <td>3000</td>\n",
              "    </tr>\n",
              "    <tr>\n",
              "      <th>T_CD8_c03-GZMK</th>\n",
              "      <td>3000</td>\n",
              "    </tr>\n",
              "    <tr>\n",
              "      <th>Mono_c2-CD14-HLA-DPB1</th>\n",
              "      <td>3000</td>\n",
              "    </tr>\n",
              "    <tr>\n",
              "      <th>T_CD8_c08-IL2RB</th>\n",
              "      <td>3000</td>\n",
              "    </tr>\n",
              "    <tr>\n",
              "      <th>B_c03-CD27-AIM2</th>\n",
              "      <td>3000</td>\n",
              "    </tr>\n",
              "    <tr>\n",
              "      <th>Mono_c3-CD14-VCAN</th>\n",
              "      <td>3000</td>\n",
              "    </tr>\n",
              "    <tr>\n",
              "      <th>T_CD8_c04-COTL1</th>\n",
              "      <td>3000</td>\n",
              "    </tr>\n",
              "    <tr>\n",
              "      <th>T_CD8_c07-TYROBP</th>\n",
              "      <td>3000</td>\n",
              "    </tr>\n",
              "    <tr>\n",
              "      <th>NK_c01-FCGR3A</th>\n",
              "      <td>3000</td>\n",
              "    </tr>\n",
              "    <tr>\n",
              "      <th>T_CD4_c06-NR4A2</th>\n",
              "      <td>3000</td>\n",
              "    </tr>\n",
              "    <tr>\n",
              "      <th>B_c01-TCL1A</th>\n",
              "      <td>3000</td>\n",
              "    </tr>\n",
              "    <tr>\n",
              "      <th>T_CD4_c01-LEF1</th>\n",
              "      <td>3000</td>\n",
              "    </tr>\n",
              "    <tr>\n",
              "      <th>T_CD8_c05-ZNF683</th>\n",
              "      <td>3000</td>\n",
              "    </tr>\n",
              "    <tr>\n",
              "      <th>T_CD8_c01-LEF1</th>\n",
              "      <td>3000</td>\n",
              "    </tr>\n",
              "    <tr>\n",
              "      <th>T_CD4_c07-AHNAK</th>\n",
              "      <td>2973</td>\n",
              "    </tr>\n",
              "    <tr>\n",
              "      <th>T_CD4_c05-FOS</th>\n",
              "      <td>2643</td>\n",
              "    </tr>\n",
              "    <tr>\n",
              "      <th>T_CD4_c04-ANXA2</th>\n",
              "      <td>2487</td>\n",
              "    </tr>\n",
              "    <tr>\n",
              "      <th>DC_c2-CD1C</th>\n",
              "      <td>2427</td>\n",
              "    </tr>\n",
              "    <tr>\n",
              "      <th>T_CD4_c02-AQP3</th>\n",
              "      <td>2067</td>\n",
              "    </tr>\n",
              "    <tr>\n",
              "      <th>T_CD8_c09-SLC4A10</th>\n",
              "      <td>2064</td>\n",
              "    </tr>\n",
              "    <tr>\n",
              "      <th>T_CD8_c06-TNF</th>\n",
              "      <td>1932</td>\n",
              "    </tr>\n",
              "    <tr>\n",
              "      <th>T_gdT_c14-TRDV2</th>\n",
              "      <td>1779</td>\n",
              "    </tr>\n",
              "    <tr>\n",
              "      <th>T_CD4_c12-FOXP3</th>\n",
              "      <td>1701</td>\n",
              "    </tr>\n",
              "    <tr>\n",
              "      <th>T_CD4_c11-GNLY</th>\n",
              "      <td>1605</td>\n",
              "    </tr>\n",
              "  </tbody>\n",
              "</table>\n",
              "</div><br><label><b>dtype:</b> int64</label>"
            ]
          },
          "metadata": {},
          "execution_count": 58
        }
      ]
    },
    {
      "cell_type": "code",
      "source": [
        "from google.colab import drive\n",
        "drive.mount('/content/drive')"
      ],
      "metadata": {
        "id": "_qILuHRdhu8j",
        "colab": {
          "base_uri": "https://localhost:8080/"
        },
        "outputId": "3234c97a-215d-4f8a-fdeb-0d7552df54de"
      },
      "execution_count": 59,
      "outputs": [
        {
          "output_type": "stream",
          "name": "stdout",
          "text": [
            "Drive already mounted at /content/drive; to attempt to forcibly remount, call drive.mount(\"/content/drive\", force_remount=True).\n"
          ]
        }
      ]
    },
    {
      "cell_type": "code",
      "source": [
        "train_size = int(0.8 * len(dataset))\n",
        "test_size = len(dataset) - train_size\n",
        "\n",
        "train_dataset, test_dataset = random_split(dataset, [train_size, test_size])"
      ],
      "metadata": {
        "id": "FduZTm4jhIH6"
      },
      "execution_count": 60,
      "outputs": []
    },
    {
      "cell_type": "code",
      "source": [
        "train_loader = DataLoader(train_dataset, batch_size=BATCH_SIZE, shuffle=True)\n",
        "test_loader = DataLoader(test_dataset, batch_size=BATCH_SIZE, shuffle=False)"
      ],
      "metadata": {
        "id": "LFLzlS0kvAdY"
      },
      "execution_count": 61,
      "outputs": []
    },
    {
      "cell_type": "code",
      "source": [
        "for (embeddings, labels,_) in train_loader:\n",
        "    print(type(embeddings[0]))\n",
        "    print(type(labels[0]))\n",
        "    print(type(embeddings[0][0]))\n",
        "    print(type(labels[0].item()))\n",
        "    break"
      ],
      "metadata": {
        "colab": {
          "base_uri": "https://localhost:8080/"
        },
        "id": "Bp8Ct-gYvhVZ",
        "outputId": "4959ca57-10a2-44c7-ac0a-c5be42ac0e9f"
      },
      "execution_count": 62,
      "outputs": [
        {
          "output_type": "stream",
          "name": "stdout",
          "text": [
            "<class 'torch.Tensor'>\n",
            "<class 'torch.Tensor'>\n",
            "<class 'torch.Tensor'>\n",
            "<class 'float'>\n"
          ]
        }
      ]
    },
    {
      "cell_type": "markdown",
      "source": [
        "# Model Architecture\n"
      ],
      "metadata": {
        "id": "i3sNfm7dvb2o"
      }
    },
    {
      "cell_type": "code",
      "source": [
        "class Classifier(torch.nn.Module):\n",
        "    def __init__(self):\n",
        "        super(Classifier, self).__init__()\n",
        "        self.layers = nn.Sequential(\n",
        "            nn.Linear(in_features=512, out_features=1024),\n",
        "            nn.LeakyReLU(0.2),\n",
        "            nn.Linear(in_features=1024, out_features=2048),\n",
        "            nn.LeakyReLU(0.2),\n",
        "            nn.Linear(in_features=2048, out_features=2048),\n",
        "            nn.LeakyReLU(0.2),\n",
        "            nn.Linear(in_features=2048, out_features=1024),\n",
        "            nn.LeakyReLU(0.2),\n",
        "            nn.Linear(in_features=1024, out_features=1024),\n",
        "            nn.LeakyReLU(0.2),\n",
        "            nn.Linear(in_features=1024, out_features=3),\n",
        "        )\n",
        "\n",
        "    def forward(self, x):\n",
        "        return self.layers(x)"
      ],
      "metadata": {
        "id": "q26P_D3UvdWu"
      },
      "execution_count": 63,
      "outputs": []
    },
    {
      "cell_type": "code",
      "source": [
        "# trainings loop\n",
        "\n",
        "def train(model, train_loader, num_epocs, optimizer, criterion):\n",
        "    for epoch in range(num_epocs):\n",
        "        model.to(device).train()\n",
        "        running_loss = 0.0\n",
        "        dataloader = tqdm(train_loader, desc=f\"Epoch {epoch+1}/{num_epocs}\")\n",
        "        for i, (embeddings, label, _) in enumerate(dataloader):\n",
        "            embeddings, label = embeddings.to(device), label.to(device).long()\n",
        "            optimizer.zero_grad()\n",
        "            output = model(embeddings)\n",
        "            #criterion = nn.CrossEntropyLoss()\n",
        "            #output = torch.argmax(output, dim=1)\n",
        "            loss = criterion(output, label)\n",
        "            loss.backward()\n",
        "            optimizer.step()\n",
        "            running_loss += loss.item()\n",
        "            dataloader.set_postfix({\"loss\":running_loss/(i+1)})"
      ],
      "metadata": {
        "id": "i9nyFq5TyIYn"
      },
      "execution_count": 50,
      "outputs": []
    },
    {
      "cell_type": "code",
      "source": [
        "from tqdm import tqdm\n",
        "\n",
        "# Training Loop\n",
        "def train(model, train_loader, num_epochs, optimizer, criterion):\n",
        "    model.to(device)  # Move model to device ONCE\n",
        "    model.train()  # Set model to training mode\n",
        "\n",
        "    for epoch in range(num_epochs):\n",
        "        running_loss = 0.0\n",
        "        dataloader = tqdm(train_loader, desc=f\"Epoch {epoch+1}/{num_epochs}\")\n",
        "\n",
        "        for i, (embeddings, labels, _) in enumerate(dataloader):\n",
        "            embeddings, labels = embeddings.to(device), labels.to(device).long()  # Ensure labels are long\n",
        "\n",
        "            optimizer.zero_grad()\n",
        "            output = model(embeddings)  # Get raw logits\n",
        "\n",
        "            loss = criterion(output, labels)  # Compute loss\n",
        "            loss.backward()  # Backpropagation\n",
        "            optimizer.step()  # Update weights\n",
        "\n",
        "            running_loss += loss.item()\n",
        "            dataloader.set_postfix({\"Loss\": running_loss / (i + 1)})  # Show average loss per batch\n"
      ],
      "metadata": {
        "id": "Ll9Gc-pfmo5G"
      },
      "execution_count": 64,
      "outputs": []
    },
    {
      "cell_type": "code",
      "source": [
        "# directory paths to google drive for model saving and retrieving\n",
        "\n",
        "directory_path = 'content/MyDrive/biomedicine/models/classifier'\n",
        "\n",
        "binary_classifier_model_path = os.path.join(directory_path, 'binary_classifier.pth')"
      ],
      "metadata": {
        "id": "f5gZvfHiyz3e"
      },
      "execution_count": 65,
      "outputs": []
    },
    {
      "cell_type": "code",
      "source": [
        "# custom weights initialization\n",
        "def weights_init(m):\n",
        "    classname = m.__class__.__name__\n",
        "    if classname.find('Linear') != -1:\n",
        "        nn.init.normal_(m.weight.data, 0.0, 1/m.weight.shape[1])"
      ],
      "metadata": {
        "id": "-Rz_PSGpsbgR"
      },
      "execution_count": 66,
      "outputs": []
    },
    {
      "cell_type": "code",
      "source": [
        "# Initialize the model\n",
        "\n",
        "classifier_model = Classifier().to(device)\n",
        "\n",
        "if LOAD_FROM_DRIVE:\n",
        "    try:\n",
        "        classifier_model.load_state_dict(torch.load(binary_classifier_model_path, weights_only=True))\n",
        "        print(\"Model loaded from drive\")\n",
        "    except Exception as e:\n",
        "        print(f\"Error loading model from drive: {e}\")\n",
        "# else:\n",
        "#     classifier_model.apply(weights_init)\n",
        "\n",
        "# set up loss function and optimizer\n",
        "\n",
        "criterion = nn.CrossEntropyLoss()\n",
        "optimizer = optim.Adam(classifier_model.parameters(), lr=LEARNING_RATE)"
      ],
      "metadata": {
        "id": "zLqBjs4rzb72"
      },
      "execution_count": 67,
      "outputs": []
    },
    {
      "cell_type": "markdown",
      "source": [
        "# Training"
      ],
      "metadata": {
        "id": "7rHnNd7840T_"
      }
    },
    {
      "cell_type": "code",
      "source": [
        "# start training loop\n",
        "if not LOAD_FROM_DRIVE:\n",
        "    train(\n",
        "        model=classifier_model,\n",
        "        train_loader=train_loader,\n",
        "        num_epochs=NUM_EPOCHS,\n",
        "        optimizer=optimizer,\n",
        "        criterion=criterion\n",
        "    )"
      ],
      "metadata": {
        "id": "CIrvs72E0Lus",
        "colab": {
          "base_uri": "https://localhost:8080/"
        },
        "outputId": "5aa1c2a4-4e41-4a2f-ee99-11efa0ae910b"
      },
      "execution_count": 71,
      "outputs": [
        {
          "output_type": "stream",
          "name": "stderr",
          "text": [
            "Epoch 1/10: 100%|██████████| 455/455 [01:57<00:00,  3.87it/s, Loss=0.817]\n",
            "Epoch 2/10: 100%|██████████| 455/455 [01:58<00:00,  3.85it/s, Loss=0.565]\n",
            "Epoch 3/10: 100%|██████████| 455/455 [01:54<00:00,  3.96it/s, Loss=0.493]\n",
            "Epoch 4/10: 100%|██████████| 455/455 [01:56<00:00,  3.90it/s, Loss=0.437]\n",
            "Epoch 5/10: 100%|██████████| 455/455 [01:54<00:00,  3.98it/s, Loss=0.406]\n",
            "Epoch 6/10: 100%|██████████| 455/455 [01:56<00:00,  3.90it/s, Loss=0.379]\n",
            "Epoch 7/10: 100%|██████████| 455/455 [01:55<00:00,  3.95it/s, Loss=0.361]\n",
            "Epoch 8/10: 100%|██████████| 455/455 [01:55<00:00,  3.92it/s, Loss=0.334]\n",
            "Epoch 9/10: 100%|██████████| 455/455 [01:56<00:00,  3.90it/s, Loss=0.323]\n",
            "Epoch 10/10: 100%|██████████| 455/455 [02:05<00:00,  3.63it/s, Loss=0.309]\n"
          ]
        }
      ]
    },
    {
      "cell_type": "code",
      "source": [
        "# save to drive\n",
        "\n",
        "if SAVE_TO_DRIVE:\n",
        "    try:\n",
        "        os.makedirs(directory_path)\n",
        "    except FileExistsError:\n",
        "        pass\n",
        "\n",
        "    torch.save(classifier_model.state_dict(), binary_classifier_model_path)\n",
        "    print(\"Model saved to drive\")"
      ],
      "metadata": {
        "id": "cSoHsDzv0QyT"
      },
      "execution_count": null,
      "outputs": []
    },
    {
      "cell_type": "markdown",
      "source": [
        "# Evaluation"
      ],
      "metadata": {
        "id": "Ct0Lp8HK44gR"
      }
    },
    {
      "cell_type": "code",
      "source": [
        "import torch\n",
        "import pandas as pd\n",
        "import seaborn as sns\n",
        "import matplotlib.pyplot as plt\n",
        "from sklearn.metrics import accuracy_score, precision_score, recall_score, f1_score, confusion_matrix\n",
        "from collections import defaultdict\n",
        "\n",
        "def evaluate(model, test_loader):\n",
        "    model.eval()\n",
        "    all_preds = []\n",
        "    all_labels = []\n",
        "    cell_type_results = defaultdict(lambda: {\"y_true\": [], \"y_pred\": []})  # Store results per cell type\n",
        "\n",
        "    with torch.no_grad():\n",
        "        for embeddings, labels, cell_types in test_loader:\n",
        "            embeddings, labels = embeddings.to(device), labels.to(device)\n",
        "            outputs = model(embeddings).squeeze()\n",
        "            preds = torch.argmax(outputs, dim=1)  # Convert probabilities to predicted labels\n",
        "\n",
        "            all_preds.extend(preds.cpu().numpy())\n",
        "            all_labels.extend(labels.cpu().numpy())\n",
        "\n",
        "            # Store results for each cell type\n",
        "            for i, cell in enumerate(cell_types):\n",
        "                cell_type_results[cell][\"y_true\"].append(labels[i].item())\n",
        "                cell_type_results[cell][\"y_pred\"].append(preds[i].item())\n",
        "\n",
        "    # Compute overall metrics\n",
        "    accuracy = accuracy_score(all_labels, all_preds)\n",
        "    precision = precision_score(all_labels, all_preds, average=\"macro\")\n",
        "    recall = recall_score(all_labels, all_preds, average=\"macro\")\n",
        "    f1 = f1_score(all_labels, all_preds, average=\"macro\")\n",
        "\n",
        "    # Compute confusion matrix\n",
        "    conf_matrix = confusion_matrix(all_labels, all_preds)\n",
        "\n",
        "    # Plot confusion matrix\n",
        "    plt.figure(figsize=(6,5))\n",
        "    sns.heatmap(conf_matrix, annot=True, fmt=\"d\", cmap=\"Blues\", xticklabels=[\"control\", \"mild/moderate\", \"severe/critical\"], yticklabels=[\"control\", \"mild/moderate\", \"severe/critical\"])\n",
        "    plt.xlabel(\"Predicted Labels\")\n",
        "    plt.ylabel(\"True Labels\")\n",
        "    plt.title(\"Confusion Matrix\")\n",
        "    plt.show()\n",
        "\n",
        "    # Compute metrics per cell type\n",
        "    cell_type_list, acc_list, f1_list, prec_list, rec_list = [], [], [], [], []\n",
        "    for cell, values in cell_type_results.items():\n",
        "        acc = accuracy_score(values[\"y_true\"], values[\"y_pred\"])\n",
        "        prec = precision_score(values[\"y_true\"], values[\"y_pred\"], average=\"macro\")\n",
        "        rec = recall_score(values[\"y_true\"], values[\"y_pred\"], average=\"macro\")\n",
        "        f1 = f1_score(values[\"y_true\"], values[\"y_pred\"], average=\"macro\")\n",
        "\n",
        "        cell_type_list.append(cell)\n",
        "        acc_list.append(acc)\n",
        "        f1_list.append(f1)\n",
        "        prec_list.append(prec)\n",
        "        rec_list.append(rec)\n",
        "\n",
        "    cell_type_results_df = pd.DataFrame({\n",
        "        \"Cell Type\": cell_type_list,\n",
        "        \"Accuracy\": acc_list,\n",
        "        \"F1-score\": f1_list,\n",
        "        \"Precision\": prec_list,\n",
        "        \"Recall\": rec_list\n",
        "    })\n",
        "\n",
        "    return accuracy, precision, recall, f1, cell_type_results_df\n"
      ],
      "metadata": {
        "id": "Nlqh9bfguQuM"
      },
      "execution_count": 89,
      "outputs": []
    },
    {
      "cell_type": "code",
      "source": [
        "import pandas as pd\n",
        "from collections import Counter\n",
        "\n",
        "def compare_cell_type_distribution(dataset, train_loader, test_loader):\n",
        "    # Get total distribution from dataset (assuming it's a DataFrame)\n",
        "    total_distribution = dataset.distribution_cell_types()\n",
        "\n",
        "    # Ensure it's a DataFrame\n",
        "    if isinstance(total_distribution, pd.Series):\n",
        "        total_distribution = total_distribution.reset_index()\n",
        "        total_distribution.columns = [\"Cell Type\", \"Total Count\"]\n",
        "\n",
        "    # Initialize counters for train and test sets\n",
        "    train_counter = Counter()\n",
        "    test_counter = Counter()\n",
        "\n",
        "    # Count occurrences of each cell type in training set\n",
        "    for _, _, cell_types in train_loader:\n",
        "        train_counter.update(cell_types)\n",
        "\n",
        "    # Count occurrences of each cell type in test set\n",
        "    for _, _, cell_types in test_loader:\n",
        "        test_counter.update(cell_types)\n",
        "\n",
        "    # Convert counters to Pandas Series\n",
        "    train_series = pd.Series(train_counter, name=\"Train Count\")\n",
        "    test_series = pd.Series(test_counter, name=\"Test Count\")\n",
        "\n",
        "    # Create a DataFrame with all distributions\n",
        "    df = total_distribution.set_index(\"Cell Type\").join([train_series, test_series]).fillna(0)\n",
        "\n",
        "    # Convert counts to integers\n",
        "    df = df.astype(int)\n",
        "\n",
        "    # Print the table\n",
        "   # print(df)\n",
        "\n",
        "    return df\n"
      ],
      "metadata": {
        "id": "sMpb5bMTolFE"
      },
      "execution_count": 73,
      "outputs": []
    },
    {
      "cell_type": "code",
      "source": [
        "import pandas as pd\n",
        "import seaborn as sns\n",
        "import matplotlib.pyplot as plt\n",
        "from scipy.stats import pearsonr\n",
        "\n",
        "def analyze_correlation(dataset, train_loader, test_loader, model):\n",
        "    # Step 1: Get dataset distribution\n",
        "    total_distribution = dataset.distribution_cell_types()\n",
        "\n",
        "    # Ensure it's a DataFrame\n",
        "    if isinstance(total_distribution, pd.Series):\n",
        "        total_distribution = total_distribution.reset_index()\n",
        "        total_distribution.columns = [\"Cell Type\", \"Train Count\"]\n",
        "\n",
        "    # Step 2: Evaluate model performance per cell type\n",
        "    _, _, _, _, cell_results = evaluate(model, test_loader)\n",
        "    \"\"\"\n",
        "    # Step 3: Ensure cell_results is properly structured\n",
        "    if isinstance(cell_results, dict):\n",
        "        performance_data = []\n",
        "        for cell_type, metrics in cell_results.items():\n",
        "            if isinstance(metrics, dict):  # Ensure it's not a string or number\n",
        "                row = {\"Cell Type\": cell_type}\n",
        "                row.update(metrics)  # Add accuracy, F1-score, etc.\n",
        "                performance_data.append(row)\n",
        "        performance_df = pd.DataFrame(performance_data)\n",
        "    else:\n",
        "        raise ValueError(\"cell_results is not a valid dictionary.\")\n",
        "    \"\"\"\n",
        "    # Step 4: Merge both DataFrames\n",
        "    merged_df = total_distribution.merge(cell_results, on=\"Cell Type\", how=\"inner\")\n",
        "\n",
        "    # Step 5: Compute correlation\n",
        "    correlation_results = {\n",
        "        \"Accuracy\": pearsonr(merged_df[\"Train Count\"], merged_df[\"Accuracy\"])[0],\n",
        "        \"F1-score\": pearsonr(merged_df[\"Train Count\"], merged_df[\"F1-score\"])[0]\n",
        "    }\n",
        "\n",
        "    # Step 6: Visualization\n",
        "    plt.figure(figsize=(12, 5))\n",
        "\n",
        "    # Scatter Plot: Frequency vs Accuracy\n",
        "    plt.subplot(1, 2, 1)\n",
        "    sns.scatterplot(x=merged_df[\"Train Count\"], y=merged_df[\"Accuracy\"])\n",
        "    plt.xlabel(\"Train Count of Cell Type\")\n",
        "    plt.ylabel(\"Accuracy\")\n",
        "    plt.title(f\"Correlation: {correlation_results['Accuracy']:.4f}\")\n",
        "\n",
        "    # Scatter Plot: Frequency vs F1-score\n",
        "    plt.subplot(1, 2, 2)\n",
        "    sns.scatterplot(x=merged_df[\"Train Count\"], y=merged_df[\"F1-score\"])\n",
        "    plt.xlabel(\"Train Count of Cell Type\")\n",
        "    plt.ylabel(\"F1-score\")\n",
        "    plt.title(f\"Correlation: {correlation_results['F1-score']:.4f}\")\n",
        "\n",
        "    plt.tight_layout()\n",
        "    plt.show()\n",
        "\n",
        "    # Print correlation results\n",
        "    print(\"Correlation between Cell Type Frequency and Performance:\")\n",
        "    print(f\"  Accuracy Correlation: {correlation_results['Accuracy']:.4f}\")\n",
        "    print(f\"  F1-score Correlation: {correlation_results['F1-score']:.4f}\")\n",
        "\n",
        "    return merged_df, correlation_results\n"
      ],
      "metadata": {
        "id": "1FRwNSRzpfz6"
      },
      "execution_count": 90,
      "outputs": []
    },
    {
      "cell_type": "code",
      "source": [
        "df_analysis, correlation = analyze_correlation(dataset, train_loader, test_loader, classifier_model)"
      ],
      "metadata": {
        "colab": {
          "base_uri": "https://localhost:8080/",
          "height": 1000
        },
        "id": "mM1EI22Pph6e",
        "outputId": "7daed7c4-71b3-47ac-a463-2df82a8f1180"
      },
      "execution_count": 91,
      "outputs": [
        {
          "output_type": "display_data",
          "data": {
            "text/plain": [
              "<Figure size 600x500 with 2 Axes>"
            ],
            "image/png": "[encoded data removed]"
          },
          "metadata": {}
        },
        {
          "output_type": "display_data",
          "data": {
            "text/plain": [
              "<Figure size 1200x500 with 2 Axes>"
            ],
            "image/png": "[encoded data removed]"
          },
          "metadata": {}
        },
        {
          "output_type": "stream",
          "name": "stdout",
          "text": [
            "Correlation between Cell Type Frequency and Performance:\n",
            "  Accuracy Correlation: -0.3244\n",
            "  F1-score Correlation: -0.3197\n"
          ]
        }
      ]
    },
    {
      "cell_type": "code",
      "source": [
        "compare_cell_type_distribution(dataset, train_loader, test_loader)\n"
      ],
      "metadata": {
        "colab": {
          "base_uri": "https://localhost:8080/",
          "height": 927
        },
        "id": "EFYmCwHtomDz",
        "outputId": "3c9bafeb-05cd-4c00-f30a-a0c2b4ca42cc"
      },
      "execution_count": 92,
      "outputs": [
        {
          "output_type": "execute_result",
          "data": {
            "text/plain": [
              "                       Total Count  Train Count  Test Count\n",
              "Cell Type                                                  \n",
              "Mono_c1-CD14-CCL3             3000         2381         619\n",
              "Mono_c5-CD16                  3000         2367         633\n",
              "B_c02-MS4A1-CD27              3000         2432         568\n",
              "T_CD8_c02-GPR183              3000         2411         589\n",
              "T_CD8_c03-GZMK                3000         2394         606\n",
              "Mono_c2-CD14-HLA-DPB1         3000         2411         589\n",
              "T_CD8_c08-IL2RB               3000         2383         617\n",
              "B_c03-CD27-AIM2               3000         2407         593\n",
              "Mono_c3-CD14-VCAN             3000         2418         582\n",
              "T_CD8_c04-COTL1               3000         2352         648\n",
              "T_CD8_c07-TYROBP              3000         2399         601\n",
              "NK_c01-FCGR3A                 3000         2425         575\n",
              "T_CD4_c06-NR4A2               3000         2372         628\n",
              "B_c01-TCL1A                   3000         2374         626\n",
              "T_CD4_c01-LEF1                3000         2380         620\n",
              "T_CD8_c05-ZNF683              3000         2394         606\n",
              "T_CD8_c01-LEF1                3000         2364         636\n",
              "T_CD4_c07-AHNAK               2973         2388         585\n",
              "T_CD4_c05-FOS                 2643         2095         548\n",
              "T_CD4_c04-ANXA2               2487         2022         465\n",
              "DC_c2-CD1C                    2427         1955         472\n",
              "T_CD4_c02-AQP3                2067         1672         395\n",
              "T_CD8_c09-SLC4A10             2064         1699         365\n",
              "T_CD8_c06-TNF                 1932         1556         376\n",
              "T_gdT_c14-TRDV2               1779         1444         335\n",
              "T_CD4_c12-FOXP3               1701         1366         335\n",
              "T_CD4_c11-GNLY                1605         1281         324"
            ],
            "text/html": [
              "\n",
              "  <div id=\"df-849ed465-2c23-419d-87b9-43df2a1accf7\" class=\"colab-df-container\">\n",
              "    <div>\n",
              "<style scoped>\n",
              "    .dataframe tbody tr th:only-of-type {\n",
              "        vertical-align: middle;\n",
              "    }\n",
              "\n",
              "    .dataframe tbody tr th {\n",
              "        vertical-align: top;\n",
              "    }\n",
              "\n",
              "    .dataframe thead th {\n",
              "        text-align: right;\n",
              "    }\n",
              "</style>\n",
              "<table border=\"1\" class=\"dataframe\">\n",
              "  <thead>\n",
              "    <tr style=\"text-align: right;\">\n",
              "      <th></th>\n",
              "      <th>Total Count</th>\n",
              "      <th>Train Count</th>\n",
              "      <th>Test Count</th>\n",
              "    </tr>\n",
              "    <tr>\n",
              "      <th>Cell Type</th>\n",
              "      <th></th>\n",
              "      <th></th>\n",
              "      <th></th>\n",
              "    </tr>\n",
              "  </thead>\n",
              "  <tbody>\n",
              "    <tr>\n",
              "      <th>Mono_c1-CD14-CCL3</th>\n",
              "      <td>3000</td>\n",
              "      <td>2381</td>\n",
              "      <td>619</td>\n",
              "    </tr>\n",
              "    <tr>\n",
              "      <th>Mono_c5-CD16</th>\n",
              "      <td>3000</td>\n",
              "      <td>2367</td>\n",
              "      <td>633</td>\n",
              "    </tr>\n",
              "    <tr>\n",
              "      <th>B_c02-MS4A1-CD27</th>\n",
              "      <td>3000</td>\n",
              "      <td>2432</td>\n",
              "      <td>568</td>\n",
              "    </tr>\n",
              "    <tr>\n",
              "      <th>T_CD8_c02-GPR183</th>\n",
              "      <td>3000</td>\n",
              "      <td>2411</td>\n",
              "      <td>589</td>\n",
              "    </tr>\n",
              "    <tr>\n",
              "      <th>T_CD8_c03-GZMK</th>\n",
              "      <td>3000</td>\n",
              "      <td>2394</td>\n",
              "      <td>606</td>\n",
              "    </tr>\n",
              "    <tr>\n",
              "      <th>Mono_c2-CD14-HLA-DPB1</th>\n",
              "      <td>3000</td>\n",
              "      <td>2411</td>\n",
              "      <td>589</td>\n",
              "    </tr>\n",
              "    <tr>\n",
              "      <th>T_CD8_c08-IL2RB</th>\n",
              "      <td>3000</td>\n",
              "      <td>2383</td>\n",
              "      <td>617</td>\n",
              "    </tr>\n",
              "    <tr>\n",
              "      <th>B_c03-CD27-AIM2</th>\n",
              "      <td>3000</td>\n",
              "      <td>2407</td>\n",
              "      <td>593</td>\n",
              "    </tr>\n",
              "    <tr>\n",
              "      <th>Mono_c3-CD14-VCAN</th>\n",
              "      <td>3000</td>\n",
              "      <td>2418</td>\n",
              "      <td>582</td>\n",
              "    </tr>\n",
              "    <tr>\n",
              "      <th>T_CD8_c04-COTL1</th>\n",
              "      <td>3000</td>\n",
              "      <td>2352</td>\n",
              "      <td>648</td>\n",
              "    </tr>\n",
              "    <tr>\n",
              "      <th>T_CD8_c07-TYROBP</th>\n",
              "      <td>3000</td>\n",
              "      <td>2399</td>\n",
              "      <td>601</td>\n",
              "    </tr>\n",
              "    <tr>\n",
              "      <th>NK_c01-FCGR3A</th>\n",
              "      <td>3000</td>\n",
              "      <td>2425</td>\n",
              "      <td>575</td>\n",
              "    </tr>\n",
              "    <tr>\n",
              "      <th>T_CD4_c06-NR4A2</th>\n",
              "      <td>3000</td>\n",
              "      <td>2372</td>\n",
              "      <td>628</td>\n",
              "    </tr>\n",
              "    <tr>\n",
              "      <th>B_c01-TCL1A</th>\n",
              "      <td>3000</td>\n",
              "      <td>2374</td>\n",
              "      <td>626</td>\n",
              "    </tr>\n",
              "    <tr>\n",
              "      <th>T_CD4_c01-LEF1</th>\n",
              "      <td>3000</td>\n",
              "      <td>2380</td>\n",
              "      <td>620</td>\n",
              "    </tr>\n",
              "    <tr>\n",
              "      <th>T_CD8_c05-ZNF683</th>\n",
              "      <td>3000</td>\n",
              "      <td>2394</td>\n",
              "      <td>606</td>\n",
              "    </tr>\n",
              "    <tr>\n",
              "      <th>T_CD8_c01-LEF1</th>\n",
              "      <td>3000</td>\n",
              "      <td>2364</td>\n",
              "      <td>636</td>\n",
              "    </tr>\n",
              "    <tr>\n",
              "      <th>T_CD4_c07-AHNAK</th>\n",
              "      <td>2973</td>\n",
              "      <td>2388</td>\n",
              "      <td>585</td>\n",
              "    </tr>\n",
              "    <tr>\n",
              "      <th>T_CD4_c05-FOS</th>\n",
              "      <td>2643</td>\n",
              "      <td>2095</td>\n",
              "      <td>548</td>\n",
              "    </tr>\n",
              "    <tr>\n",
              "      <th>T_CD4_c04-ANXA2</th>\n",
              "      <td>2487</td>\n",
              "      <td>2022</td>\n",
              "      <td>465</td>\n",
              "    </tr>\n",
              "    <tr>\n",
              "      <th>DC_c2-CD1C</th>\n",
              "      <td>2427</td>\n",
              "      <td>1955</td>\n",
              "      <td>472</td>\n",
              "    </tr>\n",
              "    <tr>\n",
              "      <th>T_CD4_c02-AQP3</th>\n",
              "      <td>2067</td>\n",
              "      <td>1672</td>\n",
              "      <td>395</td>\n",
              "    </tr>\n",
              "    <tr>\n",
              "      <th>T_CD8_c09-SLC4A10</th>\n",
              "      <td>2064</td>\n",
              "      <td>1699</td>\n",
              "      <td>365</td>\n",
              "    </tr>\n",
              "    <tr>\n",
              "      <th>T_CD8_c06-TNF</th>\n",
              "      <td>1932</td>\n",
              "      <td>1556</td>\n",
              "      <td>376</td>\n",
              "    </tr>\n",
              "    <tr>\n",
              "      <th>T_gdT_c14-TRDV2</th>\n",
              "      <td>1779</td>\n",
              "      <td>1444</td>\n",
              "      <td>335</td>\n",
              "    </tr>\n",
              "    <tr>\n",
              "      <th>T_CD4_c12-FOXP3</th>\n",
              "      <td>1701</td>\n",
              "      <td>1366</td>\n",
              "      <td>335</td>\n",
              "    </tr>\n",
              "    <tr>\n",
              "      <th>T_CD4_c11-GNLY</th>\n",
              "      <td>1605</td>\n",
              "      <td>1281</td>\n",
              "      <td>324</td>\n",
              "    </tr>\n",
              "  </tbody>\n",
              "</table>\n",
              "</div>\n",
              "    <div class=\"colab-df-buttons\">\n",
              "\n",
              "  <div class=\"colab-df-container\">\n",
              "    <button class=\"colab-df-convert\" onclick=\"convertToInteractive('df-849ed465-2c23-419d-87b9-43df2a1accf7')\"\n",
              "            title=\"Convert this dataframe to an interactive table.\"\n",
              "            style=\"display:none;\">\n",
              "\n",
              "  <svg xmlns=\"http://www.w3.org/2000/svg\" height=\"24px\" viewBox=\"0 -960 960 960\">\n",
              "    <path d=\"M120-120v-720h720v720H120Zm60-500h600v-160H180v160Zm220 220h160v-160H400v160Zm0 220h160v-160H400v160ZM180-400h160v-160H180v160Zm440 0h160v-160H620v160ZM180-180h160v-160H180v160Zm440 0h160v-160H620v160Z\"/>\n",
              "  </svg>\n",
              "    </button>\n",
              "\n",
              "  <style>\n",
              "    .colab-df-container {\n",
              "      display:flex;\n",
              "      gap: 12px;\n",
              "    }\n",
              "\n",
              "    .colab-df-convert {\n",
              "      background-color: #E8F0FE;\n",
              "      border: none;\n",
              "      border-radius: 50%;\n",
              "      cursor: pointer;\n",
              "      display: none;\n",
              "      fill: #1967D2;\n",
              "      height: 32px;\n",
              "      padding: 0 0 0 0;\n",
              "      width: 32px;\n",
              "    }\n",
              "\n",
              "    .colab-df-convert:hover {\n",
              "      background-color: #E2EBFA;\n",
              "      box-shadow: 0px 1px 2px rgba(60, 64, 67, 0.3), 0px 1px 3px 1px rgba(60, 64, 67, 0.15);\n",
              "      fill: #174EA6;\n",
              "    }\n",
              "\n",
              "    .colab-df-buttons div {\n",
              "      margin-bottom: 4px;\n",
              "    }\n",
              "\n",
              "    [theme=dark] .colab-df-convert {\n",
              "      background-color: #3B4455;\n",
              "      fill: #D2E3FC;\n",
              "    }\n",
              "\n",
              "    [theme=dark] .colab-df-convert:hover {\n",
              "      background-color: #434B5C;\n",
              "      box-shadow: 0px 1px 3px 1px rgba(0, 0, 0, 0.15);\n",
              "      filter: drop-shadow(0px 1px 2px rgba(0, 0, 0, 0.3));\n",
              "      fill: #FFFFFF;\n",
              "    }\n",
              "  </style>\n",
              "\n",
              "    <script>\n",
              "      const buttonEl =\n",
              "        document.querySelector('#df-849ed465-2c23-419d-87b9-43df2a1accf7 button.colab-df-convert');\n",
              "      buttonEl.style.display =\n",
              "        google.colab.kernel.accessAllowed ? 'block' : 'none';\n",
              "\n",
              "      async function convertToInteractive(key) {\n",
              "        const element = document.querySelector('#df-849ed465-2c23-419d-87b9-43df2a1accf7');\n",
              "        const dataTable =\n",
              "          await google.colab.kernel.invokeFunction('convertToInteractive',\n",
              "                                                    [key], {});\n",
              "        if (!dataTable) return;\n",
              "\n",
              "        const docLinkHtml = 'Like what you see? Visit the ' +\n",
              "          '<a target=\"_blank\" href=https://colab.research.google.com/notebooks/data_table.ipynb>data table notebook</a>'\n",
              "          + ' to learn more about interactive tables.';\n",
              "        element.innerHTML = '';\n",
              "        dataTable['output_type'] = 'display_data';\n",
              "        await google.colab.output.renderOutput(dataTable, element);\n",
              "        const docLink = document.createElement('div');\n",
              "        docLink.innerHTML = docLinkHtml;\n",
              "        element.appendChild(docLink);\n",
              "      }\n",
              "    </script>\n",
              "  </div>\n",
              "\n",
              "\n",
              "<div id=\"df-b1934330-4b1d-42a7-858b-661ff374994b\">\n",
              "  <button class=\"colab-df-quickchart\" onclick=\"quickchart('df-b1934330-4b1d-42a7-858b-661ff374994b')\"\n",
              "            title=\"Suggest charts\"\n",
              "            style=\"display:none;\">\n",
              "\n",
              "<svg xmlns=\"http://www.w3.org/2000/svg\" height=\"24px\"viewBox=\"0 0 24 24\"\n",
              "     width=\"24px\">\n",
              "    <g>\n",
              "        <path d=\"M19 3H5c-1.1 0-2 .9-2 2v14c0 1.1.9 2 2 2h14c1.1 0 2-.9 2-2V5c0-1.1-.9-2-2-2zM9 17H7v-7h2v7zm4 0h-2V7h2v10zm4 0h-2v-4h2v4z\"/>\n",
              "    </g>\n",
              "</svg>\n",
              "  </button>\n",
              "\n",
              "<style>\n",
              "  .colab-df-quickchart {\n",
              "      --bg-color: #E8F0FE;\n",
              "      --fill-color: #1967D2;\n",
              "      --hover-bg-color: #E2EBFA;\n",
              "      --hover-fill-color: #174EA6;\n",
              "      --disabled-fill-color: #AAA;\n",
              "      --disabled-bg-color: #DDD;\n",
              "  }\n",
              "\n",
              "  [theme=dark] .colab-df-quickchart {\n",
              "      --bg-color: #3B4455;\n",
              "      --fill-color: #D2E3FC;\n",
              "      --hover-bg-color: #434B5C;\n",
              "      --hover-fill-color: #FFFFFF;\n",
              "      --disabled-bg-color: #3B4455;\n",
              "      --disabled-fill-color: #666;\n",
              "  }\n",
              "\n",
              "  .colab-df-quickchart {\n",
              "    background-color: var(--bg-color);\n",
              "    border: none;\n",
              "    border-radius: 50%;\n",
              "    cursor: pointer;\n",
              "    display: none;\n",
              "    fill: var(--fill-color);\n",
              "    height: 32px;\n",
              "    padding: 0;\n",
              "    width: 32px;\n",
              "  }\n",
              "\n",
              "  .colab-df-quickchart:hover {\n",
              "    background-color: var(--hover-bg-color);\n",
              "    box-shadow: 0 1px 2px rgba(60, 64, 67, 0.3), 0 1px 3px 1px rgba(60, 64, 67, 0.15);\n",
              "    fill: var(--button-hover-fill-color);\n",
              "  }\n",
              "\n",
              "  .colab-df-quickchart-complete:disabled,\n",
              "  .colab-df-quickchart-complete:disabled:hover {\n",
              "    background-color: var(--disabled-bg-color);\n",
              "    fill: var(--disabled-fill-color);\n",
              "    box-shadow: none;\n",
              "  }\n",
              "\n",
              "  .colab-df-spinner {\n",
              "    border: 2px solid var(--fill-color);\n",
              "    border-color: transparent;\n",
              "    border-bottom-color: var(--fill-color);\n",
              "    animation:\n",
              "      spin 1s steps(1) infinite;\n",
              "  }\n",
              "\n",
              "  @keyframes spin {\n",
              "    0% {\n",
              "      border-color: transparent;\n",
              "      border-bottom-color: var(--fill-color);\n",
              "      border-left-color: var(--fill-color);\n",
              "    }\n",
              "    20% {\n",
              "      border-color: transparent;\n",
              "      border-left-color: var(--fill-color);\n",
              "      border-top-color: var(--fill-color);\n",
              "    }\n",
              "    30% {\n",
              "      border-color: transparent;\n",
              "      border-left-color: var(--fill-color);\n",
              "      border-top-color: var(--fill-color);\n",
              "      border-right-color: var(--fill-color);\n",
              "    }\n",
              "    40% {\n",
              "      border-color: transparent;\n",
              "      border-right-color: var(--fill-color);\n",
              "      border-top-color: var(--fill-color);\n",
              "    }\n",
              "    60% {\n",
              "      border-color: transparent;\n",
              "      border-right-color: var(--fill-color);\n",
              "    }\n",
              "    80% {\n",
              "      border-color: transparent;\n",
              "      border-right-color: var(--fill-color);\n",
              "      border-bottom-color: var(--fill-color);\n",
              "    }\n",
              "    90% {\n",
              "      border-color: transparent;\n",
              "      border-bottom-color: var(--fill-color);\n",
              "    }\n",
              "  }\n",
              "</style>\n",
              "\n",
              "  <script>\n",
              "    async function quickchart(key) {\n",
              "      const quickchartButtonEl =\n",
              "        document.querySelector('#' + key + ' button');\n",
              "      quickchartButtonEl.disabled = true;  // To prevent multiple clicks.\n",
              "      quickchartButtonEl.classList.add('colab-df-spinner');\n",
              "      try {\n",
              "        const charts = await google.colab.kernel.invokeFunction(\n",
              "            'suggestCharts', [key], {});\n",
              "      } catch (error) {\n",
              "        console.error('Error during call to suggestCharts:', error);\n",
              "      }\n",
              "      quickchartButtonEl.classList.remove('colab-df-spinner');\n",
              "      quickchartButtonEl.classList.add('colab-df-quickchart-complete');\n",
              "    }\n",
              "    (() => {\n",
              "      let quickchartButtonEl =\n",
              "        document.querySelector('#df-b1934330-4b1d-42a7-858b-661ff374994b button');\n",
              "      quickchartButtonEl.style.display =\n",
              "        google.colab.kernel.accessAllowed ? 'block' : 'none';\n",
              "    })();\n",
              "  </script>\n",
              "</div>\n",
              "\n",
              "    </div>\n",
              "  </div>\n"
            ],
            "application/vnd.google.colaboratory.intrinsic+json": {
              "type": "dataframe",
              "summary": "{\n  \"name\": \"compare_cell_type_distribution(dataset, train_loader, test_loader)\",\n  \"rows\": 27,\n  \"fields\": [\n    {\n      \"column\": \"Cell Type\",\n      \"properties\": {\n        \"dtype\": \"string\",\n        \"num_unique_values\": 27,\n        \"samples\": [\n          \"Mono_c3-CD14-VCAN\",\n          \"B_c01-TCL1A\",\n          \"T_CD8_c04-COTL1\"\n        ],\n        \"semantic_type\": \"\",\n        \"description\": \"\"\n      }\n    },\n    {\n      \"column\": \"Total Count\",\n      \"properties\": {\n        \"dtype\": \"number\",\n        \"std\": 486,\n        \"min\": 1605,\n        \"max\": 3000,\n        \"num_unique_values\": 11,\n        \"samples\": [\n          2067,\n          3000,\n          1701\n        ],\n        \"semantic_type\": \"\",\n        \"description\": \"\"\n      }\n    },\n    {\n      \"column\": \"Train Count\",\n      \"properties\": {\n        \"dtype\": \"number\",\n        \"std\": 380,\n        \"min\": 1281,\n        \"max\": 2432,\n        \"num_unique_values\": 25,\n        \"samples\": [\n          2352,\n          2095,\n          2381\n        ],\n        \"semantic_type\": \"\",\n        \"description\": \"\"\n      }\n    },\n    {\n      \"column\": \"Test Count\",\n      \"properties\": {\n        \"dtype\": \"number\",\n        \"std\": 108,\n        \"min\": 324,\n        \"max\": 648,\n        \"num_unique_values\": 24,\n        \"samples\": [\n          648,\n          548,\n          619\n        ],\n        \"semantic_type\": \"\",\n        \"description\": \"\"\n      }\n    }\n  ]\n}"
            }
          },
          "metadata": {},
          "execution_count": 92
        }
      ]
    },
    {
      "cell_type": "code",
      "source": [
        "evaluate(classifier_model, test_loader)"
      ],
      "metadata": {
        "id": "DeTbZlLv5QRC",
        "colab": {
          "base_uri": "https://localhost:8080/",
          "height": 1000
        },
        "outputId": "55a46201-28cc-413d-9f97-f6c7e62d973f"
      },
      "execution_count": 93,
      "outputs": [
        {
          "output_type": "display_data",
          "data": {
            "text/plain": [
              "<Figure size 600x500 with 2 Axes>"
            ],
            "image/png": "[encoded data removed]"
          },
          "metadata": {}
        },
        {
          "output_type": "execute_result",
          "data": {
            "text/plain": [
              "(0.8544303797468354,\n",
              " 0.8599942625818154,\n",
              " 0.8548780655328799,\n",
              " 0.8274900072764969,\n",
              "                 Cell Type  Accuracy  F1-score  Precision    Recall\n",
              " 0         T_CD4_c12-FOXP3  0.856716  0.854859   0.858626  0.857681\n",
              " 1       Mono_c3-CD14-VCAN  0.878007  0.872593   0.884563  0.870823\n",
              " 2          T_CD8_c03-GZMK  0.834983  0.835580   0.840398  0.839983\n",
              " 3   Mono_c2-CD14-HLA-DPB1  0.845501  0.837939   0.851010  0.842207\n",
              " 4         T_CD8_c04-COTL1  0.865741  0.866485   0.868759  0.867347\n",
              " 5             B_c01-TCL1A  0.889776  0.888640   0.891161  0.892107\n",
              " 6           NK_c01-FCGR3A  0.836522  0.833360   0.844509  0.834581\n",
              " 7         T_CD4_c06-NR4A2  0.834395  0.833510   0.842837  0.836668\n",
              " 8          T_CD8_c01-LEF1  0.869497  0.867081   0.872129  0.868346\n",
              " 9          T_CD4_c01-LEF1  0.887097  0.886644   0.894558  0.886733\n",
              " 10          T_CD4_c05-FOS  0.848540  0.849393   0.860243  0.849791\n",
              " 11         T_CD4_c02-AQP3  0.891139  0.890780   0.892954  0.890939\n",
              " 12       T_CD8_c02-GPR183  0.874363  0.873044   0.882846  0.871973\n",
              " 13      T_CD8_c09-SLC4A10  0.882192  0.877688   0.880565  0.876941\n",
              " 14         T_CD4_c11-GNLY  0.910494  0.913105   0.911538  0.915189\n",
              " 15      Mono_c1-CD14-CCL3  0.836834  0.830204   0.841887  0.835285\n",
              " 16           Mono_c5-CD16  0.796209  0.792471   0.821189  0.795104\n",
              " 17       T_CD8_c07-TYROBP  0.860233  0.859853   0.867222  0.859451\n",
              " 18       B_c02-MS4A1-CD27  0.836268  0.834001   0.846658  0.845232\n",
              " 19       T_CD8_c05-ZNF683  0.858086  0.861367   0.863235  0.861943\n",
              " 20        B_c03-CD27-AIM2  0.848229  0.841146   0.857276  0.844569\n",
              " 21        T_CD4_c07-AHNAK  0.813675  0.812043   0.820150  0.817414\n",
              " 22             DC_c2-CD1C  0.805085  0.793716   0.803277  0.797758\n",
              " 23        T_CD8_c08-IL2RB  0.858995  0.861754   0.868123  0.862898\n",
              " 24        T_CD4_c04-ANXA2  0.890323  0.888476   0.895764  0.890735\n",
              " 25        T_gdT_c14-TRDV2  0.880597  0.878292   0.882938  0.877076\n",
              " 26          T_CD8_c06-TNF  0.827128  0.827490   0.852894  0.824631)"
            ]
          },
          "metadata": {},
          "execution_count": 93
        }
      ]
    },
    {
      "cell_type": "code",
      "source": [],
      "metadata": {
        "id": "wOqw2mYe5SAQ"
      },
      "execution_count": null,
      "outputs": []
    },
    {
      "cell_type": "markdown",
      "source": [
        "## Evaluation in detail:"
      ],
      "metadata": {
        "id": "KSgWp_c7dVfC"
      }
    }
  ]
}