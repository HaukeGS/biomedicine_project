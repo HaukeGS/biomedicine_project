{
  "cells": [
    {
      "cell_type": "markdown",
      "source": [
        "# State Classifier\n",
        "This is the classifier used for the comparation between architecture"
      ],
      "metadata": {
        "id": "cIyWHnwD4tU6"
      }
    },
    {
      "cell_type": "code",
      "execution_count": null,
      "metadata": {
        "id": "J-nJiaMqar7p"
      },
      "outputs": [],
      "source": [
        "import os\n",
        "import pandas as pd\n",
        "import torch\n",
        "import torchvision.transforms as transforms\n",
        "from torch.utils.data import Dataset, DataLoader, random_split\n",
        "from torch import nn, optim\n",
        "from google.colab import drive\n",
        "from tqdm import tqdm"
      ]
    },
    {
      "cell_type": "code",
      "execution_count": null,
      "metadata": {
        "colab": {
          "base_uri": "https://localhost:8080/"
        },
        "id": "t2YIikC3b3rb",
        "outputId": "cd8d226c-62d6-4ea9-953a-637af90082d0"
      },
      "outputs": [
        {
          "output_type": "stream",
          "name": "stdout",
          "text": [
            "Mounted at /content/drive\n"
          ]
        }
      ],
      "source": [
        "drive.mount('/content/drive')"
      ]
    },
    {
      "cell_type": "code",
      "execution_count": null,
      "metadata": {
        "colab": {
          "base_uri": "https://localhost:8080/"
        },
        "id": "5IGJ2xusxekd",
        "outputId": "c8188e4d-20fc-4dec-836c-c6ea922acad7"
      },
      "outputs": [
        {
          "output_type": "stream",
          "name": "stdout",
          "text": [
            "Device is: cpu\n",
            "\n"
          ]
        }
      ],
      "source": [
        "device = torch.device(\"cuda\" if torch.cuda.is_available() else \"cpu\")\n",
        "print(f\"Device is: {device}\\n\")"
      ]
    },
    {
      "cell_type": "markdown",
      "source": [
        "### Here you have to change the path, where the generated embeddings are"
      ],
      "metadata": {
        "id": "rr7tAwkK4x0o"
      }
    },
    {
      "cell_type": "code",
      "execution_count": null,
      "metadata": {
        "id": "du_NFI00cDnx"
      },
      "outputs": [],
      "source": [
        "data_path = '/content/drive/MyDrive/biomedicine/embedded_data/'"
      ]
    },
    {
      "cell_type": "markdown",
      "metadata": {
        "id": "Kn6-uMo-vNY1"
      },
      "source": [
        "# Hyper- and Controlparameter"
      ]
    },
    {
      "cell_type": "code",
      "execution_count": null,
      "metadata": {
        "id": "k0yW-SUWzh1m"
      },
      "outputs": [],
      "source": [
        "# Controlparameter\n",
        "\n",
        "LOAD_FROM_DRIVE = False\n",
        "SAVE_TO_DRIVE = False"
      ]
    },
    {
      "cell_type": "code",
      "execution_count": null,
      "metadata": {
        "id": "ZpPHuDWPvGIP"
      },
      "outputs": [],
      "source": [
        "# HYPERPARAMETER\n",
        "\n",
        "BATCH_SIZE = 128\n",
        "LEARNING_RATE = 0.0001\n",
        "NUM_EPOCHS = 10"
      ]
    },
    {
      "cell_type": "markdown",
      "metadata": {
        "id": "Lu8pwzyWvQAt"
      },
      "source": [
        "# Custom Dataset & Data Preparation"
      ]
    },
    {
      "cell_type": "code",
      "execution_count": null,
      "metadata": {
        "id": "erJSlcIOrgTz"
      },
      "outputs": [],
      "source": [
        "label_map = {\n",
        "    'control': 0,\n",
        "    'mild/moderate': 1,\n",
        "    'severe/critical': 2,\n",
        "    'progression': 1,\n",
        "    'convalescence': 2,\n",
        "}"
      ]
    },
    {
      "cell_type": "code",
      "execution_count": null,
      "metadata": {
        "id": "uFjfMgZacWol"
      },
      "outputs": [],
      "source": [
        "class EmbeddedDataset(Dataset):\n",
        "    def __init__(self, pkl_file, limit=0):\n",
        "        self.data = pd.read_pickle(pkl_file)\n",
        "\n",
        "\n",
        "        print(self.data.head())\n",
        "\n",
        "        unique_labels_severity = pd.unique(self.data['severity'])\n",
        "        cell_types = pd.unique(self.data['celltype'])\n",
        "        unique_labels_state = pd.unique(self.data['Sample time'])\n",
        "        print(f\"unique cell types: {cell_types}\")\n",
        "        label_counts = {}\n",
        "        for label in self.data['severity']:\n",
        "            label_counts[label] = label_counts.get(label, 0) + 1\n",
        "        print(f\"unique labels state: {unique_labels_state}\")\n",
        "        print(f\"unique labels severity: {unique_labels_severity}\")\n",
        "        print(f\"label counts: {label_counts}\")\n",
        "        label_counts = {}\n",
        "        for label in self.data['Sample time']:\n",
        "            label_counts[label] = label_counts.get(label, 0) + 1\n",
        "        print(f\"label counts: {label_counts}\")\n",
        "\n",
        "        if limit != 0:\n",
        "            self.downsampling_celltypes(limit)\n",
        "            print(f\"downsampled data: {self.data.head()}\")\n",
        "\n",
        "    def cell_types_list(self):\n",
        "        return list(pd.unique(self.data['celltype']))\n",
        "    def distribution_cell_types(self):\n",
        "        return self.data['celltype'].value_counts()\n",
        "\n",
        "    def downsampling_celltypes(self, limit):\n",
        "        cell_types = self.cell_types_list()\n",
        "        downsampled_data = pd.DataFrame()\n",
        "        for cell_type in cell_types:\n",
        "            cell_type_data = self.data[self.data['celltype'] == cell_type]\n",
        "\n",
        "            if len(cell_type_data) >= limit:\n",
        "                label_counts = cell_type_data['severity'].value_counts()\n",
        "                min_count = label_counts.min()\n",
        "                sampled_data = pd.DataFrame()\n",
        "                for label in label_counts.index:\n",
        "                    label_data = cell_type_data[cell_type_data['severity'] == label]\n",
        "                    sampled_label_data = label_data.sample(n=min( int(limit/3), min_count), random_state=42)\n",
        "                    sampled_data = pd.concat([sampled_data, sampled_label_data])\n",
        "                    downsampled_data = pd.concat([downsampled_data, sampled_label_data])\n",
        "\n",
        "                #downsampled_data = pd.concat([downsampled_data, cell_type_data])\n",
        "        self.data = downsampled_data\n",
        "    def __len__(self):\n",
        "        return len(self.data)\n",
        "\n",
        "    def __getitem__(self, idx):\n",
        "        embeddings = torch.tensor(self.data.iloc[idx, 0], dtype=torch.float32)\n",
        "        label_state = torch.tensor(label_map.get(self.data.iloc[idx, 1]), dtype=torch.long)\n",
        "        label_severity = torch.tensor(label_map.get(self.data.iloc[idx, 3]), dtype=torch.long)\n",
        "        cell_type = self.data.iloc[idx, 2]\n",
        "\n",
        "        return embeddings, label_severity, label_state, cell_type"
      ]
    },
    {
      "cell_type": "markdown",
      "source": [
        "### Here can you configure the number that will be used as limit for the creation of the balanced dataset"
      ],
      "metadata": {
        "id": "svhnw1lG45Aa"
      }
    },
    {
      "cell_type": "code",
      "execution_count": null,
      "metadata": {
        "colab": {
          "base_uri": "https://localhost:8080/"
        },
        "id": "_Pac04bTdTov",
        "outputId": "3a18da4c-bfa4-4e26-8513-9d873e732fa5"
      },
      "outputs": [
        {
          "output_type": "stream",
          "name": "stdout",
          "text": [
            "                                          embeddings       severity  \\\n",
            "0  [0.05455078, -0.003437997, -0.023250412, -0.02...  mild/moderate   \n",
            "1  [0.022801453, -0.025798667, 0.0002587465, 0.00...  mild/moderate   \n",
            "2  [0.04894136, -0.0035773313, -0.030182272, -0.0...  mild/moderate   \n",
            "3  [0.035008512, -0.020082857, 0.007999258, 0.009...  mild/moderate   \n",
            "4  [0.038176414, -0.006059695, -0.029966526, -0.0...  mild/moderate   \n",
            "\n",
            "                celltype    Sample time  \n",
            "0  Mono_c2-CD14-HLA-DPB1  convalescence  \n",
            "1        T_CD8_c08-IL2RB  convalescence  \n",
            "2      Mono_c3-CD14-VCAN  convalescence  \n",
            "3        T_CD4_c04-ANXA2  convalescence  \n",
            "4      Mono_c3-CD14-VCAN  convalescence  \n",
            "unique cell types: ['Mono_c2-CD14-HLA-DPB1' 'T_CD8_c08-IL2RB' 'Mono_c3-CD14-VCAN'\n",
            " 'T_CD4_c04-ANXA2' 'Mono_c1-CD14-CCL3' 'Mono_c5-CD16' 'T_CD8_c07-TYROBP'\n",
            " 'Mono_c4-CD14-CD16' 'T_CD4_c07-AHNAK' 'T_CD4_c12-FOXP3' 'B_c01-TCL1A'\n",
            " 'T_CD4_c01-LEF1' 'T_CD4_c11-GNLY' 'T_CD4_c03-ITGA4' 'T_CD8_c05-ZNF683'\n",
            " 'B_c03-CD27-AIM2' 'T_CD4_c06-NR4A2' 'T_CD8_c10-MKI67-GZMK'\n",
            " 'T_CD4_c02-AQP3' 'T_CD8_c04-COTL1' 'T_CD8_c01-LEF1' 'B_c02-MS4A1-CD27'\n",
            " 'T_CD8_c02-GPR183' 'T_gdT_c14-TRDV2' 'T_CD8_c03-GZMK' 'NK_c01-FCGR3A'\n",
            " 'Macro_c2-CCL3L1' 'DC_c4-LILRA4' 'T_CD4_c08-GZMK-FOS_h' 'T_CD8_c06-TNF'\n",
            " 'DC_c2-CD1C' 'T_CD8_c09-SLC4A10' 'T_CD8_c12-MKI67-TYROBP'\n",
            " 'T_CD4_c09-GZMK-FOS_l' 'NK_c03-MKI67' 'T_CD8_c13-HAVCR2'\n",
            " 'T_CD4_c13-MKI67-CCL5_l' 'T_CD4_c05-FOS' 'B_c04-SOX5-TNFRSF1B' 'Mega'\n",
            " 'DC_c1-CLEC9A' 'NK_c02-NCAM1' 'B_c05-MZB1-XBP1' 'T_CD8_c11-MKI67-FOS'\n",
            " 'T_CD4_c14-MKI67-CCL5_h' 'T_CD4_c10-IFNG' 'B_c06-MKI67' 'Macro_c1-C1QC'\n",
            " 'Neu_c1-IL1B' 'Macro_c6-VCAN' 'Macro_c5-WDR74' 'Macro_c4-DNAJB1'\n",
            " 'Epi-Ciliated' 'DC_c3-LAMP3' 'Epi-Squamous' 'Macro_c3-EREG'\n",
            " 'Neu_c2-CXCR4(low)' 'Epi-Secretory' 'Neu_c4-RSAD2' 'Neu_c6-FGF23'\n",
            " 'Neu_c3-CST7' 'Epi-AT2' 'Mast' 'Neu_c5-GSTP1(high)OASL(low)']\n",
            "unique labels state: ['convalescence' 'progression' 'control']\n",
            "unique labels severity: ['mild/moderate' 'severe/critical' 'control']\n",
            "label counts: {'mild/moderate': 700968, 'severe/critical': 596734, 'control': 165000}\n",
            "label counts: {'convalescence': 787987, 'progression': 509715, 'control': 165000}\n",
            "downsampled data:                                                 embeddings         severity  \\\n",
            "1426289  [0.045433894, -0.0043206816, -0.008506793, -0....  severe/critical   \n",
            "234867   [0.036496725, -0.009099111, -0.019840367, -0.0...  severe/critical   \n",
            "822203   [0.040514573, -0.0162694, -0.008460669, 0.0049...  severe/critical   \n",
            "234348   [0.04210682, -0.023745155, -0.01684023, -0.013...  severe/critical   \n",
            "1291850  [0.03699777, -0.0076743234, -0.0266033, -0.014...  severe/critical   \n",
            "\n",
            "                      celltype    Sample time  \n",
            "1426289  Mono_c2-CD14-HLA-DPB1  convalescence  \n",
            "234867   Mono_c2-CD14-HLA-DPB1  convalescence  \n",
            "822203   Mono_c2-CD14-HLA-DPB1  convalescence  \n",
            "234348   Mono_c2-CD14-HLA-DPB1  convalescence  \n",
            "1291850  Mono_c2-CD14-HLA-DPB1    progression  \n"
          ]
        }
      ],
      "source": [
        "dataset = EmbeddedDataset(os.path.join(data_path, 'embedded_data_split_severity_celltype_progression_all.pkl'), 3000)\n"
      ]
    },
    {
      "cell_type": "code",
      "execution_count": null,
      "metadata": {
        "colab": {
          "base_uri": "https://localhost:8080/",
          "height": 1000
        },
        "id": "GFm_iWbOnmYI",
        "outputId": "daa52d8d-6c73-4bab-f53a-77621c86d91f"
      },
      "outputs": [
        {
          "output_type": "execute_result",
          "data": {
            "text/plain": [
              "celltype\n",
              "Mono_c2-CD14-HLA-DPB1    3000\n",
              "T_CD4_c06-NR4A2          3000\n",
              "T_CD4_c05-FOS            3000\n",
              "T_CD4_c09-GZMK-FOS_l     3000\n",
              "T_CD8_c09-SLC4A10        3000\n",
              "DC_c2-CD1C               3000\n",
              "T_CD8_c06-TNF            3000\n",
              "NK_c01-FCGR3A            3000\n",
              "T_CD8_c03-GZMK           3000\n",
              "T_gdT_c14-TRDV2          3000\n",
              "T_CD8_c02-GPR183         3000\n",
              "B_c02-MS4A1-CD27         3000\n",
              "T_CD8_c01-LEF1           3000\n",
              "T_CD8_c08-IL2RB          3000\n",
              "T_CD4_c02-AQP3           3000\n",
              "T_CD8_c04-COTL1          3000\n",
              "B_c03-CD27-AIM2          3000\n",
              "Mono_c1-CD14-CCL3        3000\n",
              "T_CD8_c05-ZNF683         3000\n",
              "T_CD4_c03-ITGA4          3000\n",
              "T_CD4_c11-GNLY           3000\n",
              "T_CD4_c01-LEF1           3000\n",
              "B_c01-TCL1A              3000\n",
              "T_CD4_c12-FOXP3          3000\n",
              "T_CD4_c07-AHNAK          3000\n",
              "Mono_c3-CD14-VCAN        3000\n",
              "T_CD4_c04-ANXA2          3000\n",
              "T_CD8_c07-TYROBP         3000\n",
              "Mono_c5-CD16             3000\n",
              "B_c04-SOX5-TNFRSF1B      2514\n",
              "T_CD4_c08-GZMK-FOS_h     2445\n",
              "Mega                     2265\n",
              "Epi-Squamous             2000\n",
              "Mono_c4-CD14-CD16        1986\n",
              "T_CD8_c10-MKI67-GZMK     1947\n",
              "B_c05-MZB1-XBP1           924\n",
              "Macro_c2-CCL3L1            57\n",
              "Macro_c1-C1QC              15\n",
              "Name: count, dtype: int64"
            ],
            "text/html": [
              "<div>\n",
              "<style scoped>\n",
              "    .dataframe tbody tr th:only-of-type {\n",
              "        vertical-align: middle;\n",
              "    }\n",
              "\n",
              "    .dataframe tbody tr th {\n",
              "        vertical-align: top;\n",
              "    }\n",
              "\n",
              "    .dataframe thead th {\n",
              "        text-align: right;\n",
              "    }\n",
              "</style>\n",
              "<table border=\"1\" class=\"dataframe\">\n",
              "  <thead>\n",
              "    <tr style=\"text-align: right;\">\n",
              "      <th></th>\n",
              "      <th>count</th>\n",
              "    </tr>\n",
              "    <tr>\n",
              "      <th>celltype</th>\n",
              "      <th></th>\n",
              "    </tr>\n",
              "  </thead>\n",
              "  <tbody>\n",
              "    <tr>\n",
              "      <th>Mono_c2-CD14-HLA-DPB1</th>\n",
              "      <td>3000</td>\n",
              "    </tr>\n",
              "    <tr>\n",
              "      <th>T_CD4_c06-NR4A2</th>\n",
              "      <td>3000</td>\n",
              "    </tr>\n",
              "    <tr>\n",
              "      <th>T_CD4_c05-FOS</th>\n",
              "      <td>3000</td>\n",
              "    </tr>\n",
              "    <tr>\n",
              "      <th>T_CD4_c09-GZMK-FOS_l</th>\n",
              "      <td>3000</td>\n",
              "    </tr>\n",
              "    <tr>\n",
              "      <th>T_CD8_c09-SLC4A10</th>\n",
              "      <td>3000</td>\n",
              "    </tr>\n",
              "    <tr>\n",
              "      <th>DC_c2-CD1C</th>\n",
              "      <td>3000</td>\n",
              "    </tr>\n",
              "    <tr>\n",
              "      <th>T_CD8_c06-TNF</th>\n",
              "      <td>3000</td>\n",
              "    </tr>\n",
              "    <tr>\n",
              "      <th>NK_c01-FCGR3A</th>\n",
              "      <td>3000</td>\n",
              "    </tr>\n",
              "    <tr>\n",
              "      <th>T_CD8_c03-GZMK</th>\n",
              "      <td>3000</td>\n",
              "    </tr>\n",
              "    <tr>\n",
              "      <th>T_gdT_c14-TRDV2</th>\n",
              "      <td>3000</td>\n",
              "    </tr>\n",
              "    <tr>\n",
              "      <th>T_CD8_c02-GPR183</th>\n",
              "      <td>3000</td>\n",
              "    </tr>\n",
              "    <tr>\n",
              "      <th>B_c02-MS4A1-CD27</th>\n",
              "      <td>3000</td>\n",
              "    </tr>\n",
              "    <tr>\n",
              "      <th>T_CD8_c01-LEF1</th>\n",
              "      <td>3000</td>\n",
              "    </tr>\n",
              "    <tr>\n",
              "      <th>T_CD8_c08-IL2RB</th>\n",
              "      <td>3000</td>\n",
              "    </tr>\n",
              "    <tr>\n",
              "      <th>T_CD4_c02-AQP3</th>\n",
              "      <td>3000</td>\n",
              "    </tr>\n",
              "    <tr>\n",
              "      <th>T_CD8_c04-COTL1</th>\n",
              "      <td>3000</td>\n",
              "    </tr>\n",
              "    <tr>\n",
              "      <th>B_c03-CD27-AIM2</th>\n",
              "      <td>3000</td>\n",
              "    </tr>\n",
              "    <tr>\n",
              "      <th>Mono_c1-CD14-CCL3</th>\n",
              "      <td>3000</td>\n",
              "    </tr>\n",
              "    <tr>\n",
              "      <th>T_CD8_c05-ZNF683</th>\n",
              "      <td>3000</td>\n",
              "    </tr>\n",
              "    <tr>\n",
              "      <th>T_CD4_c03-ITGA4</th>\n",
              "      <td>3000</td>\n",
              "    </tr>\n",
              "    <tr>\n",
              "      <th>T_CD4_c11-GNLY</th>\n",
              "      <td>3000</td>\n",
              "    </tr>\n",
              "    <tr>\n",
              "      <th>T_CD4_c01-LEF1</th>\n",
              "      <td>3000</td>\n",
              "    </tr>\n",
              "    <tr>\n",
              "      <th>B_c01-TCL1A</th>\n",
              "      <td>3000</td>\n",
              "    </tr>\n",
              "    <tr>\n",
              "      <th>T_CD4_c12-FOXP3</th>\n",
              "      <td>3000</td>\n",
              "    </tr>\n",
              "    <tr>\n",
              "      <th>T_CD4_c07-AHNAK</th>\n",
              "      <td>3000</td>\n",
              "    </tr>\n",
              "    <tr>\n",
              "      <th>Mono_c3-CD14-VCAN</th>\n",
              "      <td>3000</td>\n",
              "    </tr>\n",
              "    <tr>\n",
              "      <th>T_CD4_c04-ANXA2</th>\n",
              "      <td>3000</td>\n",
              "    </tr>\n",
              "    <tr>\n",
              "      <th>T_CD8_c07-TYROBP</th>\n",
              "      <td>3000</td>\n",
              "    </tr>\n",
              "    <tr>\n",
              "      <th>Mono_c5-CD16</th>\n",
              "      <td>3000</td>\n",
              "    </tr>\n",
              "    <tr>\n",
              "      <th>B_c04-SOX5-TNFRSF1B</th>\n",
              "      <td>2514</td>\n",
              "    </tr>\n",
              "    <tr>\n",
              "      <th>T_CD4_c08-GZMK-FOS_h</th>\n",
              "      <td>2445</td>\n",
              "    </tr>\n",
              "    <tr>\n",
              "      <th>Mega</th>\n",
              "      <td>2265</td>\n",
              "    </tr>\n",
              "    <tr>\n",
              "      <th>Epi-Squamous</th>\n",
              "      <td>2000</td>\n",
              "    </tr>\n",
              "    <tr>\n",
              "      <th>Mono_c4-CD14-CD16</th>\n",
              "      <td>1986</td>\n",
              "    </tr>\n",
              "    <tr>\n",
              "      <th>T_CD8_c10-MKI67-GZMK</th>\n",
              "      <td>1947</td>\n",
              "    </tr>\n",
              "    <tr>\n",
              "      <th>B_c05-MZB1-XBP1</th>\n",
              "      <td>924</td>\n",
              "    </tr>\n",
              "    <tr>\n",
              "      <th>Macro_c2-CCL3L1</th>\n",
              "      <td>57</td>\n",
              "    </tr>\n",
              "    <tr>\n",
              "      <th>Macro_c1-C1QC</th>\n",
              "      <td>15</td>\n",
              "    </tr>\n",
              "  </tbody>\n",
              "</table>\n",
              "</div><br><label><b>dtype:</b> int64</label>"
            ]
          },
          "metadata": {},
          "execution_count": 10
        }
      ],
      "source": [
        "dataset.distribution_cell_types()"
      ]
    },
    {
      "cell_type": "code",
      "execution_count": null,
      "metadata": {
        "id": "FduZTm4jhIH6"
      },
      "outputs": [],
      "source": [
        "train_size = int(0.8 * len(dataset))\n",
        "test_size = len(dataset) - train_size\n",
        "\n",
        "train_dataset, test_dataset = random_split(dataset, [train_size, test_size])"
      ]
    },
    {
      "cell_type": "code",
      "execution_count": null,
      "metadata": {
        "id": "LFLzlS0kvAdY"
      },
      "outputs": [],
      "source": [
        "train_loader = DataLoader(train_dataset, batch_size=BATCH_SIZE, shuffle=True)\n",
        "test_loader = DataLoader(test_dataset, batch_size=BATCH_SIZE, shuffle=False)"
      ]
    },
    {
      "cell_type": "code",
      "execution_count": null,
      "metadata": {
        "colab": {
          "base_uri": "https://localhost:8080/"
        },
        "id": "Bp8Ct-gYvhVZ",
        "outputId": "c0bae379-53f1-4eea-da58-ff9b8ef0c63a"
      },
      "outputs": [
        {
          "output_type": "stream",
          "name": "stdout",
          "text": [
            "<class 'torch.Tensor'>\n",
            "<class 'torch.Tensor'>\n",
            "<class 'torch.Tensor'>\n",
            "<class 'int'>\n",
            "<class 'int'>\n",
            "tensor([2, 1, 1, 0, 1, 2, 1, 2, 0, 1, 2, 0, 2, 1, 2, 0, 2, 2, 2, 0, 2, 1, 1, 0,\n",
            "        1, 2, 0, 1, 2, 0, 0, 2, 1, 0, 0, 1, 1, 2, 0, 0, 0, 2, 2, 1, 0, 2, 2, 1,\n",
            "        1, 0, 1, 0, 0, 0, 1, 1, 1, 2, 2, 2, 2, 1, 2, 0, 1, 0, 1, 1, 2, 1, 2, 0,\n",
            "        2, 2, 1, 1, 2, 1, 0, 2, 1, 0, 0, 0, 1, 0, 1, 0, 2, 0, 0, 0, 1, 1, 0, 1,\n",
            "        2, 1, 2, 2, 2, 2, 0, 1, 2, 1, 1, 2, 1, 2, 2, 1, 0, 0, 0, 0, 0, 0, 0, 0,\n",
            "        2, 2, 2, 1, 1, 2, 2, 2])\n",
            "tensor([2, 2, 1, 0, 2, 1, 2, 2, 0, 2, 2, 0, 1, 1, 1, 0, 1, 1, 2, 0, 2, 2, 2, 0,\n",
            "        1, 2, 0, 1, 1, 0, 0, 2, 2, 0, 0, 2, 2, 2, 0, 0, 0, 1, 1, 1, 0, 1, 1, 1,\n",
            "        1, 0, 2, 0, 0, 0, 2, 2, 1, 2, 2, 1, 1, 1, 2, 0, 2, 0, 2, 2, 1, 2, 1, 0,\n",
            "        1, 2, 2, 1, 1, 2, 0, 2, 1, 0, 0, 0, 2, 0, 2, 0, 2, 0, 0, 0, 2, 2, 0, 1,\n",
            "        1, 1, 1, 1, 1, 2, 0, 2, 1, 1, 2, 1, 1, 1, 2, 2, 0, 0, 0, 0, 0, 0, 0, 0,\n",
            "        1, 2, 2, 2, 2, 2, 1, 2])\n"
          ]
        }
      ],
      "source": [
        "for (embeddings, labels_severity,labels_state,_) in train_loader:\n",
        "    print(type(embeddings[0]))\n",
        "    print(type(labels_severity[0]))\n",
        "    print(type(embeddings[0][0]))\n",
        "    print(type(labels_severity[0].item()))\n",
        "    print(type(labels_state[0].item()))\n",
        "    print(labels_severity)\n",
        "    print(labels_state)\n",
        "    break\n",
        "    break"
      ]
    },
    {
      "cell_type": "markdown",
      "metadata": {
        "id": "i3sNfm7dvb2o"
      },
      "source": [
        "# Model Architecture\n"
      ]
    },
    {
      "cell_type": "code",
      "execution_count": null,
      "metadata": {
        "id": "q26P_D3UvdWu"
      },
      "outputs": [],
      "source": [
        "import torch\n",
        "import torch.nn as nn\n",
        "import torch.optim as optim\n",
        "from tqdm import tqdm\n",
        "\n",
        "# MultiTask Classifier Model\n",
        "class MultiTaskClassifier(nn.Module):\n",
        "    def __init__(self):\n",
        "        super(MultiTaskClassifier, self).__init__()\n",
        "\n",
        "        # Shared layers for feature extraction\n",
        "        self.shared_layers = nn.Sequential(\n",
        "            nn.Linear(512, 1024),\n",
        "            nn.LeakyReLU(0.2),\n",
        "            nn.Linear(1024, 2048),\n",
        "            nn.LeakyReLU(0.2),\n",
        "            nn.Linear(2048, 2048),\n",
        "            nn.LeakyReLU(0.2),\n",
        "            nn.Linear(2048, 1024),\n",
        "            nn.LeakyReLU(0.2),\n",
        "            nn.Linear(1024, 1024),\n",
        "            nn.LeakyReLU(0.2),\n",
        "        )\n",
        "\n",
        "        # Head 1: Classification (Control, Mild, Severe)\n",
        "        self.disease_severity_head = nn.Sequential(\n",
        "            nn.Linear(1024, 512),\n",
        "            nn.LeakyReLU(0.2),\n",
        "            nn.Linear(512, 3)  # 3 classes: Control, Mild, Severe\n",
        "        )\n",
        "\n",
        "        # Head 2: Classification (Control, Progression, Convalescence)\n",
        "        self.disease_state_head = nn.Sequential(\n",
        "            nn.Linear(1024, 512),\n",
        "            nn.LeakyReLU(0.2),\n",
        "            nn.Linear(512, 3)  # 3 classes: Control, Progression, Convalescence\n",
        "        )\n",
        "\n",
        "    def forward(self, x):\n",
        "        shared_features = self.shared_layers(x)\n",
        "        severity_output = self.disease_severity_head(shared_features)  # Raw logits (not softmaxed)\n",
        "        state_output = self.disease_state_head(shared_features)  # Raw logits (not softmaxed)\n",
        "        return severity_output, state_output\n"
      ]
    },
    {
      "cell_type": "code",
      "execution_count": null,
      "metadata": {
        "id": "XIRKPBJJL_pR"
      },
      "outputs": [],
      "source": [
        "def train(model, train_loader, num_epochs, optimizer, criterion):\n",
        "    model.to(device)  # Move model to device\n",
        "    model.train()  # Set model to training mode\n",
        "\n",
        "    for epoch in range(num_epochs):\n",
        "        running_loss = 0.0\n",
        "        dataloader = tqdm(train_loader, desc=f\"Epoch {epoch+1}/{num_epochs}\")\n",
        "\n",
        "        for i, (embeddings, severity_labels, state_labels, _) in enumerate(dataloader):\n",
        "            embeddings = embeddings.to(device)\n",
        "            severity_labels = severity_labels.to(device).long()  # Labels: 0=Control, 1=Mild, 2=Severe\n",
        "            state_labels = state_labels.to(device).long()  # Labels: 0=Control, 1=Progression, 2=Convalescence\n",
        "\n",
        "            optimizer.zero_grad()\n",
        "            severity_output, state_output = model(embeddings)  # Forward pass\n",
        "\n",
        "            # Compute losses\n",
        "            loss_severity = criterion(severity_output, severity_labels)  # CrossEntropy for 3 classes\n",
        "            loss_state = criterion(state_output, state_labels)  # CrossEntropy for 3 classes\n",
        "            loss = loss_severity + loss_state  # Combined loss\n",
        "\n",
        "            loss.backward()  # Backpropagation\n",
        "            optimizer.step()  # Update weights\n",
        "\n",
        "            running_loss += loss.item()\n",
        "            dataloader.set_postfix({\"Loss\": running_loss / (i + 1)})  # Show avg loss per batch\n"
      ]
    },
    {
      "cell_type": "code",
      "execution_count": null,
      "metadata": {
        "colab": {
          "base_uri": "https://localhost:8080/"
        },
        "id": "Ll9Gc-pfmo5G",
        "outputId": "cad6d5b3-a4aa-41db-fa20-e12b1d67ec0b"
      },
      "outputs": [
        {
          "output_type": "stream",
          "name": "stderr",
          "text": [
            "Epoch 1/10: 100%|██████████| 633/633 [03:06<00:00,  3.40it/s, Loss=1.55]\n",
            "Epoch 2/10: 100%|██████████| 633/633 [03:09<00:00,  3.35it/s, Loss=1.16]\n",
            "Epoch 3/10: 100%|██████████| 633/633 [03:16<00:00,  3.21it/s, Loss=0.95]\n",
            "Epoch 4/10: 100%|██████████| 633/633 [03:06<00:00,  3.39it/s, Loss=0.834]\n",
            "Epoch 5/10: 100%|██████████| 633/633 [03:05<00:00,  3.42it/s, Loss=0.759]\n",
            "Epoch 6/10: 100%|██████████| 633/633 [03:09<00:00,  3.35it/s, Loss=0.706]\n",
            "Epoch 7/10: 100%|██████████| 633/633 [03:06<00:00,  3.39it/s, Loss=0.658]\n",
            "Epoch 8/10: 100%|██████████| 633/633 [03:06<00:00,  3.39it/s, Loss=0.618]\n",
            "Epoch 9/10: 100%|██████████| 633/633 [03:05<00:00,  3.41it/s, Loss=0.586]\n",
            "Epoch 10/10: 100%|██████████| 633/633 [03:03<00:00,  3.44it/s, Loss=0.555]\n"
          ]
        }
      ],
      "source": [
        "# Initialize model\n",
        "model = MultiTaskClassifier().to(device)\n",
        "\n",
        "# Loss function\n",
        "criterion = nn.CrossEntropyLoss()  # Suitable for both 3-class classification tasks\n",
        "\n",
        "# Optimizer\n",
        "optimizer = optim.Adam(model.parameters(), lr=0.0001)\n",
        "\n",
        "# Train the model\n",
        "train(model, train_loader, num_epochs=10, optimizer=optimizer, criterion=criterion)\n"
      ]
    },
    {
      "cell_type": "markdown",
      "metadata": {
        "id": "7rHnNd7840T_"
      },
      "source": [
        "# Training"
      ]
    },
    {
      "cell_type": "code",
      "execution_count": null,
      "metadata": {
        "id": "CIrvs72E0Lus"
      },
      "outputs": [],
      "source": [
        "# start training loop\n",
        "#if not LOAD_FROM_DRIVE:\n",
        "#    train(\n",
        "#        model=classifier_model,\n",
        "#        train_loader=train_loader,\n",
        "#        num_epochs=NUM_EPOCHS,\n",
        "#        optimizer=optimizer,\n",
        "#        criterion=criterion\n",
        "#    )"
      ]
    },
    {
      "cell_type": "markdown",
      "metadata": {
        "id": "Ct0Lp8HK44gR"
      },
      "source": [
        "# Evaluation"
      ]
    },
    {
      "cell_type": "code",
      "execution_count": null,
      "metadata": {
        "id": "QcudziDZa6mS"
      },
      "outputs": [],
      "source": [
        "import torch\n",
        "import seaborn as sns\n",
        "import matplotlib.pyplot as plt\n",
        "from sklearn.metrics import confusion_matrix, accuracy_score, precision_score, recall_score, f1_score\n",
        "from collections import defaultdict\n",
        "from tqdm import tqdm\n",
        "import numpy as np\n",
        "def evaluate(model, test_loader):\n",
        "    model.eval()\n",
        "    all_preds_severity = []\n",
        "    all_labels_severity = []\n",
        "    all_preds_state = []\n",
        "    all_labels_state = []\n",
        "\n",
        "    cell_type_results_severity = defaultdict(lambda: {\"y_true\": [], \"y_pred\": []})\n",
        "    cell_type_results_state = defaultdict(lambda: {\"y_true\": [], \"y_pred\": []})\n",
        "\n",
        "    with torch.no_grad():\n",
        "        for embeddings, labels_severity, labels_state, cell_types in test_loader:\n",
        "            embeddings = embeddings.to(device)\n",
        "            labels_severity = labels_severity.to(device)\n",
        "            labels_state = labels_state.to(device)\n",
        "\n",
        "            outputs_severity, outputs_state = model(embeddings)  # Multitask output\n",
        "            preds_severity = torch.argmax(outputs_severity, dim=1)\n",
        "            preds_state = torch.argmax(outputs_state, dim=1)\n",
        "\n",
        "            all_preds_severity.extend(preds_severity.cpu().numpy())\n",
        "            all_labels_severity.extend(labels_severity.cpu().numpy())\n",
        "\n",
        "            all_preds_state.extend(preds_state.cpu().numpy())\n",
        "            all_labels_state.extend(labels_state.cpu().numpy())\n",
        "\n",
        "            for i, cell in enumerate(cell_types):\n",
        "                cell_type_results_severity[cell][\"y_true\"].append(labels_severity[i].item())\n",
        "                cell_type_results_severity[cell][\"y_pred\"].append(preds_severity[i].item())\n",
        "\n",
        "                cell_type_results_state[cell][\"y_true\"].append(labels_state[i].item())\n",
        "                cell_type_results_state[cell][\"y_pred\"].append(preds_state[i].item())\n",
        "\n",
        "    # Compute metrics for severity and state tasks\n",
        "    accuracy_severity = accuracy_score(all_labels_severity, all_preds_severity)\n",
        "    precision_severity = precision_score(all_labels_severity, all_preds_severity, average=\"macro\")\n",
        "    recall_severity = recall_score(all_labels_severity, all_preds_severity, average=\"macro\")\n",
        "    f1_severity = f1_score(all_labels_severity, all_preds_severity, average=\"macro\")\n",
        "\n",
        "    accuracy_state = accuracy_score(all_labels_state, all_preds_state)\n",
        "    precision_state = precision_score(all_labels_state, all_preds_state, average=\"macro\")\n",
        "    recall_state = recall_score(all_labels_state, all_preds_state, average=\"macro\")\n",
        "\n",
        "    # Confusion matrix for severity\n",
        "    cm_severity = confusion_matrix(all_labels_severity, all_preds_severity)\n",
        "    cm_severity_normalized = cm_severity.astype('float') / cm_severity.sum(axis=1)[:, np.newaxis]\n",
        "\n",
        "    # Confusion matrix for state\n",
        "    cm_state = confusion_matrix(all_labels_state, all_preds_state)\n",
        "    cm_state_normalized = cm_state.astype('float') / cm_state.sum(axis=1)[:, np.newaxis]\n",
        "\n",
        "    # Plot confusion matrices\n",
        "    fig, axes = plt.subplots(1, 2, figsize=(12, 6))\n",
        "\n",
        "    # Plot confusion matrix for severity\n",
        "    sns.heatmap(cm_severity_normalized, annot=True, fmt='.2f', cmap=\"Blues\", xticklabels=[\"control\", \"mild\", \"severe\"],\n",
        "                yticklabels=[\"control\", \"mild\", \"severe\"], ax=axes[0], cbar=False)\n",
        "    axes[0].set_xlabel(\"Predicted Labels\")\n",
        "    axes[0].set_ylabel(\"True Labels\")\n",
        "    axes[0].set_title(\"Confusion Matrix - Severity\")\n",
        "\n",
        "    # Plot confusion matrix for state\n",
        "    sns.heatmap(cm_state_normalized, annot=True, fmt='.2f', cmap=\"Blues\", xticklabels=[\"control\", \"progression\", \"convalescence\"],\n",
        "                yticklabels=[\"control\", \"progression\", \"convalescence\"], ax=axes[1], cbar=False)\n",
        "    axes[1].set_xlabel(\"Predicted Labels\")\n",
        "    axes[1].set_ylabel(\"True Labels\")\n",
        "    axes[1].set_title(\"Confusion Matrix - State\")\n",
        "\n",
        "    plt.tight_layout()\n",
        "    plt.show()\n",
        "\n",
        "    # Compute cell type performance\n",
        "    cell_type_list, acc_sev, f1_sev, acc_state, f1_state = [], [], [], [], []\n",
        "\n",
        "    for cell, values in cell_type_results_severity.items():\n",
        "        acc_sev.append(accuracy_score(values[\"y_true\"], values[\"y_pred\"]))\n",
        "        f1_sev.append(f1_score(values[\"y_true\"], values[\"y_pred\"], average=\"macro\"))\n",
        "        cell_type_list.append(cell)\n",
        "\n",
        "    for cell, values in cell_type_results_state.items():\n",
        "        acc_state.append(accuracy_score(values[\"y_true\"], values[\"y_pred\"]))\n",
        "        f1_state.append(f1_score(values[\"y_true\"], values[\"y_pred\"], average=\"macro\"))\n",
        "\n",
        "    cell_results_severity = pd.DataFrame({\n",
        "        \"Cell Type\": cell_type_list,\n",
        "        \"Accuracy_Severity\": acc_sev,\n",
        "        \"F1-score_Severity\": f1_sev\n",
        "    })\n",
        "\n",
        "    cell_results_state = pd.DataFrame({\n",
        "        \"Cell Type\": cell_type_list,\n",
        "        \"Accuracy_State\": acc_state,\n",
        "        \"F1-score_State\": f1_state\n",
        "    })\n",
        "    f1_state = f1_score(all_labels_state, all_preds_state, average=\"macro\")\n",
        "\n",
        "\n",
        "    # Return results\n",
        "    return accuracy_severity, precision_severity, recall_severity, f1_severity, accuracy_state, precision_state, recall_state, f1_state, cell_results_severity, cell_results_state\n"
      ]
    },
    {
      "cell_type": "code",
      "source": [
        "evaluate(model, test_loader)"
      ],
      "metadata": {
        "colab": {
          "base_uri": "https://localhost:8080/",
          "height": 1000
        },
        "id": "6lJptqw6BzpC",
        "outputId": "b58e58c4-3421-48e2-a795-ffe379b6c551"
      },
      "execution_count": null,
      "outputs": [
        {
          "output_type": "display_data",
          "data": {
            "text/plain": [
              "<Figure size 1200x600 with 2 Axes>"
            ],
            "image/png": "[encoded data removed]"
          },
          "metadata": {}
        },
        {
          "output_type": "execute_result",
          "data": {
            "text/plain": [
              "(0.8735109485443132,\n",
              " 0.8791502003752291,\n",
              " 0.8763914447247464,\n",
              " 0.8743832664606717,\n",
              " 0.8396025900845238,\n",
              " 0.8484493382663368,\n",
              " 0.8393600092095541,\n",
              " 0.8412847923429291,\n",
              "                 Cell Type  Accuracy_Severity  F1-score_Severity\n",
              " 0           T_CD8_c06-TNF           0.871753           0.872131\n",
              " 1       Mono_c3-CD14-VCAN           0.909091           0.910942\n",
              " 2              DC_c2-CD1C           0.869347           0.871919\n",
              " 3    T_CD4_c09-GZMK-FOS_l           0.895149           0.895875\n",
              " 4         T_CD4_c12-FOXP3           0.895447           0.895629\n",
              " 5        T_CD8_c02-GPR183           0.850498           0.848985\n",
              " 6       T_CD8_c09-SLC4A10           0.851351           0.852440\n",
              " 7          T_CD4_c11-GNLY           0.872414           0.874881\n",
              " 8     B_c04-SOX5-TNFRSF1B           0.891170           0.880684\n",
              " 9         B_c05-MZB1-XBP1           0.845304           0.844723\n",
              " 10      Mono_c1-CD14-CCL3           0.893401           0.893035\n",
              " 11       B_c02-MS4A1-CD27           0.822606           0.820871\n",
              " 12           Mono_c5-CD16           0.900000           0.903124\n",
              " 13                   Mega           0.763920           0.715154\n",
              " 14         T_CD4_c01-LEF1           0.867725           0.871155\n",
              " 15        T_CD4_c07-AHNAK           0.818499           0.814137\n",
              " 16         T_CD8_c03-GZMK           0.872910           0.872523\n",
              " 17        T_CD4_c06-NR4A2           0.866776           0.866077\n",
              " 18          T_CD4_c05-FOS           0.860720           0.859896\n",
              " 19        T_CD8_c08-IL2RB           0.877551           0.878106\n",
              " 20        T_CD4_c03-ITGA4           0.885077           0.885729\n",
              " 21          NK_c01-FCGR3A           0.856897           0.859126\n",
              " 22        T_gdT_c14-TRDV2           0.878834           0.879802\n",
              " 23       T_CD8_c07-TYROBP           0.870152           0.870220\n",
              " 24        T_CD8_c04-COTL1           0.880492           0.879417\n",
              " 25            B_c01-TCL1A           0.879479           0.873745\n",
              " 26         T_CD4_c02-AQP3           0.885572           0.885358\n",
              " 27  Mono_c2-CD14-HLA-DPB1           0.892027           0.894422\n",
              " 28        T_CD4_c04-ANXA2           0.911576           0.911003\n",
              " 29   T_CD4_c08-GZMK-FOS_h           0.871179           0.870055\n",
              " 30       T_CD8_c05-ZNF683           0.844677           0.844860\n",
              " 31           Epi-Squamous           0.997462           0.499365\n",
              " 32   T_CD8_c10-MKI67-GZMK           0.860241           0.860597\n",
              " 33        B_c03-CD27-AIM2           0.866889           0.853795\n",
              " 34      Mono_c4-CD14-CD16           0.890026           0.889920\n",
              " 35         T_CD8_c01-LEF1           0.873977           0.873712\n",
              " 36          Macro_c1-C1QC           1.000000           1.000000\n",
              " 37        Macro_c2-CCL3L1           1.000000           1.000000,\n",
              "                 Cell Type  Accuracy_State  F1-score_State\n",
              " 0           T_CD8_c06-TNF        0.858766        0.858995\n",
              " 1       Mono_c3-CD14-VCAN        0.846281        0.848286\n",
              " 2              DC_c2-CD1C        0.830821        0.832131\n",
              " 3    T_CD4_c09-GZMK-FOS_l        0.871674        0.872836\n",
              " 4         T_CD4_c12-FOXP3        0.839798        0.842335\n",
              " 5        T_CD8_c02-GPR183        0.833887        0.833831\n",
              " 6       T_CD8_c09-SLC4A10        0.847973        0.849176\n",
              " 7          T_CD4_c11-GNLY        0.858621        0.860893\n",
              " 8     B_c04-SOX5-TNFRSF1B        0.862423        0.861697\n",
              " 9         B_c05-MZB1-XBP1        0.828729        0.829385\n",
              " 10      Mono_c1-CD14-CCL3        0.864636        0.866165\n",
              " 11       B_c02-MS4A1-CD27        0.821036        0.820446\n",
              " 12           Mono_c5-CD16        0.814516        0.816548\n",
              " 13                   Mega        0.721604        0.725140\n",
              " 14         T_CD4_c01-LEF1        0.802469        0.803386\n",
              " 15        T_CD4_c07-AHNAK        0.816754        0.815126\n",
              " 16         T_CD8_c03-GZMK        0.859532        0.861045\n",
              " 17        T_CD4_c06-NR4A2        0.865132        0.864310\n",
              " 18          T_CD4_c05-FOS        0.841941        0.841793\n",
              " 19        T_CD8_c08-IL2RB        0.841837        0.842472\n",
              " 20        T_CD4_c03-ITGA4        0.854202        0.855582\n",
              " 21          NK_c01-FCGR3A        0.858621        0.860659\n",
              " 22        T_gdT_c14-TRDV2        0.831288        0.830989\n",
              " 23       T_CD8_c07-TYROBP        0.827993        0.830234\n",
              " 24        T_CD8_c04-COTL1        0.831283        0.833604\n",
              " 25            B_c01-TCL1A        0.869707        0.870243\n",
              " 26         T_CD4_c02-AQP3        0.832504        0.834498\n",
              " 27  Mono_c2-CD14-HLA-DPB1        0.868771        0.869099\n",
              " 28        T_CD4_c04-ANXA2        0.853698        0.858150\n",
              " 29   T_CD4_c08-GZMK-FOS_h        0.842795        0.843165\n",
              " 30       T_CD8_c05-ZNF683        0.834206        0.833616\n",
              " 31           Epi-Squamous        0.763959        0.507219\n",
              " 32   T_CD8_c10-MKI67-GZMK        0.836145        0.837705\n",
              " 33        B_c03-CD27-AIM2        0.851913        0.852296\n",
              " 34      Mono_c4-CD14-CD16        0.838875        0.842279\n",
              " 35         T_CD8_c01-LEF1        0.837971        0.838735\n",
              " 36          Macro_c1-C1QC        1.000000        1.000000\n",
              " 37        Macro_c2-CCL3L1        0.857143        0.619048)"
            ]
          },
          "metadata": {},
          "execution_count": 25
        }
      ]
    },
    {
      "cell_type": "code",
      "execution_count": null,
      "metadata": {
        "id": "sMpb5bMTolFE"
      },
      "outputs": [],
      "source": [
        "import pandas as pd\n",
        "from collections import Counter\n",
        "\n",
        "def compare_cell_type_distribution(dataset, train_loader, test_loader):\n",
        "    # Get total distribution from dataset (assuming it's a DataFrame)\n",
        "    total_distribution = dataset.distribution_cell_types()\n",
        "\n",
        "    # Ensure it's a DataFrame\n",
        "    if isinstance(total_distribution, pd.Series):\n",
        "        total_distribution = total_distribution.reset_index()\n",
        "        total_distribution.columns = [\"Cell Type\", \"Total Count\"]\n",
        "\n",
        "    # Initialize counters for train and test sets\n",
        "    train_counter = Counter()\n",
        "    test_counter = Counter()\n",
        "\n",
        "    # Count occurrences of each cell type in training set\n",
        "    for _, _, _, cell_types in train_loader:\n",
        "        train_counter.update(cell_types)\n",
        "\n",
        "    # Count occurrences of each cell type in test set\n",
        "    for _, _, _, cell_types in test_loader:\n",
        "        test_counter.update(cell_types)\n",
        "\n",
        "    # Convert counters to Pandas Series\n",
        "    train_series = pd.Series(train_counter, name=\"Train Count\")\n",
        "    test_series = pd.Series(test_counter, name=\"Test Count\")\n",
        "\n",
        "    # Create a DataFrame with all distributions\n",
        "    df = total_distribution.set_index(\"Cell Type\").join([train_series, test_series]).fillna(0)\n",
        "\n",
        "    # Convert counts to integers\n",
        "    df = df.astype(int)\n",
        "\n",
        "    return df\n"
      ]
    },
    {
      "cell_type": "code",
      "execution_count": null,
      "metadata": {
        "id": "EFYmCwHtomDz"
      },
      "outputs": [],
      "source": [
        "compare_cell_type_distribution(dataset, train_loader, test_loader)\n"
      ]
    },
    {
      "cell_type": "markdown",
      "source": [
        "### For futher analysis of the data, we created additionally function to observe to compute the correlation between the number of samples of cell types and their respective f1-score and accuracy"
      ],
      "metadata": {
        "id": "e-FC7scm7ASO"
      }
    },
    {
      "cell_type": "code",
      "execution_count": null,
      "metadata": {
        "id": "1FRwNSRzpfz6"
      },
      "outputs": [],
      "source": [
        "import pandas as pd\n",
        "import seaborn as sns\n",
        "import matplotlib.pyplot as plt\n",
        "from scipy.stats import pearsonr\n",
        "\n",
        "def analyze_correlation(dataset, train_loader, test_loader, model):\n",
        "    # Step 1: Get dataset distribution\n",
        "    total_distribution = dataset.distribution_cell_types()\n",
        "\n",
        "    # Ensure it's a DataFrame\n",
        "    if isinstance(total_distribution, pd.Series):\n",
        "        total_distribution = total_distribution.reset_index()\n",
        "        total_distribution.columns = [\"Cell Type\", \"Train Count\"]\n",
        "\n",
        "    # Step 2: Evaluate model performance per cell type for both tasks\n",
        "    cell_results_severity, cell_results_state, _, _, _, _ = evaluate(model, test_loader)\n",
        "\n",
        "    # Step 3: Merge both performance DataFrames\n",
        "    merged_df = total_distribution.merge(cell_results_severity, on=\"Cell Type\", how=\"inner\")\n",
        "    merged_df = merged_df.merge(cell_results_state, on=\"Cell Type\", how=\"inner\", suffixes=(\"_Severity\", \"_State\"))\n",
        "\n",
        "    # Step 4: Compute correlations\n",
        "    correlation_results = {\n",
        "        \"Accuracy_Severity\": pearsonr(merged_df[\"Train Count\"], merged_df[\"Accuracy_Severity\"])[0],\n",
        "        \"F1-score_Severity\": pearsonr(merged_df[\"Train Count\"], merged_df[\"F1-score_Severity\"])[0],\n",
        "        \"Accuracy_State\": pearsonr(merged_df[\"Train Count\"], merged_df[\"Accuracy_State\"])[0],\n",
        "        \"F1-score_State\": pearsonr(merged_df[\"Train Count\"], merged_df[\"F1-score_State\"])[0],\n",
        "    }\n",
        "\n",
        "    # Step 5: Visualization\n",
        "    plt.figure(figsize=(12, 10))\n",
        "\n",
        "    # Scatter Plot: Frequency vs Accuracy (Severity)\n",
        "    plt.subplot(2, 2, 1)\n",
        "    sns.scatterplot(x=merged_df[\"Train Count\"], y=merged_df[\"Accuracy_Severity\"])\n",
        "    plt.xlabel(\"Train Count of Cell Type\")\n",
        "    plt.ylabel(\"Accuracy (Severity)\")\n",
        "    plt.title(f\"Correlation: {correlation_results['Accuracy_Severity']:.4f}\")\n",
        "\n",
        "    # Scatter Plot: Frequency vs F1-score (Severity)\n",
        "    plt.subplot(2, 2, 2)\n",
        "    sns.scatterplot(x=merged_df[\"Train Count\"], y=merged_df[\"F1-score_Severity\"])\n",
        "    plt.xlabel(\"Train Count of Cell Type\")\n",
        "    plt.ylabel(\"F1-score (Severity)\")\n",
        "    plt.title(f\"Correlation: {correlation_results['F1-score_Severity']:.4f}\")\n",
        "\n",
        "    # Scatter Plot: Frequency vs Accuracy (State)\n",
        "    plt.subplot(2, 2, 3)\n",
        "    sns.scatterplot(x=merged_df[\"Train Count\"], y=merged_df[\"Accuracy_State\"])\n",
        "    plt.xlabel(\"Train Count of Cell Type\")\n",
        "    plt.ylabel(\"Accuracy (State)\")\n",
        "    plt.title(f\"Correlation: {correlation_results['Accuracy_State']:.4f}\")\n",
        "\n",
        "    # Scatter Plot: Frequency vs F1-score (State)\n",
        "    plt.subplot(2, 2, 4)\n",
        "    sns.scatterplot(x=merged_df[\"Train Count\"], y=merged_df[\"F1-score_State\"])\n",
        "    plt.xlabel(\"Train Count of Cell Type\")\n",
        "    plt.ylabel(\"F1-score (State)\")\n",
        "    plt.title(f\"Correlation: {correlation_results['F1-score_State']:.4f}\")\n",
        "\n",
        "    plt.tight_layout()\n",
        "    plt.show()\n",
        "\n",
        "    # Print correlation results\n",
        "    print(\"Correlation between Cell Type Frequency and Performance:\")\n",
        "    print(f\"  Accuracy (Severity) Correlation: {correlation_results['Accuracy_Severity']:.4f}\")\n",
        "    print(f\"  F1-score (Severity) Correlation: {correlation_results['F1-score_Severity']:.4f}\")\n",
        "    print(f\"  Accuracy (State) Correlation: {correlation_results['Accuracy_State']:.4f}\")\n",
        "    print(f\"  F1-score (State) Correlation: {correlation_results['F1-score_State']:.4f}\")\n",
        "\n",
        "    return merged_df, correlation_results\n"
      ]
    },
    {
      "cell_type": "code",
      "execution_count": null,
      "metadata": {
        "id": "mM1EI22Pph6e"
      },
      "outputs": [],
      "source": [
        "df_analysis, correlation = analyze_correlation(dataset, train_loader, test_loader, model)"
      ]
    }
  ],
  "metadata": {
    "colab": {
      "provenance": []
    },
    "kernelspec": {
      "display_name": "Python 3",
      "name": "python3"
    },
    "language_info": {
      "name": "python"
    }
  },
  "nbformat": 4,
  "nbformat_minor": 0
}