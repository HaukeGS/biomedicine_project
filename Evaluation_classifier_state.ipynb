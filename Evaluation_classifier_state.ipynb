{
  "nbformat": 4,
  "nbformat_minor": 0,
  "metadata": {
    "colab": {
      "provenance": []
    },
    "kernelspec": {
      "name": "python3",
      "display_name": "Python 3"
    },
    "language_info": {
      "name": "python"
    }
  },
  "cells": [
    {
      "cell_type": "markdown",
      "source": [
        "# State Classifier\n",
        "This is the classifier used for the comparation between architecture"
      ],
      "metadata": {
        "id": "SExr1FUy3afi"
      }
    },
    {
      "cell_type": "code",
      "execution_count": null,
      "metadata": {
        "id": "J-nJiaMqar7p"
      },
      "outputs": [],
      "source": [
        "import os\n",
        "import pandas as pd\n",
        "import torch\n",
        "import torchvision.transforms as transforms\n",
        "from torch.utils.data import Dataset, DataLoader, random_split\n",
        "from torch import nn, optim\n",
        "from google.colab import drive\n",
        "from tqdm import tqdm"
      ]
    },
    {
      "cell_type": "code",
      "source": [
        "drive.mount('/content/drive')"
      ],
      "metadata": {
        "id": "t2YIikC3b3rb",
        "colab": {
          "base_uri": "https://localhost:8080/"
        },
        "outputId": "9ec2aa66-dcea-4b72-b8d8-1c258b5f72f7"
      },
      "execution_count": null,
      "outputs": [
        {
          "output_type": "stream",
          "name": "stdout",
          "text": [
            "Mounted at /content/drive\n"
          ]
        }
      ]
    },
    {
      "cell_type": "code",
      "source": [
        "device = torch.device(\"cuda\" if torch.cuda.is_available() else \"cpu\")\n",
        "print(f\"Device is: {device}\\n\")"
      ],
      "metadata": {
        "id": "5IGJ2xusxekd",
        "colab": {
          "base_uri": "https://localhost:8080/"
        },
        "outputId": "ff34dd78-847e-42de-de8f-d02160aa5483"
      },
      "execution_count": null,
      "outputs": [
        {
          "output_type": "stream",
          "name": "stdout",
          "text": [
            "Device is: cpu\n",
            "\n"
          ]
        }
      ]
    },
    {
      "cell_type": "markdown",
      "source": [
        "### Here you have to change the path, where the generated embeddings are"
      ],
      "metadata": {
        "id": "6ihLTO223i5S"
      }
    },
    {
      "cell_type": "code",
      "source": [
        "data_path = '/content/drive/MyDrive/biomedicine/embedded_data/'"
      ],
      "metadata": {
        "id": "du_NFI00cDnx"
      },
      "execution_count": null,
      "outputs": []
    },
    {
      "cell_type": "markdown",
      "source": [
        "# Hyper- and Controlparameter"
      ],
      "metadata": {
        "id": "Kn6-uMo-vNY1"
      }
    },
    {
      "cell_type": "code",
      "source": [
        "# Controlparameter\n",
        "\n",
        "LOAD_FROM_DRIVE = False\n",
        "SAVE_TO_DRIVE = False"
      ],
      "metadata": {
        "id": "k0yW-SUWzh1m"
      },
      "execution_count": null,
      "outputs": []
    },
    {
      "cell_type": "code",
      "source": [
        "# HYPERPARAMETER\n",
        "\n",
        "BATCH_SIZE = 128\n",
        "LEARNING_RATE = 0.0001\n",
        "NUM_EPOCHS = 10"
      ],
      "metadata": {
        "id": "ZpPHuDWPvGIP"
      },
      "execution_count": null,
      "outputs": []
    },
    {
      "cell_type": "markdown",
      "source": [
        "# Custom Dataset & Data Preparation"
      ],
      "metadata": {
        "id": "Lu8pwzyWvQAt"
      }
    },
    {
      "cell_type": "code",
      "source": [
        "label_map = {\n",
        "    'control': 0,\n",
        "  #  'mild/moderate': 1,\n",
        " #   'severe/critical': 2,\n",
        "    'progression': 1,\n",
        "    'convalescence': 2,\n",
        "}"
      ],
      "metadata": {
        "id": "erJSlcIOrgTz"
      },
      "execution_count": null,
      "outputs": []
    },
    {
      "cell_type": "code",
      "source": [
        "class EmbeddedDataset(Dataset):\n",
        "    def __init__(self, pkl_file, limit=0):\n",
        "        self.data = pd.read_pickle(pkl_file)\n",
        "\n",
        "\n",
        "\n",
        "        unique_labels = pd.unique(self.data['Sample time'])\n",
        "        cell_types = pd.unique(self.data['celltype'])\n",
        "        print(f\"unique cell types: {cell_types}\")\n",
        "        label_counts = {}\n",
        "        for label in self.data['Sample time']:\n",
        "            label_counts[label] = label_counts.get(label, 0) + 1\n",
        "        print(f\"unique labels: {unique_labels}\")\n",
        "        print(f\"label counts: {label_counts}\")\n",
        "        print(self.data.head())\n",
        "        if limit != 0:\n",
        "            self.downsampling_celltypes(limit)\n",
        "            print(f\"downsampled data: {self.data.head()}\")\n",
        "\n",
        "    def cell_types_list(self):\n",
        "        return list(pd.unique(self.data['celltype']))\n",
        "    def distribution_cell_types(self):\n",
        "        return self.data['celltype'].value_counts()\n",
        "\n",
        "    def downsampling_celltypes(self, limit):\n",
        "        cell_types = self.cell_types_list()\n",
        "        downsampled_data = pd.DataFrame()\n",
        "        for cell_type in cell_types:\n",
        "            cell_type_data = self.data[self.data['celltype'] == cell_type]\n",
        "\n",
        "            if len(cell_type_data) >= limit:\n",
        "                label_counts = cell_type_data['Sample time'].value_counts()\n",
        "                min_count = label_counts.min()\n",
        "                sampled_data = pd.DataFrame()\n",
        "                for label in label_counts.index:\n",
        "                    label_data = cell_type_data[cell_type_data['Sample time'] == label]\n",
        "                    sampled_label_data = label_data.sample(n=min( int(limit/3), min_count), random_state=42)\n",
        "                    sampled_data = pd.concat([sampled_data, sampled_label_data])\n",
        "\n",
        "                    downsampled_data = pd.concat([downsampled_data, sampled_label_data])\n",
        "\n",
        "                #downsampled_data = pd.concat([downsampled_data, cell_type_data])\n",
        "        self.data = downsampled_data\n",
        "    def __len__(self):\n",
        "        return len(self.data)\n",
        "\n",
        "    def __getitem__(self, idx):\n",
        "        embeddings = torch.tensor(self.data.iloc[idx, 0], dtype=torch.float32)\n",
        "        label = torch.tensor(label_map.get(self.data.iloc[idx, 3]), dtype=torch.float32)\n",
        "        cell_type = self.data.iloc[idx, 2]\n",
        "        return embeddings, label, cell_type"
      ],
      "metadata": {
        "id": "uFjfMgZacWol"
      },
      "execution_count": null,
      "outputs": []
    },
    {
      "cell_type": "markdown",
      "source": [
        "### Here can you configure the number that will be used as limit for the creation of the balanced dataset"
      ],
      "metadata": {
        "id": "mq9P7WzP3q4r"
      }
    },
    {
      "cell_type": "code",
      "source": [
        "dataset = EmbeddedDataset(os.path.join(data_path, 'embedded_data_split_severity_celltype_progression_all.pkl'),3000)\n"
      ],
      "metadata": {
        "id": "_Pac04bTdTov",
        "colab": {
          "base_uri": "https://localhost:8080/"
        },
        "outputId": "433eb76d-fe29-4dce-9913-22fbca7fd9cd"
      },
      "execution_count": null,
      "outputs": [
        {
          "output_type": "stream",
          "name": "stdout",
          "text": [
            "unique cell types: ['Mono_c2-CD14-HLA-DPB1' 'T_CD8_c08-IL2RB' 'Mono_c3-CD14-VCAN'\n",
            " 'T_CD4_c04-ANXA2' 'Mono_c1-CD14-CCL3' 'Mono_c5-CD16' 'T_CD8_c07-TYROBP'\n",
            " 'Mono_c4-CD14-CD16' 'T_CD4_c07-AHNAK' 'T_CD4_c12-FOXP3' 'B_c01-TCL1A'\n",
            " 'T_CD4_c01-LEF1' 'T_CD4_c11-GNLY' 'T_CD4_c03-ITGA4' 'T_CD8_c05-ZNF683'\n",
            " 'B_c03-CD27-AIM2' 'T_CD4_c06-NR4A2' 'T_CD8_c10-MKI67-GZMK'\n",
            " 'T_CD4_c02-AQP3' 'T_CD8_c04-COTL1' 'T_CD8_c01-LEF1' 'B_c02-MS4A1-CD27'\n",
            " 'T_CD8_c02-GPR183' 'T_gdT_c14-TRDV2' 'T_CD8_c03-GZMK' 'NK_c01-FCGR3A'\n",
            " 'Macro_c2-CCL3L1' 'DC_c4-LILRA4' 'T_CD4_c08-GZMK-FOS_h' 'T_CD8_c06-TNF'\n",
            " 'DC_c2-CD1C' 'T_CD8_c09-SLC4A10' 'T_CD8_c12-MKI67-TYROBP'\n",
            " 'T_CD4_c09-GZMK-FOS_l' 'NK_c03-MKI67' 'T_CD8_c13-HAVCR2'\n",
            " 'T_CD4_c13-MKI67-CCL5_l' 'T_CD4_c05-FOS' 'B_c04-SOX5-TNFRSF1B' 'Mega'\n",
            " 'DC_c1-CLEC9A' 'NK_c02-NCAM1' 'B_c05-MZB1-XBP1' 'T_CD8_c11-MKI67-FOS'\n",
            " 'T_CD4_c14-MKI67-CCL5_h' 'T_CD4_c10-IFNG' 'B_c06-MKI67' 'Macro_c1-C1QC'\n",
            " 'Neu_c1-IL1B' 'Macro_c6-VCAN' 'Macro_c5-WDR74' 'Macro_c4-DNAJB1'\n",
            " 'Epi-Ciliated' 'DC_c3-LAMP3' 'Epi-Squamous' 'Macro_c3-EREG'\n",
            " 'Neu_c2-CXCR4(low)' 'Epi-Secretory' 'Neu_c4-RSAD2' 'Neu_c6-FGF23'\n",
            " 'Neu_c3-CST7' 'Epi-AT2' 'Mast' 'Neu_c5-GSTP1(high)OASL(low)']\n",
            "unique labels: ['convalescence' 'progression' 'control']\n",
            "label counts: {'convalescence': 787987, 'progression': 509715, 'control': 165000}\n",
            "                                          embeddings       severity  \\\n",
            "0  [0.05455078, -0.003437997, -0.023250412, -0.02...  mild/moderate   \n",
            "1  [0.022801453, -0.025798667, 0.0002587465, 0.00...  mild/moderate   \n",
            "2  [0.04894136, -0.0035773313, -0.030182272, -0.0...  mild/moderate   \n",
            "3  [0.035008512, -0.020082857, 0.007999258, 0.009...  mild/moderate   \n",
            "4  [0.038176414, -0.006059695, -0.029966526, -0.0...  mild/moderate   \n",
            "\n",
            "                celltype    Sample time  \n",
            "0  Mono_c2-CD14-HLA-DPB1  convalescence  \n",
            "1        T_CD8_c08-IL2RB  convalescence  \n",
            "2      Mono_c3-CD14-VCAN  convalescence  \n",
            "3        T_CD4_c04-ANXA2  convalescence  \n",
            "4      Mono_c3-CD14-VCAN  convalescence  \n",
            "downsampled data:                                                 embeddings         severity  \\\n",
            "625096   [0.052065082, -0.02323941, -0.0024361261, -0.0...    mild/moderate   \n",
            "945803   [0.029808365, -0.0016358994, -0.032955904, -0....  severe/critical   \n",
            "1297428  [0.03441666, 0.009496943, -0.018919079, -0.009...    mild/moderate   \n",
            "444424   [0.042649105, -0.021701505, -0.0085866805, -0....    mild/moderate   \n",
            "429420   [0.013972375, -0.01682744, -0.0069022663, -0.0...    mild/moderate   \n",
            "\n",
            "                      celltype    Sample time  \n",
            "625096   Mono_c2-CD14-HLA-DPB1  convalescence  \n",
            "945803   Mono_c2-CD14-HLA-DPB1  convalescence  \n",
            "1297428  Mono_c2-CD14-HLA-DPB1  convalescence  \n",
            "444424   Mono_c2-CD14-HLA-DPB1  convalescence  \n",
            "429420   Mono_c2-CD14-HLA-DPB1  convalescence  \n"
          ]
        }
      ]
    },
    {
      "cell_type": "code",
      "source": [
        "dataset.distribution_cell_types()"
      ],
      "metadata": {
        "id": "GFm_iWbOnmYI",
        "colab": {
          "base_uri": "https://localhost:8080/",
          "height": 1000
        },
        "outputId": "5dada791-9e8d-4c17-af3e-58248357f78e"
      },
      "execution_count": null,
      "outputs": [
        {
          "output_type": "execute_result",
          "data": {
            "text/plain": [
              "celltype\n",
              "Mono_c2-CD14-HLA-DPB1    3000\n",
              "T_CD4_c06-NR4A2          3000\n",
              "T_CD4_c05-FOS            3000\n",
              "T_CD4_c09-GZMK-FOS_l     3000\n",
              "T_CD8_c09-SLC4A10        3000\n",
              "DC_c2-CD1C               3000\n",
              "T_CD8_c06-TNF            3000\n",
              "NK_c01-FCGR3A            3000\n",
              "T_CD8_c03-GZMK           3000\n",
              "T_gdT_c14-TRDV2          3000\n",
              "T_CD8_c02-GPR183         3000\n",
              "B_c02-MS4A1-CD27         3000\n",
              "T_CD8_c01-LEF1           3000\n",
              "T_CD8_c08-IL2RB          3000\n",
              "T_CD4_c02-AQP3           3000\n",
              "T_CD8_c04-COTL1          3000\n",
              "B_c03-CD27-AIM2          3000\n",
              "Mono_c1-CD14-CCL3        3000\n",
              "T_CD8_c05-ZNF683         3000\n",
              "T_CD4_c03-ITGA4          3000\n",
              "T_CD4_c11-GNLY           3000\n",
              "T_CD4_c01-LEF1           3000\n",
              "B_c01-TCL1A              3000\n",
              "T_CD4_c12-FOXP3          3000\n",
              "T_CD4_c07-AHNAK          3000\n",
              "Mono_c3-CD14-VCAN        3000\n",
              "T_CD4_c04-ANXA2          3000\n",
              "T_CD8_c07-TYROBP         3000\n",
              "Mono_c5-CD16             3000\n",
              "B_c04-SOX5-TNFRSF1B      2514\n",
              "T_CD4_c08-GZMK-FOS_h     2445\n",
              "Mega                     2265\n",
              "Mono_c4-CD14-CD16        1986\n",
              "T_CD8_c10-MKI67-GZMK     1947\n",
              "Epi-Squamous             1000\n",
              "B_c05-MZB1-XBP1           924\n",
              "Macro_c2-CCL3L1            57\n",
              "Macro_c1-C1QC              15\n",
              "Name: count, dtype: int64"
            ],
            "text/html": [
              "<div>\n",
              "<style scoped>\n",
              "    .dataframe tbody tr th:only-of-type {\n",
              "        vertical-align: middle;\n",
              "    }\n",
              "\n",
              "    .dataframe tbody tr th {\n",
              "        vertical-align: top;\n",
              "    }\n",
              "\n",
              "    .dataframe thead th {\n",
              "        text-align: right;\n",
              "    }\n",
              "</style>\n",
              "<table border=\"1\" class=\"dataframe\">\n",
              "  <thead>\n",
              "    <tr style=\"text-align: right;\">\n",
              "      <th></th>\n",
              "      <th>count</th>\n",
              "    </tr>\n",
              "    <tr>\n",
              "      <th>celltype</th>\n",
              "      <th></th>\n",
              "    </tr>\n",
              "  </thead>\n",
              "  <tbody>\n",
              "    <tr>\n",
              "      <th>Mono_c2-CD14-HLA-DPB1</th>\n",
              "      <td>3000</td>\n",
              "    </tr>\n",
              "    <tr>\n",
              "      <th>T_CD4_c06-NR4A2</th>\n",
              "      <td>3000</td>\n",
              "    </tr>\n",
              "    <tr>\n",
              "      <th>T_CD4_c05-FOS</th>\n",
              "      <td>3000</td>\n",
              "    </tr>\n",
              "    <tr>\n",
              "      <th>T_CD4_c09-GZMK-FOS_l</th>\n",
              "      <td>3000</td>\n",
              "    </tr>\n",
              "    <tr>\n",
              "      <th>T_CD8_c09-SLC4A10</th>\n",
              "      <td>3000</td>\n",
              "    </tr>\n",
              "    <tr>\n",
              "      <th>DC_c2-CD1C</th>\n",
              "      <td>3000</td>\n",
              "    </tr>\n",
              "    <tr>\n",
              "      <th>T_CD8_c06-TNF</th>\n",
              "      <td>3000</td>\n",
              "    </tr>\n",
              "    <tr>\n",
              "      <th>NK_c01-FCGR3A</th>\n",
              "      <td>3000</td>\n",
              "    </tr>\n",
              "    <tr>\n",
              "      <th>T_CD8_c03-GZMK</th>\n",
              "      <td>3000</td>\n",
              "    </tr>\n",
              "    <tr>\n",
              "      <th>T_gdT_c14-TRDV2</th>\n",
              "      <td>3000</td>\n",
              "    </tr>\n",
              "    <tr>\n",
              "      <th>T_CD8_c02-GPR183</th>\n",
              "      <td>3000</td>\n",
              "    </tr>\n",
              "    <tr>\n",
              "      <th>B_c02-MS4A1-CD27</th>\n",
              "      <td>3000</td>\n",
              "    </tr>\n",
              "    <tr>\n",
              "      <th>T_CD8_c01-LEF1</th>\n",
              "      <td>3000</td>\n",
              "    </tr>\n",
              "    <tr>\n",
              "      <th>T_CD8_c08-IL2RB</th>\n",
              "      <td>3000</td>\n",
              "    </tr>\n",
              "    <tr>\n",
              "      <th>T_CD4_c02-AQP3</th>\n",
              "      <td>3000</td>\n",
              "    </tr>\n",
              "    <tr>\n",
              "      <th>T_CD8_c04-COTL1</th>\n",
              "      <td>3000</td>\n",
              "    </tr>\n",
              "    <tr>\n",
              "      <th>B_c03-CD27-AIM2</th>\n",
              "      <td>3000</td>\n",
              "    </tr>\n",
              "    <tr>\n",
              "      <th>Mono_c1-CD14-CCL3</th>\n",
              "      <td>3000</td>\n",
              "    </tr>\n",
              "    <tr>\n",
              "      <th>T_CD8_c05-ZNF683</th>\n",
              "      <td>3000</td>\n",
              "    </tr>\n",
              "    <tr>\n",
              "      <th>T_CD4_c03-ITGA4</th>\n",
              "      <td>3000</td>\n",
              "    </tr>\n",
              "    <tr>\n",
              "      <th>T_CD4_c11-GNLY</th>\n",
              "      <td>3000</td>\n",
              "    </tr>\n",
              "    <tr>\n",
              "      <th>T_CD4_c01-LEF1</th>\n",
              "      <td>3000</td>\n",
              "    </tr>\n",
              "    <tr>\n",
              "      <th>B_c01-TCL1A</th>\n",
              "      <td>3000</td>\n",
              "    </tr>\n",
              "    <tr>\n",
              "      <th>T_CD4_c12-FOXP3</th>\n",
              "      <td>3000</td>\n",
              "    </tr>\n",
              "    <tr>\n",
              "      <th>T_CD4_c07-AHNAK</th>\n",
              "      <td>3000</td>\n",
              "    </tr>\n",
              "    <tr>\n",
              "      <th>Mono_c3-CD14-VCAN</th>\n",
              "      <td>3000</td>\n",
              "    </tr>\n",
              "    <tr>\n",
              "      <th>T_CD4_c04-ANXA2</th>\n",
              "      <td>3000</td>\n",
              "    </tr>\n",
              "    <tr>\n",
              "      <th>T_CD8_c07-TYROBP</th>\n",
              "      <td>3000</td>\n",
              "    </tr>\n",
              "    <tr>\n",
              "      <th>Mono_c5-CD16</th>\n",
              "      <td>3000</td>\n",
              "    </tr>\n",
              "    <tr>\n",
              "      <th>B_c04-SOX5-TNFRSF1B</th>\n",
              "      <td>2514</td>\n",
              "    </tr>\n",
              "    <tr>\n",
              "      <th>T_CD4_c08-GZMK-FOS_h</th>\n",
              "      <td>2445</td>\n",
              "    </tr>\n",
              "    <tr>\n",
              "      <th>Mega</th>\n",
              "      <td>2265</td>\n",
              "    </tr>\n",
              "    <tr>\n",
              "      <th>Mono_c4-CD14-CD16</th>\n",
              "      <td>1986</td>\n",
              "    </tr>\n",
              "    <tr>\n",
              "      <th>T_CD8_c10-MKI67-GZMK</th>\n",
              "      <td>1947</td>\n",
              "    </tr>\n",
              "    <tr>\n",
              "      <th>Epi-Squamous</th>\n",
              "      <td>1000</td>\n",
              "    </tr>\n",
              "    <tr>\n",
              "      <th>B_c05-MZB1-XBP1</th>\n",
              "      <td>924</td>\n",
              "    </tr>\n",
              "    <tr>\n",
              "      <th>Macro_c2-CCL3L1</th>\n",
              "      <td>57</td>\n",
              "    </tr>\n",
              "    <tr>\n",
              "      <th>Macro_c1-C1QC</th>\n",
              "      <td>15</td>\n",
              "    </tr>\n",
              "  </tbody>\n",
              "</table>\n",
              "</div><br><label><b>dtype:</b> int64</label>"
            ]
          },
          "metadata": {},
          "execution_count": 10
        }
      ]
    },
    {
      "cell_type": "code",
      "source": [
        "train_size = int(0.8 * len(dataset))\n",
        "test_size = len(dataset) - train_size\n",
        "\n",
        "train_dataset, test_dataset = random_split(dataset, [train_size, test_size])"
      ],
      "metadata": {
        "id": "FduZTm4jhIH6"
      },
      "execution_count": null,
      "outputs": []
    },
    {
      "cell_type": "code",
      "source": [
        "train_loader = DataLoader(train_dataset, batch_size=BATCH_SIZE, shuffle=True)\n",
        "test_loader = DataLoader(test_dataset, batch_size=BATCH_SIZE, shuffle=False)"
      ],
      "metadata": {
        "id": "LFLzlS0kvAdY"
      },
      "execution_count": null,
      "outputs": []
    },
    {
      "cell_type": "code",
      "source": [
        "for (embeddings, labels,_) in train_loader:\n",
        "    print(type(embeddings[0]))\n",
        "    print(type(labels[0]))\n",
        "    print(type(embeddings[0][0]))\n",
        "    print(type(labels[0].item()))\n",
        "    break"
      ],
      "metadata": {
        "id": "Bp8Ct-gYvhVZ",
        "colab": {
          "base_uri": "https://localhost:8080/"
        },
        "outputId": "b0b14a08-1786-4f66-ad16-43c6058f1bb5"
      },
      "execution_count": null,
      "outputs": [
        {
          "output_type": "stream",
          "name": "stdout",
          "text": [
            "<class 'torch.Tensor'>\n",
            "<class 'torch.Tensor'>\n",
            "<class 'torch.Tensor'>\n",
            "<class 'float'>\n"
          ]
        }
      ]
    },
    {
      "cell_type": "markdown",
      "source": [
        "# Model Architecture\n"
      ],
      "metadata": {
        "id": "i3sNfm7dvb2o"
      }
    },
    {
      "cell_type": "code",
      "source": [
        "class Classifier(torch.nn.Module):\n",
        "    def __init__(self):\n",
        "        super(Classifier, self).__init__()\n",
        "        self.layers = nn.Sequential(\n",
        "            nn.Linear(in_features=512, out_features=1024),\n",
        "            nn.LeakyReLU(0.2),\n",
        "            nn.Linear(in_features=1024, out_features=2048),\n",
        "            nn.LeakyReLU(0.2),\n",
        "            nn.Linear(in_features=2048, out_features=2048),\n",
        "            nn.LeakyReLU(0.2),\n",
        "            nn.Linear(in_features=2048, out_features=1024),\n",
        "            nn.LeakyReLU(0.2),\n",
        "            nn.Linear(in_features=1024, out_features=1024),\n",
        "            nn.LeakyReLU(0.2),\n",
        "            nn.Linear(in_features=1024, out_features=3),\n",
        "        )\n",
        "\n",
        "    def forward(self, x):\n",
        "        return self.layers(x)"
      ],
      "metadata": {
        "id": "q26P_D3UvdWu"
      },
      "execution_count": null,
      "outputs": []
    },
    {
      "cell_type": "code",
      "source": [
        "from tqdm import tqdm\n",
        "\n",
        "# Training Loop\n",
        "def train(model, train_loader, num_epochs, optimizer, criterion):\n",
        "    model.to(device)  # Move model to device ONCE\n",
        "    model.train()  # Set model to training mode\n",
        "\n",
        "    for epoch in range(num_epochs):\n",
        "        running_loss = 0.0\n",
        "        dataloader = tqdm(train_loader, desc=f\"Epoch {epoch+1}/{num_epochs}\")\n",
        "\n",
        "        for i, (embeddings, labels, _) in enumerate(dataloader):\n",
        "            embeddings, labels = embeddings.to(device), labels.to(device).long()  # Ensure labels are long\n",
        "\n",
        "            optimizer.zero_grad()\n",
        "            output = model(embeddings)  # Get raw logits\n",
        "\n",
        "            loss = criterion(output, labels)  # Compute loss\n",
        "            loss.backward()  # Backpropagation\n",
        "            optimizer.step()  # Update weights\n",
        "\n",
        "            running_loss += loss.item()\n",
        "            dataloader.set_postfix({\"Loss\": running_loss / (i + 1)})  # Show average loss per batch\n"
      ],
      "metadata": {
        "id": "Ll9Gc-pfmo5G"
      },
      "execution_count": null,
      "outputs": []
    },
    {
      "cell_type": "code",
      "source": [
        "# custom weights initialization\n",
        "def weights_init(m):\n",
        "    classname = m.__class__.__name__\n",
        "    if classname.find('Linear') != -1:\n",
        "        nn.init.normal_(m.weight.data, 0.0, 1/m.weight.shape[1])"
      ],
      "metadata": {
        "id": "-Rz_PSGpsbgR"
      },
      "execution_count": null,
      "outputs": []
    },
    {
      "cell_type": "code",
      "source": [
        "# Initialize the model\n",
        "\n",
        "classifier_model = Classifier().to(device)\n",
        "\n",
        "if LOAD_FROM_DRIVE:\n",
        "    try:\n",
        "        classifier_model.load_state_dict(torch.load(binary_classifier_model_path, weights_only=True))\n",
        "        print(\"Model loaded from drive\")\n",
        "    except Exception as e:\n",
        "        print(f\"Error loading model from drive: {e}\")\n",
        "# else:\n",
        "#     classifier_model.apply(weights_init)\n",
        "\n",
        "# set up loss function and optimizer\n",
        "\n",
        "criterion = nn.CrossEntropyLoss()\n",
        "optimizer = optim.Adam(classifier_model.parameters(), lr=LEARNING_RATE)"
      ],
      "metadata": {
        "id": "zLqBjs4rzb72"
      },
      "execution_count": null,
      "outputs": []
    },
    {
      "cell_type": "markdown",
      "source": [
        "# Training"
      ],
      "metadata": {
        "id": "7rHnNd7840T_"
      }
    },
    {
      "cell_type": "code",
      "source": [
        "# start training loop\n",
        "if not LOAD_FROM_DRIVE:\n",
        "    train(\n",
        "        model=classifier_model,\n",
        "        train_loader=train_loader,\n",
        "        num_epochs=NUM_EPOCHS,\n",
        "        optimizer=optimizer,\n",
        "        criterion=criterion\n",
        "    )"
      ],
      "metadata": {
        "id": "CIrvs72E0Lus",
        "colab": {
          "base_uri": "https://localhost:8080/"
        },
        "outputId": "fedae385-8ff3-4f82-9a6e-3a25d532962f"
      },
      "execution_count": null,
      "outputs": [
        {
          "output_type": "stream",
          "name": "stderr",
          "text": [
            "Epoch 1/10: 100%|██████████| 626/626 [02:56<00:00,  3.54it/s, Loss=0.689]\n",
            "Epoch 2/10: 100%|██████████| 626/626 [02:59<00:00,  3.48it/s, Loss=0.489]\n",
            "Epoch 3/10: 100%|██████████| 626/626 [03:03<00:00,  3.41it/s, Loss=0.417]\n",
            "Epoch 4/10: 100%|██████████| 626/626 [03:08<00:00,  3.32it/s, Loss=0.374]\n",
            "Epoch 5/10: 100%|██████████| 626/626 [03:02<00:00,  3.43it/s, Loss=0.335]\n",
            "Epoch 6/10: 100%|██████████| 626/626 [03:04<00:00,  3.39it/s, Loss=0.311]\n",
            "Epoch 7/10: 100%|██████████| 626/626 [03:13<00:00,  3.23it/s, Loss=0.291]\n",
            "Epoch 8/10: 100%|██████████| 626/626 [03:22<00:00,  3.09it/s, Loss=0.272]\n",
            "Epoch 9/10: 100%|██████████| 626/626 [03:04<00:00,  3.39it/s, Loss=0.257]\n",
            "Epoch 10/10: 100%|██████████| 626/626 [03:01<00:00,  3.45it/s, Loss=0.246]\n"
          ]
        }
      ]
    },
    {
      "cell_type": "code",
      "source": [
        "# save to drive\n",
        "\n",
        "if SAVE_TO_DRIVE:\n",
        "    try:\n",
        "        os.makedirs(directory_path)\n",
        "    except FileExistsError:\n",
        "        pass\n",
        "\n",
        "    torch.save(classifier_model.state_dict(), binary_classifier_model_path)\n",
        "    print(\"Model saved to drive\")"
      ],
      "metadata": {
        "id": "cSoHsDzv0QyT"
      },
      "execution_count": null,
      "outputs": []
    },
    {
      "cell_type": "markdown",
      "source": [
        "# Evaluation"
      ],
      "metadata": {
        "id": "Ct0Lp8HK44gR"
      }
    },
    {
      "cell_type": "code",
      "source": [
        "import torch\n",
        "import pandas as pd\n",
        "import seaborn as sns\n",
        "import matplotlib.pyplot as plt\n",
        "from sklearn.metrics import accuracy_score, precision_score, recall_score, f1_score, confusion_matrix\n",
        "from collections import defaultdict\n",
        "import numpy as np\n",
        "\n",
        "def evaluate(model, test_loader):\n",
        "    model.eval()\n",
        "    all_preds = []\n",
        "    all_labels = []\n",
        "    cell_type_results = defaultdict(lambda: {\"y_true\": [], \"y_pred\": []})  # Store results per cell type\n",
        "\n",
        "    with torch.no_grad():\n",
        "        for embeddings, labels, cell_types in test_loader:\n",
        "            embeddings, labels = embeddings.to(device), labels.to(device)\n",
        "            outputs = model(embeddings).squeeze()\n",
        "            preds = torch.argmax(outputs, dim=1)  # Convert probabilities to predicted labels\n",
        "\n",
        "            all_preds.extend(preds.cpu().numpy())\n",
        "            all_labels.extend(labels.cpu().numpy())\n",
        "\n",
        "            # Store results for each cell type\n",
        "            for i, cell in enumerate(cell_types):\n",
        "                cell_type_results[cell][\"y_true\"].append(labels[i].item())\n",
        "                cell_type_results[cell][\"y_pred\"].append(preds[i].item())\n",
        "\n",
        "    # Compute overall metrics\n",
        "    accuracy = accuracy_score(all_labels, all_preds)\n",
        "    precision = precision_score(all_labels, all_preds, average=\"macro\")\n",
        "    recall = recall_score(all_labels, all_preds, average=\"macro\")\n",
        "    f1 = f1_score(all_labels, all_preds, average=\"macro\")\n",
        "\n",
        "    # Compute confusion matrix\n",
        "    cm_state = confusion_matrix(all_labels, all_preds)\n",
        "    cm_state_normalized = cm_state.astype('float') / cm_state.sum(axis=1)[:, np.newaxis]\n",
        "\n",
        "    # Plot confusion matrix\n",
        "    plt.figure(figsize=(6,5))\n",
        "    sns.heatmap(cm_state_normalized, annot=True, fmt=\".2f\", cmap=\"Blues\", xticklabels=[\"control\", \"progression\", \"convalescence\"], yticklabels=[\"control\", \"progression\", \"convalescence\"])\n",
        "    plt.xlabel(\"Predicted Labels\")\n",
        "    plt.ylabel(\"True Labels\")\n",
        "    plt.title(\"Confusion Matrix\")\n",
        "    plt.show()\n",
        "\n",
        "    # Compute metrics per cell type\n",
        "    cell_type_list, acc_list, f1_list, prec_list, rec_list = [], [], [], [], []\n",
        "    for cell, values in cell_type_results.items():\n",
        "        acc = accuracy_score(values[\"y_true\"], values[\"y_pred\"])\n",
        "        prec = precision_score(values[\"y_true\"], values[\"y_pred\"], average=\"macro\")\n",
        "        rec = recall_score(values[\"y_true\"], values[\"y_pred\"], average=\"macro\")\n",
        "        f1 = f1_score(values[\"y_true\"], values[\"y_pred\"], average=\"macro\")\n",
        "\n",
        "        cell_type_list.append(cell)\n",
        "        acc_list.append(acc)\n",
        "        f1_list.append(f1)\n",
        "        prec_list.append(prec)\n",
        "        rec_list.append(rec)\n",
        "\n",
        "    cell_type_results_df = pd.DataFrame({\n",
        "        \"Cell Type\": cell_type_list,\n",
        "        \"Accuracy\": acc_list,\n",
        "        \"F1-score\": f1_list,\n",
        "        \"Precision\": prec_list,\n",
        "        \"Recall\": rec_list\n",
        "    })\n",
        "\n",
        "    f1 = f1_score(all_labels, all_preds, average=\"macro\")\n",
        "\n",
        "    return accuracy, precision, recall, f1, cell_type_results_df\n"
      ],
      "metadata": {
        "id": "Nlqh9bfguQuM"
      },
      "execution_count": null,
      "outputs": []
    },
    {
      "cell_type": "code",
      "source": [
        "evaluate(classifier_model, test_loader)"
      ],
      "metadata": {
        "id": "DeTbZlLv5QRC",
        "colab": {
          "base_uri": "https://localhost:8080/",
          "height": 1000
        },
        "outputId": "1691909a-3dcd-4851-b19a-1b396cf9289c"
      },
      "execution_count": null,
      "outputs": [
        {
          "output_type": "display_data",
          "data": {
            "text/plain": [
              "<Figure size 600x500 with 2 Axes>"
            ],
            "image/png": "[encoded data removed]"
          },
          "metadata": {}
        },
        {
          "output_type": "execute_result",
          "data": {
            "text/plain": [
              "(0.8916679147321651,\n",
              " 0.8920839246738194,\n",
              " 0.8917283157325437,\n",
              " 0.8914207483476168,\n",
              "                 Cell Type  Accuracy  F1-score  Precision    Recall\n",
              " 0          T_CD8_c03-GZMK  0.880546  0.880687   0.883450  0.881418\n",
              " 1                    Mega  0.762470  0.763360   0.767231  0.761167\n",
              " 2          T_CD4_c02-AQP3  0.897690  0.899957   0.905349  0.898045\n",
              " 3       Mono_c4-CD14-CD16  0.905941  0.904743   0.905656  0.905677\n",
              " 4         T_CD4_c12-FOXP3  0.903553  0.902199   0.904895  0.902445\n",
              " 5              DC_c2-CD1C  0.918138  0.919016   0.920821  0.918487\n",
              " 6         T_CD4_c07-AHNAK  0.913478  0.913836   0.913605  0.914087\n",
              " 7           T_CD4_c05-FOS  0.906902  0.906803   0.907711  0.906581\n",
              " 8         T_gdT_c14-TRDV2  0.885808  0.884703   0.891587  0.885267\n",
              " 9     B_c04-SOX5-TNFRSF1B  0.831915  0.829516   0.837827  0.830970\n",
              " 10       T_CD8_c07-TYROBP  0.884553  0.884727   0.885001  0.885797\n",
              " 11   T_CD8_c10-MKI67-GZMK  0.907455  0.907828   0.908993  0.907843\n",
              " 12          NK_c01-FCGR3A  0.911612  0.911785   0.912326  0.911552\n",
              " 13         T_CD4_c01-LEF1  0.875806  0.877491   0.878784  0.881316\n",
              " 14       T_CD8_c02-GPR183  0.906096  0.904623   0.905680  0.904605\n",
              " 15       B_c02-MS4A1-CD27  0.867012  0.866993   0.872118  0.870094\n",
              " 16        T_CD4_c06-NR4A2  0.894295  0.894959   0.896454  0.894364\n",
              " 17   T_CD4_c09-GZMK-FOS_l  0.899130  0.897591   0.899370  0.898168\n",
              " 18           Mono_c5-CD16  0.898858  0.898669   0.902118  0.898444\n",
              " 19          T_CD8_c06-TNF  0.924866  0.923740   0.923564  0.924094\n",
              " 20        B_c03-CD27-AIM2  0.877888  0.876921   0.882097  0.877649\n",
              " 21            B_c01-TCL1A  0.879102  0.877602   0.885930  0.878063\n",
              " 22           Epi-Squamous  1.000000  1.000000   1.000000  1.000000\n",
              " 23      Mono_c1-CD14-CCL3  0.925203  0.923841   0.925238  0.925644\n",
              " 24        T_CD8_c04-COTL1  0.863322  0.864333   0.864169  0.864879\n",
              " 25         T_CD4_c11-GNLY  0.901007  0.901438   0.902327  0.902005\n",
              " 26        T_CD4_c03-ITGA4  0.900524  0.900921   0.904315  0.899345\n",
              " 27        T_CD8_c08-IL2RB  0.866972  0.866924   0.866930  0.867483\n",
              " 28      Mono_c3-CD14-VCAN  0.914050  0.914450   0.917317  0.913883\n",
              " 29      T_CD8_c09-SLC4A10  0.863866  0.860500   0.863340  0.862216\n",
              " 30       T_CD8_c05-ZNF683  0.909091  0.908591   0.909205  0.908936\n",
              " 31         T_CD8_c01-LEF1  0.859038  0.861497   0.868597  0.860283\n",
              " 32        B_c05-MZB1-XBP1  0.798883  0.798846   0.805484  0.802010\n",
              " 33        T_CD4_c04-ANXA2  0.903876  0.902679   0.909601  0.904009\n",
              " 34   T_CD4_c08-GZMK-FOS_h  0.898810  0.898878   0.900322  0.898601\n",
              " 35  Mono_c2-CD14-HLA-DPB1  0.933222  0.931884   0.933483  0.931297\n",
              " 36          Macro_c1-C1QC  1.000000  1.000000   1.000000  1.000000\n",
              " 37        Macro_c2-CCL3L1  0.636364  0.644444   0.809524  0.733333)"
            ]
          },
          "metadata": {},
          "execution_count": 21
        }
      ]
    },
    {
      "cell_type": "code",
      "source": [
        "import pandas as pd\n",
        "from collections import Counter\n",
        "\n",
        "def compare_cell_type_distribution(dataset, train_loader, test_loader):\n",
        "    # Get total distribution from dataset (assuming it's a DataFrame)\n",
        "    total_distribution = dataset.distribution_cell_types()\n",
        "\n",
        "    # Ensure it's a DataFrame\n",
        "    if isinstance(total_distribution, pd.Series):\n",
        "        total_distribution = total_distribution.reset_index()\n",
        "        total_distribution.columns = [\"Cell Type\", \"Total Count\"]\n",
        "\n",
        "    # Initialize counters for train and test sets\n",
        "    train_counter = Counter()\n",
        "    test_counter = Counter()\n",
        "\n",
        "    # Count occurrences of each cell type in training set\n",
        "    for _, _, cell_types in train_loader:\n",
        "        train_counter.update(cell_types)\n",
        "\n",
        "    # Count occurrences of each cell type in test set\n",
        "    for _, _, cell_types in test_loader:\n",
        "        test_counter.update(cell_types)\n",
        "\n",
        "    # Convert counters to Pandas Series\n",
        "    train_series = pd.Series(train_counter, name=\"Train Count\")\n",
        "    test_series = pd.Series(test_counter, name=\"Test Count\")\n",
        "\n",
        "    # Create a DataFrame with all distributions\n",
        "    df = total_distribution.set_index(\"Cell Type\").join([train_series, test_series]).fillna(0)\n",
        "\n",
        "    # Convert counts to integers\n",
        "    df = df.astype(int)\n",
        "\n",
        "    # Print the table\n",
        "   # print(df)\n",
        "\n",
        "    return df\n"
      ],
      "metadata": {
        "id": "sMpb5bMTolFE"
      },
      "execution_count": null,
      "outputs": []
    },
    {
      "cell_type": "code",
      "source": [
        "compare_cell_type_distribution(dataset, train_loader, test_loader)\n"
      ],
      "metadata": {
        "id": "EFYmCwHtomDz"
      },
      "execution_count": null,
      "outputs": []
    },
    {
      "cell_type": "markdown",
      "source": [
        "### For futher analysis of the data, we created additionally function to observe to compute the correlation between the number of samples of cell types and their respective f1-score and accuracy"
      ],
      "metadata": {
        "id": "griyeYuy7H4C"
      }
    },
    {
      "cell_type": "code",
      "source": [
        "import pandas as pd\n",
        "import seaborn as sns\n",
        "import matplotlib.pyplot as plt\n",
        "from scipy.stats import pearsonr\n",
        "\n",
        "def analyze_correlation(dataset, train_loader, test_loader, model):\n",
        "    # Step 1: Get dataset distribution\n",
        "    total_distribution = dataset.distribution_cell_types()\n",
        "\n",
        "    # Ensure it's a DataFrame\n",
        "    if isinstance(total_distribution, pd.Series):\n",
        "        total_distribution = total_distribution.reset_index()\n",
        "        total_distribution.columns = [\"Cell Type\", \"Train Count\"]\n",
        "\n",
        "    # Step 2: Evaluate model performance per cell type\n",
        "    _, _, _, _, cell_results = evaluate(model, test_loader)\n",
        "    \"\"\"\n",
        "    # Step 3: Ensure cell_results is properly structured\n",
        "    if isinstance(cell_results, dict):\n",
        "        performance_data = []\n",
        "        for cell_type, metrics in cell_results.items():\n",
        "            if isinstance(metrics, dict):  # Ensure it's not a string or number\n",
        "                row = {\"Cell Type\": cell_type}\n",
        "                row.update(metrics)  # Add accuracy, F1-score, etc.\n",
        "                performance_data.append(row)\n",
        "        performance_df = pd.DataFrame(performance_data)\n",
        "    else:\n",
        "        raise ValueError(\"cell_results is not a valid dictionary.\")\n",
        "    \"\"\"\n",
        "    # Step 4: Merge both DataFrames\n",
        "    merged_df = total_distribution.merge(cell_results, on=\"Cell Type\", how=\"inner\")\n",
        "\n",
        "    # Step 5: Compute correlation\n",
        "    correlation_results = {\n",
        "        \"Accuracy\": pearsonr(merged_df[\"Train Count\"], merged_df[\"Accuracy\"])[0],\n",
        "        \"F1-score\": pearsonr(merged_df[\"Train Count\"], merged_df[\"F1-score\"])[0]\n",
        "    }\n",
        "\n",
        "    # Step 6: Visualization\n",
        "    plt.figure(figsize=(12, 5))\n",
        "\n",
        "    # Scatter Plot: Frequency vs Accuracy\n",
        "    plt.subplot(1, 2, 1)\n",
        "    sns.scatterplot(x=merged_df[\"Train Count\"], y=merged_df[\"Accuracy\"])\n",
        "    plt.xlabel(\"Train Count of Cell Type\")\n",
        "    plt.ylabel(\"Accuracy\")\n",
        "    plt.title(f\"Correlation: {correlation_results['Accuracy']:.4f}\")\n",
        "\n",
        "    # Scatter Plot: Frequency vs F1-score\n",
        "    plt.subplot(1, 2, 2)\n",
        "    sns.scatterplot(x=merged_df[\"Train Count\"], y=merged_df[\"F1-score\"])\n",
        "    plt.xlabel(\"Train Count of Cell Type\")\n",
        "    plt.ylabel(\"F1-score\")\n",
        "    plt.title(f\"Correlation: {correlation_results['F1-score']:.4f}\")\n",
        "\n",
        "    plt.tight_layout()\n",
        "    plt.show()\n",
        "\n",
        "    # Print correlation results\n",
        "    print(\"Correlation between Cell Type Frequency and Performance:\")\n",
        "    print(f\"  Accuracy Correlation: {correlation_results['Accuracy']:.4f}\")\n",
        "    print(f\"  F1-score Correlation: {correlation_results['F1-score']:.4f}\")\n",
        "\n",
        "    return merged_df, correlation_results\n"
      ],
      "metadata": {
        "id": "1FRwNSRzpfz6"
      },
      "execution_count": null,
      "outputs": []
    },
    {
      "cell_type": "code",
      "source": [
        "df_analysis, correlation = analyze_correlation(dataset, train_loader, test_loader, classifier_model)"
      ],
      "metadata": {
        "id": "mM1EI22Pph6e"
      },
      "execution_count": null,
      "outputs": []
    },
    {
      "cell_type": "code",
      "source": [],
      "metadata": {
        "id": "wOqw2mYe5SAQ"
      },
      "execution_count": null,
      "outputs": []
    },
    {
      "cell_type": "markdown",
      "source": [
        "## Evaluation in detail:"
      ],
      "metadata": {
        "id": "KSgWp_c7dVfC"
      }
    }
  ]
}